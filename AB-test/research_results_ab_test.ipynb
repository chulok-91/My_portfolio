{
 "cells": [
  {
   "cell_type": "markdown",
   "metadata": {},
   "source": [
    "# Оценка результатов А/В-теста"
   ]
  },
  {
   "cell_type": "markdown",
   "metadata": {},
   "source": [
    "В нашем распоряжении датасет с действиями пользователей, несколько вспомогательных датасетов и техническое задание.\n",
    "\n",
    "Цель исследования: оценить корректность проведения теста и проанализировать его результаты.\n",
    "\n",
    "Техническое задание:\n",
    "\n",
    "    Дата запуска: 2020-12-07;\n",
    "    Дата остановки набора новых пользователей: 2020-12-21;\n",
    "    Дата остановки: 2021-01-04;\n",
    "    Ожидаемое количество участников теста: 15% новых пользователей из региона EU;\n",
    "    Назначение теста: тестирование изменений, связанных с внедрением улучшенной рекомендательной системы;\n",
    "    Ожидаемый эффект: за 14 дней с момента регистрации в системе пользователи покажут улучшение каждой метрики не менее, чем на 5 процентных пунктов:\n",
    "    - конверсии в просмотр карточек товаров — событие product_page\n",
    "    - просмотры корзины — product_cart\n",
    "    - покупки — purchase.\n",
    "    \n",
    "Декомпозиция:\n",
    "\n",
    "1 Загрузим данные и подготовим их к анализу\n",
    "\n",
    "    1.1. Выгрузим данные\n",
    "    1.2 Преобразуем тип данных в формат даты и времени\n",
    "2 Оценим корректность проведения теста\n",
    "\n",
    "    2.1 Выделим пользователей участвующих в тесте\n",
    "    2.2 Проверим период набора пользователей в тест\n",
    "    2.3 Проверим регион регистрации пользователей\n",
    "    2.4 Проверим динамику набора пользователей в группы теста и проверьте равномерность распределения пользователей по группам теста и корректность их формирования\n",
    "    2.5 Проверим, что нет пересечений с конкурирующим тестом и нет пользователей, участвующих в двух группах теста одновременно\n",
    "3 Изучим данные о пользовательской активности\n",
    "\n",
    "    3.1 Даты совершения событий участниками теста: совпадают ли они с датами проведения теста, согласно техническому заданию\n",
    "    3.2 Активность пользователей: все ли зарегистрированные пользователи прошли авторизацию и совершали переход по продуктовой воронке; если есть пользователи, которые не совершали событий после регистрации, изучите их количество и распределение между группами теста; сделайте вывод о необходимости учитывать пользователей без событий при изучении результатов теста\n",
    "    3.3 Горизонт анализа: рассчитайте лайфтайм совершения события пользователем после регистрации, оставьте только те события, которые были совершены в первые 14 дней с момента регистрации; проверьте, что все участники теста имели возможность совершать события все 14 дней с момента регистрации, оцените когда пользователи совершают свои первые события каждого вида.\n",
    "    3.4 Представьте развернутый вывод о соответствии теста требованиям технического задания и возможности получения достоверных результатов АБ-теста, исходя из базового показателя конверсии в 50%\n",
    "4 Исследовательский анализ данных\n",
    "\n",
    "    4.1 Распределение количества событий на пользователя в разрезе групп теста: постройте гистограмму распределения этой величины в разрезе групп и сравните её средние значения между собой у групп теста\n",
    "    4.2 Динамика количества событий в группах теста по дням: изучите распределение числа событий по дням и сравните динамику групп теста между собой\n",
    "    4.3 Убедитесь, что время проведения теста не совпадает с маркетинговыми и другими активностями. Настройте автоматическую проверку, выдающую список событий, пересекающихся с тестом. При необходимости оцените воздействие маркетинговых событий на динамику количества событий.\n",
    "    4.4 Продуктовая воронка: постройте простые продуктовые воронки для двух групп теста с учетом логической последовательности совершения событий; изучите изменение конверсии в продуктовой воронке тестовой группы, по сравнению с контрольной: наблюдается ли ожидаемый эффект увеличения конверсии в группе В, относительно конверсии в группе А?\n",
    "    4.5 Общий вывод об изменении пользовательской активности в тестовой группе, по сравнению с контрольной\n",
    "5 Оценка результатов A/B-тестирования\n",
    "\n",
    "    5.1 Проверьте статистическую разницу долей z-критерием.\n",
    "6 Общие выводы и рекомендации"
   ]
  },
  {
   "cell_type": "markdown",
   "metadata": {},
   "source": [
    "## Загрузим данные и подготовим их к анализу"
   ]
  },
  {
   "cell_type": "markdown",
   "metadata": {},
   "source": [
    "### Выгрузим данные"
   ]
  },
  {
   "cell_type": "code",
   "execution_count": 1,
   "metadata": {},
   "outputs": [],
   "source": [
    "import pandas as pd\n",
    "import datetime as dt\n",
    "import seaborn as sns\n",
    "import matplotlib.pyplot as plt\n",
    "import numpy as np\n",
    "import math as mth\n",
    "from scipy import stats as st\n",
    "import plotly.express as px\n",
    "from plotly import graph_objects as go"
   ]
  },
  {
   "cell_type": "code",
   "execution_count": 2,
   "metadata": {},
   "outputs": [],
   "source": [
    "def open_data(data):\n",
    "    display(data.head())\n",
    "    display(data.info())\n",
    "    print('Пропущенных значений:\\n', data.isna().sum())\n",
    "    print('Пропущенных значений в %:\\n', data.isna().mean()*100)\n",
    "    print('Явных дубликатов:', data.duplicated().sum())"
   ]
  },
  {
   "cell_type": "code",
   "execution_count": 3,
   "metadata": {},
   "outputs": [],
   "source": [
    "marketing_events = pd.read_csv('/datasets/ab_project_marketing_events.csv')\n",
    "new_users = pd.read_csv('/datasets/final_ab_new_users.csv')\n",
    "events = pd.read_csv('/datasets/final_ab_events.csv')\n",
    "participants = pd.read_csv('/datasets/final_ab_participants.csv')"
   ]
  },
  {
   "cell_type": "code",
   "execution_count": 4,
   "metadata": {},
   "outputs": [
    {
     "data": {
      "text/html": [
       "<div>\n",
       "<style scoped>\n",
       "    .dataframe tbody tr th:only-of-type {\n",
       "        vertical-align: middle;\n",
       "    }\n",
       "\n",
       "    .dataframe tbody tr th {\n",
       "        vertical-align: top;\n",
       "    }\n",
       "\n",
       "    .dataframe thead th {\n",
       "        text-align: right;\n",
       "    }\n",
       "</style>\n",
       "<table border=\"1\" class=\"dataframe\">\n",
       "  <thead>\n",
       "    <tr style=\"text-align: right;\">\n",
       "      <th></th>\n",
       "      <th>name</th>\n",
       "      <th>regions</th>\n",
       "      <th>start_dt</th>\n",
       "      <th>finish_dt</th>\n",
       "    </tr>\n",
       "  </thead>\n",
       "  <tbody>\n",
       "    <tr>\n",
       "      <th>0</th>\n",
       "      <td>Christmas&amp;New Year Promo</td>\n",
       "      <td>EU, N.America</td>\n",
       "      <td>2020-12-25</td>\n",
       "      <td>2021-01-03</td>\n",
       "    </tr>\n",
       "    <tr>\n",
       "      <th>1</th>\n",
       "      <td>St. Valentine's Day Giveaway</td>\n",
       "      <td>EU, CIS, APAC, N.America</td>\n",
       "      <td>2020-02-14</td>\n",
       "      <td>2020-02-16</td>\n",
       "    </tr>\n",
       "    <tr>\n",
       "      <th>2</th>\n",
       "      <td>St. Patric's Day Promo</td>\n",
       "      <td>EU, N.America</td>\n",
       "      <td>2020-03-17</td>\n",
       "      <td>2020-03-19</td>\n",
       "    </tr>\n",
       "    <tr>\n",
       "      <th>3</th>\n",
       "      <td>Easter Promo</td>\n",
       "      <td>EU, CIS, APAC, N.America</td>\n",
       "      <td>2020-04-12</td>\n",
       "      <td>2020-04-19</td>\n",
       "    </tr>\n",
       "    <tr>\n",
       "      <th>4</th>\n",
       "      <td>4th of July Promo</td>\n",
       "      <td>N.America</td>\n",
       "      <td>2020-07-04</td>\n",
       "      <td>2020-07-11</td>\n",
       "    </tr>\n",
       "  </tbody>\n",
       "</table>\n",
       "</div>"
      ],
      "text/plain": [
       "                           name                   regions    start_dt  \\\n",
       "0      Christmas&New Year Promo             EU, N.America  2020-12-25   \n",
       "1  St. Valentine's Day Giveaway  EU, CIS, APAC, N.America  2020-02-14   \n",
       "2        St. Patric's Day Promo             EU, N.America  2020-03-17   \n",
       "3                  Easter Promo  EU, CIS, APAC, N.America  2020-04-12   \n",
       "4             4th of July Promo                 N.America  2020-07-04   \n",
       "\n",
       "    finish_dt  \n",
       "0  2021-01-03  \n",
       "1  2020-02-16  \n",
       "2  2020-03-19  \n",
       "3  2020-04-19  \n",
       "4  2020-07-11  "
      ]
     },
     "metadata": {},
     "output_type": "display_data"
    },
    {
     "name": "stdout",
     "output_type": "stream",
     "text": [
      "<class 'pandas.core.frame.DataFrame'>\n",
      "RangeIndex: 14 entries, 0 to 13\n",
      "Data columns (total 4 columns):\n",
      " #   Column     Non-Null Count  Dtype \n",
      "---  ------     --------------  ----- \n",
      " 0   name       14 non-null     object\n",
      " 1   regions    14 non-null     object\n",
      " 2   start_dt   14 non-null     object\n",
      " 3   finish_dt  14 non-null     object\n",
      "dtypes: object(4)\n",
      "memory usage: 576.0+ bytes\n"
     ]
    },
    {
     "data": {
      "text/plain": [
       "None"
      ]
     },
     "metadata": {},
     "output_type": "display_data"
    },
    {
     "name": "stdout",
     "output_type": "stream",
     "text": [
      "Пропущенных значений:\n",
      " name         0\n",
      "regions      0\n",
      "start_dt     0\n",
      "finish_dt    0\n",
      "dtype: int64\n",
      "Пропущенных значений в %:\n",
      " name         0.0\n",
      "regions      0.0\n",
      "start_dt     0.0\n",
      "finish_dt    0.0\n",
      "dtype: float64\n",
      "Явных дубликатов: 0\n"
     ]
    },
    {
     "data": {
      "text/html": [
       "<div>\n",
       "<style scoped>\n",
       "    .dataframe tbody tr th:only-of-type {\n",
       "        vertical-align: middle;\n",
       "    }\n",
       "\n",
       "    .dataframe tbody tr th {\n",
       "        vertical-align: top;\n",
       "    }\n",
       "\n",
       "    .dataframe thead th {\n",
       "        text-align: right;\n",
       "    }\n",
       "</style>\n",
       "<table border=\"1\" class=\"dataframe\">\n",
       "  <thead>\n",
       "    <tr style=\"text-align: right;\">\n",
       "      <th></th>\n",
       "      <th>user_id</th>\n",
       "      <th>first_date</th>\n",
       "      <th>region</th>\n",
       "      <th>device</th>\n",
       "    </tr>\n",
       "  </thead>\n",
       "  <tbody>\n",
       "    <tr>\n",
       "      <th>0</th>\n",
       "      <td>D72A72121175D8BE</td>\n",
       "      <td>2020-12-07</td>\n",
       "      <td>EU</td>\n",
       "      <td>PC</td>\n",
       "    </tr>\n",
       "    <tr>\n",
       "      <th>1</th>\n",
       "      <td>F1C668619DFE6E65</td>\n",
       "      <td>2020-12-07</td>\n",
       "      <td>N.America</td>\n",
       "      <td>Android</td>\n",
       "    </tr>\n",
       "    <tr>\n",
       "      <th>2</th>\n",
       "      <td>2E1BF1D4C37EA01F</td>\n",
       "      <td>2020-12-07</td>\n",
       "      <td>EU</td>\n",
       "      <td>PC</td>\n",
       "    </tr>\n",
       "    <tr>\n",
       "      <th>3</th>\n",
       "      <td>50734A22C0C63768</td>\n",
       "      <td>2020-12-07</td>\n",
       "      <td>EU</td>\n",
       "      <td>iPhone</td>\n",
       "    </tr>\n",
       "    <tr>\n",
       "      <th>4</th>\n",
       "      <td>E1BDDCE0DAFA2679</td>\n",
       "      <td>2020-12-07</td>\n",
       "      <td>N.America</td>\n",
       "      <td>iPhone</td>\n",
       "    </tr>\n",
       "  </tbody>\n",
       "</table>\n",
       "</div>"
      ],
      "text/plain": [
       "            user_id  first_date     region   device\n",
       "0  D72A72121175D8BE  2020-12-07         EU       PC\n",
       "1  F1C668619DFE6E65  2020-12-07  N.America  Android\n",
       "2  2E1BF1D4C37EA01F  2020-12-07         EU       PC\n",
       "3  50734A22C0C63768  2020-12-07         EU   iPhone\n",
       "4  E1BDDCE0DAFA2679  2020-12-07  N.America   iPhone"
      ]
     },
     "metadata": {},
     "output_type": "display_data"
    },
    {
     "name": "stdout",
     "output_type": "stream",
     "text": [
      "<class 'pandas.core.frame.DataFrame'>\n",
      "RangeIndex: 61733 entries, 0 to 61732\n",
      "Data columns (total 4 columns):\n",
      " #   Column      Non-Null Count  Dtype \n",
      "---  ------      --------------  ----- \n",
      " 0   user_id     61733 non-null  object\n",
      " 1   first_date  61733 non-null  object\n",
      " 2   region      61733 non-null  object\n",
      " 3   device      61733 non-null  object\n",
      "dtypes: object(4)\n",
      "memory usage: 1.9+ MB\n"
     ]
    },
    {
     "data": {
      "text/plain": [
       "None"
      ]
     },
     "metadata": {},
     "output_type": "display_data"
    },
    {
     "name": "stdout",
     "output_type": "stream",
     "text": [
      "Пропущенных значений:\n",
      " user_id       0\n",
      "first_date    0\n",
      "region        0\n",
      "device        0\n",
      "dtype: int64\n",
      "Пропущенных значений в %:\n",
      " user_id       0.0\n",
      "first_date    0.0\n",
      "region        0.0\n",
      "device        0.0\n",
      "dtype: float64\n",
      "Явных дубликатов: 0\n"
     ]
    },
    {
     "data": {
      "text/html": [
       "<div>\n",
       "<style scoped>\n",
       "    .dataframe tbody tr th:only-of-type {\n",
       "        vertical-align: middle;\n",
       "    }\n",
       "\n",
       "    .dataframe tbody tr th {\n",
       "        vertical-align: top;\n",
       "    }\n",
       "\n",
       "    .dataframe thead th {\n",
       "        text-align: right;\n",
       "    }\n",
       "</style>\n",
       "<table border=\"1\" class=\"dataframe\">\n",
       "  <thead>\n",
       "    <tr style=\"text-align: right;\">\n",
       "      <th></th>\n",
       "      <th>user_id</th>\n",
       "      <th>event_dt</th>\n",
       "      <th>event_name</th>\n",
       "      <th>details</th>\n",
       "    </tr>\n",
       "  </thead>\n",
       "  <tbody>\n",
       "    <tr>\n",
       "      <th>0</th>\n",
       "      <td>E1BDDCE0DAFA2679</td>\n",
       "      <td>2020-12-07 20:22:03</td>\n",
       "      <td>purchase</td>\n",
       "      <td>99.99</td>\n",
       "    </tr>\n",
       "    <tr>\n",
       "      <th>1</th>\n",
       "      <td>7B6452F081F49504</td>\n",
       "      <td>2020-12-07 09:22:53</td>\n",
       "      <td>purchase</td>\n",
       "      <td>9.99</td>\n",
       "    </tr>\n",
       "    <tr>\n",
       "      <th>2</th>\n",
       "      <td>9CD9F34546DF254C</td>\n",
       "      <td>2020-12-07 12:59:29</td>\n",
       "      <td>purchase</td>\n",
       "      <td>4.99</td>\n",
       "    </tr>\n",
       "    <tr>\n",
       "      <th>3</th>\n",
       "      <td>96F27A054B191457</td>\n",
       "      <td>2020-12-07 04:02:40</td>\n",
       "      <td>purchase</td>\n",
       "      <td>4.99</td>\n",
       "    </tr>\n",
       "    <tr>\n",
       "      <th>4</th>\n",
       "      <td>1FD7660FDF94CA1F</td>\n",
       "      <td>2020-12-07 10:15:09</td>\n",
       "      <td>purchase</td>\n",
       "      <td>4.99</td>\n",
       "    </tr>\n",
       "  </tbody>\n",
       "</table>\n",
       "</div>"
      ],
      "text/plain": [
       "            user_id             event_dt event_name  details\n",
       "0  E1BDDCE0DAFA2679  2020-12-07 20:22:03   purchase    99.99\n",
       "1  7B6452F081F49504  2020-12-07 09:22:53   purchase     9.99\n",
       "2  9CD9F34546DF254C  2020-12-07 12:59:29   purchase     4.99\n",
       "3  96F27A054B191457  2020-12-07 04:02:40   purchase     4.99\n",
       "4  1FD7660FDF94CA1F  2020-12-07 10:15:09   purchase     4.99"
      ]
     },
     "metadata": {},
     "output_type": "display_data"
    },
    {
     "name": "stdout",
     "output_type": "stream",
     "text": [
      "<class 'pandas.core.frame.DataFrame'>\n",
      "RangeIndex: 440317 entries, 0 to 440316\n",
      "Data columns (total 4 columns):\n",
      " #   Column      Non-Null Count   Dtype  \n",
      "---  ------      --------------   -----  \n",
      " 0   user_id     440317 non-null  object \n",
      " 1   event_dt    440317 non-null  object \n",
      " 2   event_name  440317 non-null  object \n",
      " 3   details     62740 non-null   float64\n",
      "dtypes: float64(1), object(3)\n",
      "memory usage: 13.4+ MB\n"
     ]
    },
    {
     "data": {
      "text/plain": [
       "None"
      ]
     },
     "metadata": {},
     "output_type": "display_data"
    },
    {
     "name": "stdout",
     "output_type": "stream",
     "text": [
      "Пропущенных значений:\n",
      " user_id            0\n",
      "event_dt           0\n",
      "event_name         0\n",
      "details       377577\n",
      "dtype: int64\n",
      "Пропущенных значений в %:\n",
      " user_id        0.000000\n",
      "event_dt       0.000000\n",
      "event_name     0.000000\n",
      "details       85.751175\n",
      "dtype: float64\n",
      "Явных дубликатов: 0\n"
     ]
    },
    {
     "data": {
      "text/html": [
       "<div>\n",
       "<style scoped>\n",
       "    .dataframe tbody tr th:only-of-type {\n",
       "        vertical-align: middle;\n",
       "    }\n",
       "\n",
       "    .dataframe tbody tr th {\n",
       "        vertical-align: top;\n",
       "    }\n",
       "\n",
       "    .dataframe thead th {\n",
       "        text-align: right;\n",
       "    }\n",
       "</style>\n",
       "<table border=\"1\" class=\"dataframe\">\n",
       "  <thead>\n",
       "    <tr style=\"text-align: right;\">\n",
       "      <th></th>\n",
       "      <th>user_id</th>\n",
       "      <th>group</th>\n",
       "      <th>ab_test</th>\n",
       "    </tr>\n",
       "  </thead>\n",
       "  <tbody>\n",
       "    <tr>\n",
       "      <th>0</th>\n",
       "      <td>D1ABA3E2887B6A73</td>\n",
       "      <td>A</td>\n",
       "      <td>recommender_system_test</td>\n",
       "    </tr>\n",
       "    <tr>\n",
       "      <th>1</th>\n",
       "      <td>A7A3664BD6242119</td>\n",
       "      <td>A</td>\n",
       "      <td>recommender_system_test</td>\n",
       "    </tr>\n",
       "    <tr>\n",
       "      <th>2</th>\n",
       "      <td>DABC14FDDFADD29E</td>\n",
       "      <td>A</td>\n",
       "      <td>recommender_system_test</td>\n",
       "    </tr>\n",
       "    <tr>\n",
       "      <th>3</th>\n",
       "      <td>04988C5DF189632E</td>\n",
       "      <td>A</td>\n",
       "      <td>recommender_system_test</td>\n",
       "    </tr>\n",
       "    <tr>\n",
       "      <th>4</th>\n",
       "      <td>482F14783456D21B</td>\n",
       "      <td>B</td>\n",
       "      <td>recommender_system_test</td>\n",
       "    </tr>\n",
       "  </tbody>\n",
       "</table>\n",
       "</div>"
      ],
      "text/plain": [
       "            user_id group                  ab_test\n",
       "0  D1ABA3E2887B6A73     A  recommender_system_test\n",
       "1  A7A3664BD6242119     A  recommender_system_test\n",
       "2  DABC14FDDFADD29E     A  recommender_system_test\n",
       "3  04988C5DF189632E     A  recommender_system_test\n",
       "4  482F14783456D21B     B  recommender_system_test"
      ]
     },
     "metadata": {},
     "output_type": "display_data"
    },
    {
     "name": "stdout",
     "output_type": "stream",
     "text": [
      "<class 'pandas.core.frame.DataFrame'>\n",
      "RangeIndex: 18268 entries, 0 to 18267\n",
      "Data columns (total 3 columns):\n",
      " #   Column   Non-Null Count  Dtype \n",
      "---  ------   --------------  ----- \n",
      " 0   user_id  18268 non-null  object\n",
      " 1   group    18268 non-null  object\n",
      " 2   ab_test  18268 non-null  object\n",
      "dtypes: object(3)\n",
      "memory usage: 428.3+ KB\n"
     ]
    },
    {
     "data": {
      "text/plain": [
       "None"
      ]
     },
     "metadata": {},
     "output_type": "display_data"
    },
    {
     "name": "stdout",
     "output_type": "stream",
     "text": [
      "Пропущенных значений:\n",
      " user_id    0\n",
      "group      0\n",
      "ab_test    0\n",
      "dtype: int64\n",
      "Пропущенных значений в %:\n",
      " user_id    0.0\n",
      "group      0.0\n",
      "ab_test    0.0\n",
      "dtype: float64\n",
      "Явных дубликатов: 0\n"
     ]
    }
   ],
   "source": [
    "datasets = [marketing_events, new_users, events, participants]\n",
    "\n",
    "for data in datasets:\n",
    "    open_data(data)"
   ]
  },
  {
   "cell_type": "markdown",
   "metadata": {},
   "source": [
    "**Выводы** Основная информация о каждом датасете:\n",
    "1) marketing_events - календарь маркетинговых событий на 2020 год. Содержит 4 столбца и 14 записей. Пропусков и явных дубликатов не обнаружено. Столбцы 'start_dt' и 'finish_dt' имеют тип данных object. Их необходимо переформатитровать в дату.\n",
    "\n",
    "2) new_users - все пользователи, зарегистрировавшиеся в интернет-магазине в период с 7 по 21 декабря 2020 года. Содержит 4 столбца и 61733 записей. Пропусков и явных дубликатов не обнаружено. Столбец 'first_date' необходимо переформатировать в формат даты. Также следует проверить период дат.\n",
    "\n",
    "3) events - все события новых пользователей в период с 7 декабря 2020 по 4 января 2021 года. Содержит 4 столбца и 440317 записей. Пропущенных значений в столбце 'details' 85,75%. Этот столбец содержит дополнительные данные о событии. Пропуски означают отсуствие дополнительной информации. Пропуски заполнять не надо. Явных дубликатов не обнаружено. Столбец 'event_dt' необходимо изменить тип данных на дату и время.\n",
    "\n",
    "4) participants - таблица участников тестов. Содержит 3 столбца и 18268 записей. Пропусков и явных дубликатов не обнаружено. Формат всех столбцов корректен, преобразования не требует."
   ]
  },
  {
   "cell_type": "markdown",
   "metadata": {},
   "source": [
    "### Преобразуем тип данных в формат даты и времени"
   ]
  },
  {
   "cell_type": "code",
   "execution_count": 5,
   "metadata": {},
   "outputs": [],
   "source": [
    "marketing_events['start_dt'] = pd.to_datetime(marketing_events['start_dt'])\n",
    "marketing_events['finish_dt'] = pd.to_datetime(marketing_events['finish_dt'])\n",
    "new_users['first_date'] = pd.to_datetime(new_users['first_date'])\n",
    "events['event_dt'] = pd.to_datetime(events['event_dt'])"
   ]
  },
  {
   "cell_type": "markdown",
   "metadata": {},
   "source": [
    "## Оценим корректность проведения теста"
   ]
  },
  {
   "cell_type": "markdown",
   "metadata": {},
   "source": [
    "### Выделим пользователей участвующих в тесте"
   ]
  },
  {
   "cell_type": "markdown",
   "metadata": {},
   "source": [
    "Посмотрим, сколько участников каждого теста в датасете participants."
   ]
  },
  {
   "cell_type": "code",
   "execution_count": 6,
   "metadata": {},
   "outputs": [
    {
     "data": {
      "text/plain": [
       "interface_eu_test          11567\n",
       "recommender_system_test     6701\n",
       "Name: ab_test, dtype: int64"
      ]
     },
     "execution_count": 6,
     "metadata": {},
     "output_type": "execute_result"
    }
   ],
   "source": [
    "participants['ab_test'].value_counts()"
   ]
  },
  {
   "cell_type": "markdown",
   "metadata": {},
   "source": [
    "Согласно ТЗ наш тест называется 'recommender_system_test'. Выделим из таблицы участников тестов пользователей, участвующих в нашем тесте."
   ]
  },
  {
   "cell_type": "code",
   "execution_count": 7,
   "metadata": {},
   "outputs": [
    {
     "name": "stdout",
     "output_type": "stream",
     "text": [
      "В результате в таблице участников тестов осталось 6701 участников.\n"
     ]
    }
   ],
   "source": [
    "recommender_system_test = participants.query('ab_test == \"recommender_system_test\"')\n",
    "\n",
    "print('В результате в таблице участников тестов осталось', recommender_system_test['user_id'].nunique(), 'участников.')"
   ]
  },
  {
   "cell_type": "markdown",
   "metadata": {},
   "source": [
    "### Проверим период набора пользователей в тест"
   ]
  },
  {
   "cell_type": "markdown",
   "metadata": {},
   "source": [
    "Согласно ТЗ дата запуска теста 2020-12-07, дата остановки набора новых пользователей 2020-12-21."
   ]
  },
  {
   "cell_type": "code",
   "execution_count": 8,
   "metadata": {},
   "outputs": [
    {
     "name": "stdout",
     "output_type": "stream",
     "text": [
      "Дата набора новых пользователей: 2020-12-07 00:00:00\n"
     ]
    }
   ],
   "source": [
    "print('Дата набора новых пользователей:', new_users['first_date'].min())"
   ]
  },
  {
   "cell_type": "code",
   "execution_count": 9,
   "metadata": {},
   "outputs": [
    {
     "name": "stdout",
     "output_type": "stream",
     "text": [
      "Дата остановки набора новых пользователей: 2020-12-23 00:00:00\n"
     ]
    }
   ],
   "source": [
    "print('Дата остановки набора новых пользователей:', new_users['first_date'].max())"
   ]
  },
  {
   "cell_type": "markdown",
   "metadata": {},
   "source": [
    "Минимальная дата соответствует, а максимальная больше нужной. Удалим из датасета новых пользователей, которые зарегистрировались после 2020-12-21."
   ]
  },
  {
   "cell_type": "code",
   "execution_count": 10,
   "metadata": {},
   "outputs": [],
   "source": [
    "max_time = '2020-12-21'\n",
    "new_users = new_users.query('first_date <= @max_time')"
   ]
  },
  {
   "cell_type": "markdown",
   "metadata": {},
   "source": [
    "**Вывод:** Данные не соответствуют техническому заданию: дата остановки набора новых пользователей 2020-12-23, а по техническому заданию 2020-12-21. "
   ]
  },
  {
   "cell_type": "markdown",
   "metadata": {},
   "source": [
    "### Проверим регион регистрации пользователей"
   ]
  },
  {
   "cell_type": "markdown",
   "metadata": {},
   "source": [
    "Отберем пользователей из таблицы new_users из целевого региона."
   ]
  },
  {
   "cell_type": "code",
   "execution_count": 11,
   "metadata": {},
   "outputs": [
    {
     "name": "stdout",
     "output_type": "stream",
     "text": [
      "Общее количество пользователей из целевого региона EU составляет: 42340\n"
     ]
    }
   ],
   "source": [
    "new_users = new_users.query('region == \"EU\"')\n",
    "\n",
    "print('Общее количество пользователей из целевого региона EU составляет:', new_users['user_id'].nunique())"
   ]
  },
  {
   "cell_type": "markdown",
   "metadata": {},
   "source": [
    "Объединим таблицы participants и new_users и узнаем количество участников из целевого региона."
   ]
  },
  {
   "cell_type": "code",
   "execution_count": 12,
   "metadata": {},
   "outputs": [
    {
     "name": "stdout",
     "output_type": "stream",
     "text": [
      "Количество участников из целевого региона 6351 что составляет, 15.0 %.\n"
     ]
    }
   ],
   "source": [
    "data = recommender_system_test.merge(new_users, on='user_id', how='inner')\n",
    "\n",
    "print('Количество участников из целевого региона', data['user_id'].nunique(), 'что составляет,', data['user_id'].nunique()/new_users['user_id'].nunique()*100, '%.')"
   ]
  },
  {
   "cell_type": "markdown",
   "metadata": {},
   "source": [
    "**Вывод:** Условие ТЗ, что ожидаемое количество участников теста 15% новых пользователей из региона EU, выполняется."
   ]
  },
  {
   "cell_type": "markdown",
   "metadata": {},
   "source": [
    "### Проверим динамику набора пользователей в группы теста и проверьте равномерность распределения пользователей по группам теста и корректность их формирования"
   ]
  },
  {
   "cell_type": "code",
   "execution_count": 13,
   "metadata": {},
   "outputs": [
    {
     "data": {
      "image/png": "[encoded data removed]",
      "text/plain": [
       "<Figure size 720x504 with 1 Axes>"
      ]
     },
     "metadata": {
      "needs_background": "light"
     },
     "output_type": "display_data"
    },
    {
     "data": {
      "image/png": "[encoded data removed]",
      "text/plain": [
       "<Figure size 720x504 with 1 Axes>"
      ]
     },
     "metadata": {
      "needs_background": "light"
     },
     "output_type": "display_data"
    }
   ],
   "source": [
    "a_b_user_id = data.groupby(['first_date', 'group']).agg({'user_id':['count']}).reset_index()\n",
    "a_b_user_id.columns = ['first_date', 'group', 'count']\n",
    "a_b_user_id['weekday'] = a_b_user_id['first_date'].dt.weekday\n",
    "a_b_user_id['first_date'] = pd.to_datetime(a_b_user_id['first_date']).dt.date\n",
    "\n",
    "plt.figure(figsize=(10,7))\n",
    "sns.barplot(x='first_date', y='count', hue='group', data=a_b_user_id)\n",
    "plt.title('Динамика набора пользователей в группы теста')\n",
    "plt.xlabel('')\n",
    "plt.ylabel('Количество пользователей')\n",
    "plt.legend(title='группа')\n",
    "plt.xticks(rotation=60)\n",
    "plt.show()\n",
    "\n",
    "plt.figure(figsize=(10,7))\n",
    "sns.barplot(x='weekday', y='count', hue='group', data=a_b_user_id)\n",
    "plt.title('Недельная цикличность набора пользователей в группы')\n",
    "plt.xlabel('День недели')\n",
    "plt.ylabel('Количество пользователей')\n",
    "plt.legend(title='группа')\n",
    "plt.show()"
   ]
  },
  {
   "cell_type": "markdown",
   "metadata": {},
   "source": [
    "**Вывод:** Из графиков видно, что в группу А пользователей набиралось больше на протяжении всего периода. Больше всего пользователей набиралось в понедельник. В середине недели динамика падала, и увеличивалась к субботе и воскресенью."
   ]
  },
  {
   "cell_type": "markdown",
   "metadata": {},
   "source": [
    "### Проверим, что нет пересечений с конкурирующим тестом и нет пользователей, участвующих в двух группах теста одновременно"
   ]
  },
  {
   "cell_type": "markdown",
   "metadata": {},
   "source": [
    "Выделим пользователей конкурирующего теста из группы В, так как на них оказывалось влияние в результате теста."
   ]
  },
  {
   "cell_type": "code",
   "execution_count": 14,
   "metadata": {},
   "outputs": [],
   "source": [
    "interface_eu_test_B = participants[(participants['ab_test'] == 'interface_eu_test') & (participants['group'] == 'B')]"
   ]
  },
  {
   "cell_type": "markdown",
   "metadata": {},
   "source": [
    "Выделим в отдельный датасет пользователей из группы В конкурирующего тест, которые попали также в наш тест."
   ]
  },
  {
   "cell_type": "code",
   "execution_count": 15,
   "metadata": {},
   "outputs": [],
   "source": [
    "repeat_users = data[data['user_id'].isin(interface_eu_test_B['user_id'].values)]"
   ]
  },
  {
   "cell_type": "markdown",
   "metadata": {},
   "source": [
    "Проанализируем как распределены группы А и В нашего теста. И узнаем, как пользователи из конкурируещего теста группы В распределены между группами нашего тест. "
   ]
  },
  {
   "cell_type": "code",
   "execution_count": 16,
   "metadata": {},
   "outputs": [
    {
     "data": {
      "text/html": [
       "<div>\n",
       "<style scoped>\n",
       "    .dataframe tbody tr th:only-of-type {\n",
       "        vertical-align: middle;\n",
       "    }\n",
       "\n",
       "    .dataframe tbody tr th {\n",
       "        vertical-align: top;\n",
       "    }\n",
       "\n",
       "    .dataframe thead th {\n",
       "        text-align: right;\n",
       "    }\n",
       "</style>\n",
       "<table border=\"1\" class=\"dataframe\">\n",
       "  <thead>\n",
       "    <tr style=\"text-align: right;\">\n",
       "      <th></th>\n",
       "      <th>group</th>\n",
       "      <th>user_id</th>\n",
       "    </tr>\n",
       "  </thead>\n",
       "  <tbody>\n",
       "    <tr>\n",
       "      <th>0</th>\n",
       "      <td>A</td>\n",
       "      <td>3634</td>\n",
       "    </tr>\n",
       "    <tr>\n",
       "      <th>1</th>\n",
       "      <td>B</td>\n",
       "      <td>2717</td>\n",
       "    </tr>\n",
       "  </tbody>\n",
       "</table>\n",
       "</div>"
      ],
      "text/plain": [
       "  group  user_id\n",
       "0     A     3634\n",
       "1     B     2717"
      ]
     },
     "execution_count": 16,
     "metadata": {},
     "output_type": "execute_result"
    }
   ],
   "source": [
    "a_b_group = (\n",
    "    data\n",
    "    .groupby('group')\n",
    "    .agg({'user_id':'nunique'})\n",
    "    .reset_index()\n",
    ")\n",
    "\n",
    "a_b_group"
   ]
  },
  {
   "cell_type": "code",
   "execution_count": 17,
   "metadata": {},
   "outputs": [
    {
     "data": {
      "text/html": [
       "<div>\n",
       "<style scoped>\n",
       "    .dataframe tbody tr th:only-of-type {\n",
       "        vertical-align: middle;\n",
       "    }\n",
       "\n",
       "    .dataframe tbody tr th {\n",
       "        vertical-align: top;\n",
       "    }\n",
       "\n",
       "    .dataframe thead th {\n",
       "        text-align: right;\n",
       "    }\n",
       "</style>\n",
       "<table border=\"1\" class=\"dataframe\">\n",
       "  <thead>\n",
       "    <tr style=\"text-align: right;\">\n",
       "      <th></th>\n",
       "      <th>group</th>\n",
       "      <th>user_id</th>\n",
       "    </tr>\n",
       "  </thead>\n",
       "  <tbody>\n",
       "    <tr>\n",
       "      <th>0</th>\n",
       "      <td>A</td>\n",
       "      <td>439</td>\n",
       "    </tr>\n",
       "    <tr>\n",
       "      <th>1</th>\n",
       "      <td>B</td>\n",
       "      <td>344</td>\n",
       "    </tr>\n",
       "  </tbody>\n",
       "</table>\n",
       "</div>"
      ],
      "text/plain": [
       "  group  user_id\n",
       "0     A      439\n",
       "1     B      344"
      ]
     },
     "execution_count": 17,
     "metadata": {},
     "output_type": "execute_result"
    }
   ],
   "source": [
    "bad_users = (\n",
    "    data[data['user_id'].isin(repeat_users['user_id'])]\n",
    "    .groupby('group')\n",
    "    .agg({'user_id':'nunique'})\n",
    "    .reset_index()\n",
    ")\n",
    "\n",
    "bad_users"
   ]
  },
  {
   "cell_type": "markdown",
   "metadata": {},
   "source": [
    "Проведем z-тест и проверим гипотезу о равенстве пропорций из пользователей группы В конкурирующего теста в группе А и В нашего теста.\n",
    "\n",
    "Нулевая гипотеза (H0): Доли посетителей одинаковы.\n",
    "\n",
    "Альтернативная гипотеза (H1): Доли посетитей не одинаковы."
   ]
  },
  {
   "cell_type": "code",
   "execution_count": 18,
   "metadata": {},
   "outputs": [
    {
     "name": "stdout",
     "output_type": "stream",
     "text": [
      "p-значение:  [0.48617918]\n",
      "Не получилось отвергнуть нулевую гипотезу, нет оснований считать доли разными\n"
     ]
    }
   ],
   "source": [
    "alpha = 0.05\n",
    "\n",
    "repeat_users = np.array([bad_users[bad_users['group']=='A']['user_id'], bad_users[bad_users['group']=='B']['user_id']])\n",
    "system_test = np.array([a_b_group[a_b_group['group']=='A']['user_id'], a_b_group[a_b_group['group']=='B']['user_id']])\n",
    "\n",
    "p1 = repeat_users[0]/system_test[0]\n",
    "\n",
    "\n",
    "p2 = repeat_users[1]/system_test[1]\n",
    "\n",
    "p_combined = (repeat_users[0] + repeat_users[1]) / (system_test[0] + system_test[1])\n",
    "\n",
    "difference = p1 - p2\n",
    "\n",
    "z_value = difference / mth.sqrt(p_combined * (1 - p_combined) * (1/system_test[0] + 1/system_test[1]))\n",
    "\n",
    "distr = st.norm(0, 1)\n",
    "\n",
    "p_value = (1 - distr.cdf(abs(z_value))) * 2\n",
    "\n",
    "print('p-значение: ', p_value)\n",
    "\n",
    "if p_value < alpha:\n",
    "    print('Отвергаем нулевую гипотезу: между долями есть значимая разница')\n",
    "else:\n",
    "    print(\n",
    "        'Не получилось отвергнуть нулевую гипотезу, нет оснований считать доли разными'\n",
    "    )"
   ]
  },
  {
   "cell_type": "markdown",
   "metadata": {},
   "source": [
    "Проверим нет ли пользователей, участвующих в двух тестах одновременно."
   ]
  },
  {
   "cell_type": "code",
   "execution_count": 19,
   "metadata": {},
   "outputs": [
    {
     "data": {
      "text/plain": [
       "0"
      ]
     },
     "execution_count": 19,
     "metadata": {},
     "output_type": "execute_result"
    }
   ],
   "source": [
    "users = data.groupby('user_id').agg({'group':'nunique'})\n",
    "bad_users = users.query('group > 1')\n",
    "bad_users.shape[0]"
   ]
  },
  {
   "cell_type": "markdown",
   "metadata": {},
   "source": [
    "Все верно, пользователи в каждой группе уникальны."
   ]
  },
  {
   "cell_type": "markdown",
   "metadata": {},
   "source": [
    "**Вывод:** Доли в двух группах распределены равномерно. Значит их влияние на поведение можно считать одинаковым в двух группах нашего теста. Оставим их для анализа."
   ]
  },
  {
   "cell_type": "markdown",
   "metadata": {},
   "source": [
    "## Изучим данные о пользовательской активности"
   ]
  },
  {
   "cell_type": "markdown",
   "metadata": {},
   "source": [
    "### Даты совершения событий участниками теста: совпадают ли они с датами проведения теста, согласно техническому заданию"
   ]
  },
  {
   "cell_type": "code",
   "execution_count": 20,
   "metadata": {},
   "outputs": [
    {
     "name": "stdout",
     "output_type": "stream",
     "text": [
      "Самое раннее событие: 2020-12-07 00:00:33\n"
     ]
    }
   ],
   "source": [
    "print('Самое раннее событие:', events['event_dt'].min())"
   ]
  },
  {
   "cell_type": "code",
   "execution_count": 21,
   "metadata": {},
   "outputs": [
    {
     "name": "stdout",
     "output_type": "stream",
     "text": [
      "Самое позднее событие: 2020-12-30 23:36:33\n"
     ]
    }
   ],
   "source": [
    "print('Самое позднее событие:', events['event_dt'].max())"
   ]
  },
  {
   "cell_type": "markdown",
   "metadata": {},
   "source": [
    "**Вывод:** Данные не соответствуют технического заданию: последнее событие в датасете за 2020-12-30 23:36:33, а в техническом задании окончание теста 2021-01-04."
   ]
  },
  {
   "cell_type": "markdown",
   "metadata": {},
   "source": [
    "### Активность пользователей: все ли зарегистрированные пользователи прошли авторизацию и совершали переход по продуктовой воронке; если есть пользователи, которые не совершали событий после регистрации, изучите их количество и распределение между группами теста; сделайте вывод о необходимости учитывать пользователей без событий при изучении результатов теста"
   ]
  },
  {
   "cell_type": "markdown",
   "metadata": {},
   "source": [
    "Найдем пользователей, которые не совершали никаких событий."
   ]
  },
  {
   "cell_type": "code",
   "execution_count": 22,
   "metadata": {},
   "outputs": [
    {
     "name": "stdout",
     "output_type": "stream",
     "text": [
      "Неактивных пользователей: 2870\n",
      "Доля неактивных пользователей: 45.19%\n",
      "Рспределены по группам:\n"
     ]
    },
    {
     "data": {
      "text/html": [
       "<div>\n",
       "<style scoped>\n",
       "    .dataframe tbody tr th:only-of-type {\n",
       "        vertical-align: middle;\n",
       "    }\n",
       "\n",
       "    .dataframe tbody tr th {\n",
       "        vertical-align: top;\n",
       "    }\n",
       "\n",
       "    .dataframe thead th {\n",
       "        text-align: right;\n",
       "    }\n",
       "</style>\n",
       "<table border=\"1\" class=\"dataframe\">\n",
       "  <thead>\n",
       "    <tr style=\"text-align: right;\">\n",
       "      <th></th>\n",
       "      <th>user_id</th>\n",
       "    </tr>\n",
       "    <tr>\n",
       "      <th>group</th>\n",
       "      <th></th>\n",
       "    </tr>\n",
       "  </thead>\n",
       "  <tbody>\n",
       "    <tr>\n",
       "      <th>A</th>\n",
       "      <td>1030</td>\n",
       "    </tr>\n",
       "    <tr>\n",
       "      <th>B</th>\n",
       "      <td>1840</td>\n",
       "    </tr>\n",
       "  </tbody>\n",
       "</table>\n",
       "</div>"
      ],
      "text/plain": [
       "       user_id\n",
       "group         \n",
       "A         1030\n",
       "B         1840"
      ]
     },
     "execution_count": 22,
     "metadata": {},
     "output_type": "execute_result"
    }
   ],
   "source": [
    "inactive_users = data[~(data['user_id'].isin(events['user_id']))]\n",
    "\n",
    "print('Неактивных пользователей:', inactive_users['user_id'].nunique())\n",
    "print('Доля неактивных пользователей: {:.2%}'.format(inactive_users['user_id'].nunique()/data['user_id'].nunique()))\n",
    "print('Рспределены по группам:')\n",
    "inactive_users.groupby('group').agg({'user_id':'nunique'})"
   ]
  },
  {
   "cell_type": "code",
   "execution_count": 23,
   "metadata": {},
   "outputs": [
    {
     "name": "stdout",
     "output_type": "stream",
     "text": [
      "Доля неактивных пользователей в группе А: 28.34%\n",
      "Доля неактивных пользователей в группе B: 67.72%\n"
     ]
    }
   ],
   "source": [
    "print('Доля неактивных пользователей в группе А: {:.2%}'.format(inactive_users[inactive_users['group']== 'A']['user_id'].nunique()/\n",
    "     data[data['group']== 'A']['user_id'].nunique()))\n",
    "\n",
    "print('Доля неактивных пользователей в группе B: {:.2%}'.format(inactive_users[inactive_users['group']== 'B']['user_id'].nunique()/\n",
    "     data[data['group']== 'B']['user_id'].nunique()))"
   ]
  },
  {
   "cell_type": "markdown",
   "metadata": {},
   "source": [
    "Неактивных пользователей удалим из нашего анализа, так как они не прошли даже авторизацию, т.е. не участвовали в воронке продаж."
   ]
  },
  {
   "cell_type": "code",
   "execution_count": 24,
   "metadata": {},
   "outputs": [
    {
     "name": "stdout",
     "output_type": "stream",
     "text": [
      "Активных пользователей осталось в тесте: 0       D1ABA3E2887B6A73\n",
      "1       A7A3664BD6242119\n",
      "2       DABC14FDDFADD29E\n",
      "3       04988C5DF189632E\n",
      "5       4FF2998A348C484F\n",
      "              ...       \n",
      "6346    7C5C12FA1B5AB710\n",
      "6347    91C3969B8A72B908\n",
      "6348    E26F13A65CEAC6EA\n",
      "6349    95401934D6D6D4FC\n",
      "6350    80712ED4EA1B52A5\n",
      "Name: user_id, Length: 3481, dtype: object\n"
     ]
    }
   ],
   "source": [
    "data = data[(data['user_id'].isin(events['user_id']))]\n",
    "\n",
    "print('Активных пользователей осталось в тесте:', data['user_id'])"
   ]
  },
  {
   "cell_type": "markdown",
   "metadata": {},
   "source": [
    "**Вывод:** Неактивных пользователей оказалось 2870. Из них 28.34% - из группы А, и 67.72% - из группы В. После фильтрации в тесте осталось 3481 пользователей."
   ]
  },
  {
   "cell_type": "markdown",
   "metadata": {},
   "source": [
    "### Горизонт анализа: рассчитайте лайфтайм совершения события пользователем после регистрации, оставьте только те события, которые были совершены в первые 14 дней с момента регистрации; проверьте, что все участники теста имели возможность совершать события все 14 дней с момента регистрации, оцените когда пользователи совершают свои первые события каждого вида."
   ]
  },
  {
   "cell_type": "markdown",
   "metadata": {},
   "source": [
    "Отфильтруем таблицу с событиями и оставим события только наших активных пользователей. Затем присоединим таблицу events с событиями пользовтелей нашего теста."
   ]
  },
  {
   "cell_type": "code",
   "execution_count": 25,
   "metadata": {},
   "outputs": [],
   "source": [
    "events = events[events['user_id'].isin(data['user_id'])]"
   ]
  },
  {
   "cell_type": "code",
   "execution_count": 26,
   "metadata": {},
   "outputs": [],
   "source": [
    "data = events.merge(data, on='user_id', how='left')"
   ]
  },
  {
   "cell_type": "markdown",
   "metadata": {},
   "source": [
    "Добавим столбец с возрастом каждого события."
   ]
  },
  {
   "cell_type": "code",
   "execution_count": 27,
   "metadata": {},
   "outputs": [],
   "source": [
    "data['age_events'] = (data['event_dt'] - data['first_date']).dt.days\n",
    "#event_age = data.groupby(['event_name', 'age_events']).agg({'age_events':'count'})\n",
    "#event_age"
   ]
  },
  {
   "cell_type": "markdown",
   "metadata": {},
   "source": [
    "Посмотрим какие виды событий есть в таблице."
   ]
  },
  {
   "cell_type": "code",
   "execution_count": 28,
   "metadata": {},
   "outputs": [
    {
     "data": {
      "text/plain": [
       "login           10595\n",
       "product_page     6554\n",
       "purchase         3196\n",
       "product_cart     3075\n",
       "Name: event_name, dtype: int64"
      ]
     },
     "execution_count": 28,
     "metadata": {},
     "output_type": "execute_result"
    }
   ],
   "source": [
    "data['event_name'].value_counts()"
   ]
  },
  {
   "cell_type": "code",
   "execution_count": 29,
   "metadata": {},
   "outputs": [
    {
     "data": {
      "image/png": "[encoded data removed]",
      "text/plain": [
       "<Figure size 432x288 with 1 Axes>"
      ]
     },
     "metadata": {
      "needs_background": "light"
     },
     "output_type": "display_data"
    },
    {
     "data": {
      "image/png": "[encoded data removed]",
      "text/plain": [
       "<Figure size 432x288 with 1 Axes>"
      ]
     },
     "metadata": {
      "needs_background": "light"
     },
     "output_type": "display_data"
    },
    {
     "data": {
      "image/png": "[encoded data removed]",
      "text/plain": [
       "<Figure size 432x288 with 1 Axes>"
      ]
     },
     "metadata": {
      "needs_background": "light"
     },
     "output_type": "display_data"
    },
    {
     "data": {
      "image/png": "[encoded data removed]",
      "text/plain": [
       "<Figure size 432x288 with 1 Axes>"
      ]
     },
     "metadata": {
      "needs_background": "light"
     },
     "output_type": "display_data"
    }
   ],
   "source": [
    "events_list = ['login', 'product_page', 'purchase', 'product_cart']\n",
    "\n",
    "for event in events_list:\n",
    "    data[data['event_name']==event]['age_events'].hist(bins=20)\n",
    "    plt.title('Гистограмма возраста события '+ event)\n",
    "    plt.ylabel('Количество событий')\n",
    "    plt.xlabel('Возраст события')\n",
    "    plt.show()"
   ]
  },
  {
   "cell_type": "markdown",
   "metadata": {},
   "source": [
    "**Вывод:** Большинство событий совершается в первый день регистрации. По условиям ТЗ, нам нужно исключить события, которые старше 14 дней."
   ]
  },
  {
   "cell_type": "code",
   "execution_count": 30,
   "metadata": {},
   "outputs": [],
   "source": [
    "data = data[data['age_events'] < 15]"
   ]
  },
  {
   "cell_type": "markdown",
   "metadata": {},
   "source": [
    "### Представьте развернутый вывод о соответствии теста требованиям технического задания и возможности получения достоверных результатов АБ-теста, исходя из базового показателя конверсии в 50%"
   ]
  },
  {
   "cell_type": "code",
   "execution_count": 31,
   "metadata": {},
   "outputs": [
    {
     "name": "stdout",
     "output_type": "stream",
     "text": [
      "Количество уникальных пользователей теста: 3481\n"
     ]
    }
   ],
   "source": [
    "print('Количество уникальных пользователей теста:', data['user_id'].nunique())"
   ]
  },
  {
   "cell_type": "code",
   "execution_count": 32,
   "metadata": {},
   "outputs": [
    {
     "name": "stdout",
     "output_type": "stream",
     "text": [
      "Они распределены по группам:\n"
     ]
    },
    {
     "data": {
      "text/html": [
       "<div>\n",
       "<style scoped>\n",
       "    .dataframe tbody tr th:only-of-type {\n",
       "        vertical-align: middle;\n",
       "    }\n",
       "\n",
       "    .dataframe tbody tr th {\n",
       "        vertical-align: top;\n",
       "    }\n",
       "\n",
       "    .dataframe thead th {\n",
       "        text-align: right;\n",
       "    }\n",
       "</style>\n",
       "<table border=\"1\" class=\"dataframe\">\n",
       "  <thead>\n",
       "    <tr style=\"text-align: right;\">\n",
       "      <th></th>\n",
       "      <th>user_id</th>\n",
       "    </tr>\n",
       "    <tr>\n",
       "      <th>group</th>\n",
       "      <th></th>\n",
       "    </tr>\n",
       "  </thead>\n",
       "  <tbody>\n",
       "    <tr>\n",
       "      <th>A</th>\n",
       "      <td>2604</td>\n",
       "    </tr>\n",
       "    <tr>\n",
       "      <th>B</th>\n",
       "      <td>877</td>\n",
       "    </tr>\n",
       "  </tbody>\n",
       "</table>\n",
       "</div>"
      ],
      "text/plain": [
       "       user_id\n",
       "group         \n",
       "A         2604\n",
       "B          877"
      ]
     },
     "execution_count": 32,
     "metadata": {},
     "output_type": "execute_result"
    }
   ],
   "source": [
    "print('Они распределены по группам:')\n",
    "data.groupby('group').agg({'user_id':'nunique'})"
   ]
  },
  {
   "cell_type": "code",
   "execution_count": 33,
   "metadata": {},
   "outputs": [
    {
     "name": "stdout",
     "output_type": "stream",
     "text": [
      "Доля уникальных пользователей группы А: 74.81%\n",
      "Доля уникальных пользователей группы B: 25.19%\n"
     ]
    }
   ],
   "source": [
    "print('Доля уникальных пользователей группы А: {:.2%}'.format(data[data['group']=='A']['user_id']\\\n",
    "                                                              .nunique()/data['user_id'].nunique()))\n",
    "\n",
    "print('Доля уникальных пользователей группы B: {:.2%}'.format(data[data['group']=='B']['user_id']\\\n",
    "                                                              .nunique()/data['user_id'].nunique()))\n"
   ]
  },
  {
   "cell_type": "code",
   "execution_count": 34,
   "metadata": {},
   "outputs": [
    {
     "name": "stdout",
     "output_type": "stream",
     "text": [
      "Количество событий в датасете осталось: 22828\n"
     ]
    }
   ],
   "source": [
    "print('Количество событий в датасете осталось:', len(data))"
   ]
  },
  {
   "cell_type": "markdown",
   "metadata": {},
   "source": [
    "**Выводы**\n",
    "\n",
    "Соответствие данных техническому заданию: \n",
    "- дата остановки набора новых пользователей 2020-12-23, а по техническому заданию 2020-12-21;\n",
    "- последнее событие в датасете за 2020-12-30 23:36:33, а в техническом задании окончание теста 2021-01-04;\n",
    "- условие, что ожидаемое количество участников теста 15% новых пользователей из региона EU, выполняется\n",
    "- события, старше 14 дней, были удалены.\n",
    "\n",
    "В результате в датасете осталось 3481 уникальных пользователей, из которых 2604 из группы А (74%), 877 из группы В (25%). Количество событий 22828.\n",
    "\n",
    "Размер выборки, при базовом показателе конверсии 50% и минимальном эффекте 5%: 5100 каждой группы. Наши выборки сильно меньше требуемых."
   ]
  },
  {
   "cell_type": "markdown",
   "metadata": {},
   "source": [
    "## Исследовательский анализ данных"
   ]
  },
  {
   "cell_type": "markdown",
   "metadata": {},
   "source": [
    "### Распределение количества событий на пользователя в разрезе групп теста: постройте гистограмму распределения этой величины в разрезе групп и сравните её средние значения между собой у групп теста"
   ]
  },
  {
   "cell_type": "markdown",
   "metadata": {},
   "source": [
    "Посмотрим, сколько событий в среднем приходится на пользователя."
   ]
  },
  {
   "cell_type": "code",
   "execution_count": 35,
   "metadata": {},
   "outputs": [
    {
     "name": "stderr",
     "output_type": "stream",
     "text": [
      "/opt/conda/lib/python3.9/site-packages/seaborn/distributions.py:2557: FutureWarning: `distplot` is a deprecated function and will be removed in a future version. Please adapt your code to use either `displot` (a figure-level function with similar flexibility) or `histplot` (an axes-level function for histograms).\n",
      "  warnings.warn(msg, FutureWarning)\n"
     ]
    },
    {
     "data": {
      "image/png": "[encoded data removed]",
      "text/plain": [
       "<Figure size 720x360 with 1 Axes>"
      ]
     },
     "metadata": {
      "needs_background": "light"
     },
     "output_type": "display_data"
    }
   ],
   "source": [
    "events_by_user = data.groupby('user_id').agg({'event_name':'count'}).reset_index()\n",
    "\n",
    "plt.figure(figsize=(10, 5))\n",
    "plt.title('Распределение количества событий на пользователя')\n",
    "sns.distplot(events_by_user['event_name'], bins=50)\n",
    "plt.xlabel('Количество событий')                  \n",
    "plt.ylabel('Количество пользователей')             \n",
    "plt.show()"
   ]
  },
  {
   "cell_type": "markdown",
   "metadata": {},
   "source": [
    "**Вывод:** В среднем на пользователя приходится 6 событий."
   ]
  },
  {
   "cell_type": "markdown",
   "metadata": {},
   "source": [
    "Посмотрим, сколько событий в среднем приходится на пользователя каждой группы."
   ]
  },
  {
   "cell_type": "code",
   "execution_count": 36,
   "metadata": {},
   "outputs": [
    {
     "name": "stderr",
     "output_type": "stream",
     "text": [
      "/opt/conda/lib/python3.9/site-packages/seaborn/distributions.py:2557: FutureWarning: `distplot` is a deprecated function and will be removed in a future version. Please adapt your code to use either `displot` (a figure-level function with similar flexibility) or `histplot` (an axes-level function for histograms).\n",
      "  warnings.warn(msg, FutureWarning)\n",
      "/opt/conda/lib/python3.9/site-packages/seaborn/distributions.py:2557: FutureWarning: `distplot` is a deprecated function and will be removed in a future version. Please adapt your code to use either `displot` (a figure-level function with similar flexibility) or `histplot` (an axes-level function for histograms).\n",
      "  warnings.warn(msg, FutureWarning)\n"
     ]
    },
    {
     "data": {
      "image/png": "[encoded data removed]",
      "text/plain": [
       "<Figure size 1080x360 with 1 Axes>"
      ]
     },
     "metadata": {
      "needs_background": "light"
     },
     "output_type": "display_data"
    }
   ],
   "source": [
    "events_by_user_a = data[data['group'] == 'A'].groupby('user_id').agg({'event_name':'count'}).reset_index()\n",
    "events_by_user_b = data[data['group'] == 'B'].groupby('user_id').agg({'event_name':'count'}).reset_index()\n",
    "\n",
    "plt.figure(figsize=(15, 5))\n",
    "plt.title('Распределение количества событий на пользователя каждой группы')\n",
    "sns.distplot(events_by_user_a['event_name'], bins=50, label='A')\n",
    "sns.distplot(events_by_user_b['event_name'], bins=50, label='B')\n",
    "plt.xlabel('Количество событий')                  \n",
    "plt.ylabel('Количество пользователей')     \n",
    "plt.legend()\n",
    "plt.show()"
   ]
  },
  {
   "cell_type": "markdown",
   "metadata": {},
   "source": [
    "**Вывод:** В группе А наблюдается пик в районе 6, в группе В - пик в районе 3 событий на пользователя."
   ]
  },
  {
   "cell_type": "markdown",
   "metadata": {},
   "source": [
    "Создадим дополнительный столбец, в котором будет посчитано количество событий на пользователя."
   ]
  },
  {
   "cell_type": "code",
   "execution_count": 37,
   "metadata": {},
   "outputs": [],
   "source": [
    "data['cnt_events'] = data.groupby('user_id')['event_name'].transform('count')"
   ]
  },
  {
   "cell_type": "markdown",
   "metadata": {},
   "source": [
    "Сравним средние значения количества событий на пользователя между собой у групп теста."
   ]
  },
  {
   "cell_type": "code",
   "execution_count": 38,
   "metadata": {},
   "outputs": [
    {
     "data": {
      "image/png": "[encoded data removed]",
      "text/plain": [
       "<Figure size 720x504 with 1 Axes>"
      ]
     },
     "metadata": {
      "needs_background": "light"
     },
     "output_type": "display_data"
    }
   ],
   "source": [
    "mean_event = data.groupby(['event_name', 'group']).agg({'cnt_events':'mean'}).reset_index()\n",
    "\n",
    "plt.figure(figsize=(10,7))\n",
    "sns.barplot(x='event_name', y='cnt_events', hue='group', data=mean_event)\n",
    "plt.title('Среднее количество событий на пользователей по группам')\n",
    "plt.xlabel('Название события')\n",
    "plt.ylabel('Среднее количество на пользователя')\n",
    "plt.show()"
   ]
  },
  {
   "cell_type": "markdown",
   "metadata": {},
   "source": [
    "**Вывод:** На графике видно, что в среднем пользователи группы А совершают всех событий больше, чем пользователи группы В."
   ]
  },
  {
   "cell_type": "markdown",
   "metadata": {},
   "source": [
    "### Динамика количества событий в группах теста по дням: изучите распределение числа событий по дням и сравните динамику групп теста между собой"
   ]
  },
  {
   "cell_type": "markdown",
   "metadata": {},
   "source": [
    "Создадим отдельный столбец с днем месяца."
   ]
  },
  {
   "cell_type": "code",
   "execution_count": 39,
   "metadata": {},
   "outputs": [],
   "source": [
    "data['day'] = pd.DatetimeIndex(data['event_dt']).day"
   ]
  },
  {
   "cell_type": "markdown",
   "metadata": {},
   "source": [
    "Посчитаем процент событий от общего числа событий в группе и посмотрим на динамику по дням."
   ]
  },
  {
   "cell_type": "code",
   "execution_count": 40,
   "metadata": {},
   "outputs": [
    {
     "data": {
      "image/png": "[encoded data removed]",
      "text/plain": [
       "<Figure size 720x504 with 1 Axes>"
      ]
     },
     "metadata": {
      "needs_background": "light"
     },
     "output_type": "display_data"
    }
   ],
   "source": [
    "dynamics = data.groupby(['day', 'group']).agg({'event_name':'count'}).reset_index()\n",
    "dynamics['total'] = dynamics.groupby('group')['event_name'].transform('sum')\n",
    "dynamics['%'] = dynamics['event_name']/dynamics['total']\n",
    "\n",
    "plt.figure(figsize=(10,7))\n",
    "sns.barplot(x='day', y='%', hue='group', data=dynamics)\n",
    "plt.title('Динамика количества событий по дням')\n",
    "plt.xlabel('День месяца')\n",
    "plt.ylabel('Количество событий от общего числа событий, %')\n",
    "plt.show()"
   ]
  },
  {
   "cell_type": "markdown",
   "metadata": {},
   "source": [
    "**Вывод:** До 14 числа пик событий приходится на группу В, а с 14-го пик событий на группу А. После 21 наблюдается общий спад динамики событий. Спад скорее всего связан с прекращением набора новых пользователей."
   ]
  },
  {
   "cell_type": "markdown",
   "metadata": {},
   "source": [
    "Рассмотрим динамику набора новых пользователей"
   ]
  },
  {
   "cell_type": "code",
   "execution_count": 41,
   "metadata": {},
   "outputs": [
    {
     "data": {
      "image/png": "[encoded data removed]",
      "text/plain": [
       "<Figure size 720x504 with 1 Axes>"
      ]
     },
     "metadata": {
      "needs_background": "light"
     },
     "output_type": "display_data"
    }
   ],
   "source": [
    "data['day_first'] = pd.DatetimeIndex(data['first_date']).day\n",
    "\n",
    "dynamics_new_users = data.groupby(['day_first', 'group']).agg({'user_id':'nunique'}).reset_index()\n",
    "dynamics_new_users['total'] = dynamics_new_users.groupby('group')['user_id'].transform('sum')\n",
    "dynamics_new_users['%'] = dynamics_new_users['user_id']/dynamics_new_users['total']\n",
    "\n",
    "plt.figure(figsize=(10,7))\n",
    "sns.barplot(x='day_first', y='%', hue='group', data=dynamics_new_users)\n",
    "plt.title('Динамика набора пользователей по дням')\n",
    "plt.xlabel('День месяца')\n",
    "plt.ylabel('Количество новых пользователей от общего числа пользователей, %')\n",
    "plt.show()"
   ]
  },
  {
   "cell_type": "markdown",
   "metadata": {},
   "source": [
    "**Вывод:** Можем сделать вывод, пик событий с 14-го числа связан с пиком набора новых пользователей."
   ]
  },
  {
   "cell_type": "markdown",
   "metadata": {},
   "source": [
    "### Убедитесь, что время проведения теста не совпадает с маркетинговыми и другими активностями. Настройте автоматическую проверку, выдающую список событий, пересекающихся с тестом. При необходимости оцените воздействие маркетинговых событий на динамику количества событий."
   ]
  },
  {
   "cell_type": "markdown",
   "metadata": {},
   "source": [
    "Найдем акции, которые проходили в этот же период и в том же регионе."
   ]
  },
  {
   "cell_type": "code",
   "execution_count": 42,
   "metadata": {},
   "outputs": [
    {
     "data": {
      "text/html": [
       "<div>\n",
       "<style scoped>\n",
       "    .dataframe tbody tr th:only-of-type {\n",
       "        vertical-align: middle;\n",
       "    }\n",
       "\n",
       "    .dataframe tbody tr th {\n",
       "        vertical-align: top;\n",
       "    }\n",
       "\n",
       "    .dataframe thead th {\n",
       "        text-align: right;\n",
       "    }\n",
       "</style>\n",
       "<table border=\"1\" class=\"dataframe\">\n",
       "  <thead>\n",
       "    <tr style=\"text-align: right;\">\n",
       "      <th></th>\n",
       "      <th>name</th>\n",
       "      <th>regions</th>\n",
       "      <th>start_dt</th>\n",
       "      <th>finish_dt</th>\n",
       "    </tr>\n",
       "  </thead>\n",
       "  <tbody>\n",
       "    <tr>\n",
       "      <th>0</th>\n",
       "      <td>Christmas&amp;New Year Promo</td>\n",
       "      <td>EU, N.America</td>\n",
       "      <td>2020-12-25</td>\n",
       "      <td>2021-01-03</td>\n",
       "    </tr>\n",
       "  </tbody>\n",
       "</table>\n",
       "</div>"
      ],
      "text/plain": [
       "                       name        regions   start_dt  finish_dt\n",
       "0  Christmas&New Year Promo  EU, N.America 2020-12-25 2021-01-03"
      ]
     },
     "execution_count": 42,
     "metadata": {},
     "output_type": "execute_result"
    }
   ],
   "source": [
    "data_start = '2020-12-07'\n",
    "data_end = '2020-12-29'\n",
    "EU = 'EU'\n",
    "\n",
    "promo = marketing_events[(marketing_events['start_dt'] <= data_end)\\\n",
    "                        &(marketing_events['finish_dt'] >= data_start)\\\n",
    "                        &(marketing_events['regions'].str.contains('EU'))]\n",
    "\n",
    "promo"
   ]
  },
  {
   "cell_type": "markdown",
   "metadata": {},
   "source": [
    "распределение событий по датам с разбиением по группам. по оси х - даты, у - количество событий в эти даты"
   ]
  },
  {
   "cell_type": "code",
   "execution_count": 43,
   "metadata": {},
   "outputs": [
    {
     "data": {
      "image/png": "[encoded data removed]",
      "text/plain": [
       "<Figure size 720x504 with 1 Axes>"
      ]
     },
     "metadata": {
      "needs_background": "light"
     },
     "output_type": "display_data"
    }
   ],
   "source": [
    "cnt_day = data.groupby(['day', 'group']).agg({'event_name':'count'}).reset_index()\n",
    "\n",
    "plt.figure(figsize=(10,7))\n",
    "sns.barplot(x='day', y='event_name', hue='group', data=cnt_day)\n",
    "plt.title('Количества событий по дням')\n",
    "plt.xlabel('День месяца')\n",
    "plt.ylabel('Количество событий')\n",
    "plt.show()"
   ]
  },
  {
   "cell_type": "markdown",
   "metadata": {},
   "source": [
    "**Вывод:** Наш тест пересекается с новогодней акцией, которая началась 25 декабря и закончилась 3 января. На графике видно, что изменений активности в эти датыне наблюдается. Можем сделать вывод, что акция ни какого влияния не оказала."
   ]
  },
  {
   "cell_type": "markdown",
   "metadata": {},
   "source": [
    "### Продуктовая воронка: постройте простые продуктовые воронки для двух групп теста с учетом логической последовательности совершения событий; изучите изменение конверсии в продуктовой воронке тестовой группы, по сравнению с контрольной: наблюдается ли ожидаемый эффект увеличения конверсии в группе В, относительно конверсии в группе А?"
   ]
  },
  {
   "cell_type": "markdown",
   "metadata": {},
   "source": [
    "Построим воронку продаж с разбиением по группам. События выстроим в логической последовательности:\n",
    "\n",
    "1. 'login' - авторизация\n",
    "2. 'product_page' - просмотр товара\n",
    "3. 'product_cart' - просмотр корзины\n",
    "4. 'purchase' - покупка"
   ]
  },
  {
   "cell_type": "code",
   "execution_count": 44,
   "metadata": {},
   "outputs": [
    {
     "data": {
      "text/html": [
       "<div>\n",
       "<style scoped>\n",
       "    .dataframe tbody tr th:only-of-type {\n",
       "        vertical-align: middle;\n",
       "    }\n",
       "\n",
       "    .dataframe tbody tr th {\n",
       "        vertical-align: top;\n",
       "    }\n",
       "\n",
       "    .dataframe thead th {\n",
       "        text-align: right;\n",
       "    }\n",
       "</style>\n",
       "<table border=\"1\" class=\"dataframe\">\n",
       "  <thead>\n",
       "    <tr style=\"text-align: right;\">\n",
       "      <th></th>\n",
       "      <th>event_name</th>\n",
       "      <th>group</th>\n",
       "      <th>user_id</th>\n",
       "    </tr>\n",
       "  </thead>\n",
       "  <tbody>\n",
       "    <tr>\n",
       "      <th>0</th>\n",
       "      <td>login</td>\n",
       "      <td>A</td>\n",
       "      <td>2604</td>\n",
       "    </tr>\n",
       "    <tr>\n",
       "      <th>1</th>\n",
       "      <td>login</td>\n",
       "      <td>B</td>\n",
       "      <td>876</td>\n",
       "    </tr>\n",
       "    <tr>\n",
       "      <th>4</th>\n",
       "      <td>product_page</td>\n",
       "      <td>A</td>\n",
       "      <td>1685</td>\n",
       "    </tr>\n",
       "    <tr>\n",
       "      <th>5</th>\n",
       "      <td>product_page</td>\n",
       "      <td>B</td>\n",
       "      <td>493</td>\n",
       "    </tr>\n",
       "    <tr>\n",
       "      <th>2</th>\n",
       "      <td>product_cart</td>\n",
       "      <td>A</td>\n",
       "      <td>782</td>\n",
       "    </tr>\n",
       "    <tr>\n",
       "      <th>3</th>\n",
       "      <td>product_cart</td>\n",
       "      <td>B</td>\n",
       "      <td>244</td>\n",
       "    </tr>\n",
       "    <tr>\n",
       "      <th>6</th>\n",
       "      <td>purchase</td>\n",
       "      <td>A</td>\n",
       "      <td>833</td>\n",
       "    </tr>\n",
       "    <tr>\n",
       "      <th>7</th>\n",
       "      <td>purchase</td>\n",
       "      <td>B</td>\n",
       "      <td>249</td>\n",
       "    </tr>\n",
       "  </tbody>\n",
       "</table>\n",
       "</div>"
      ],
      "text/plain": [
       "     event_name group  user_id\n",
       "0         login     A     2604\n",
       "1         login     B      876\n",
       "4  product_page     A     1685\n",
       "5  product_page     B      493\n",
       "2  product_cart     A      782\n",
       "3  product_cart     B      244\n",
       "6      purchase     A      833\n",
       "7      purchase     B      249"
      ]
     },
     "execution_count": 44,
     "metadata": {},
     "output_type": "execute_result"
    }
   ],
   "source": [
    "funnel = (data\n",
    "          .groupby(['event_name', 'group'])\n",
    "          .agg({'user_id': 'nunique'})\n",
    "          .reset_index()\n",
    "          .sort_values(by=['group','user_id'], ascending=False))\n",
    "\n",
    "funnel = funnel.reindex([0,1,4,5,2,3,6,7])\n",
    "\n",
    "funnel "
   ]
  },
  {
   "cell_type": "code",
   "execution_count": 45,
   "metadata": {},
   "outputs": [
    {
     "data": {
      "image/png": "[encoded data removed]"
     },
     "metadata": {},
     "output_type": "display_data"
    }
   ],
   "source": [
    "fig = go.Figure()\n",
    "\n",
    "fig.add_trace(go.Funnel(name = 'A',\n",
    "                        y = funnel.query('group == \"A\"')['event_name'],\n",
    "                        x = funnel.query('group == \"A\"')['user_id'],\n",
    "                        textposition = 'inside',\n",
    "                        textinfo = 'value + percent initial'))\n",
    "\n",
    "fig.add_trace(go.Funnel(name = 'B',\n",
    "                        y = funnel.query('group == \"B\"')['event_name'],\n",
    "                        x = funnel.query('group == \"B\"')['user_id'],\n",
    "                        textposition = 'inside',\n",
    "                        textinfo = 'value + percent initial'))\n",
    "                        \n",
    "fig.update_layout(title_text='Продуктовая воронка конверсии пользователей', title_x=0.5)\n",
    "fig.show(renderer='png', width=700, heiqht=450, scale=None)"
   ]
  },
  {
   "cell_type": "markdown",
   "metadata": {},
   "source": [
    "**Вывод:** Ожидиаемый эффект увеличения конверсии в группе В, относительно конверсии в группе А, не наблюдается. На данном графике можно увидеть падение конверсии в группе В на каждом шаге:\n",
    "- 'просмотр товара' падение на 9%\n",
    "- 'просмотр корзины' падение на 2%\n",
    "- 'покупка' падение на 4%."
   ]
  },
  {
   "cell_type": "markdown",
   "metadata": {},
   "source": [
    "### Общий вывод об изменении пользовательской активности в тестовой группе, по сравнению с контрольной"
   ]
  },
  {
   "cell_type": "markdown",
   "metadata": {},
   "source": [
    "В среднем на пользователя приходится 6 событий. В группе А наблюдается пик в районе 6, в группе В - пик в районе 3 событий на пользователя. В среднем пользователи группы А совершают всех событий больше, чем пользователи группы В.\n",
    "\n",
    "До 14 числа пик событий приходится на группу В, а с 14-го пик событий на группу А. После 21 наблюдается общий спад динамики событий. Спад скорее всего связан с прекращением набора новых пользователей.\n",
    "\n",
    "Наш тест пересекается с новогодней акцией, которая началась 25 декабря и закончилась 3 января. На графике видно, что изменений активности в эти датыне наблюдается. Можем сделать вывод, что акция ни какого влияния не оказала.\n",
    "\n",
    "Ожидиаемый эффект увеличения конверсии в группе В, относительно конверсии в группе А, не наблюдается. На данном графике можно увидеть падение конверсии в группе В на каждом шаге:\n",
    "- 'просмотр товара' падение на 9%\n",
    "- 'просмотр корзины' падение на 2%\n",
    "- 'покупка' падение на 4%."
   ]
  },
  {
   "cell_type": "markdown",
   "metadata": {},
   "source": [
    "## Оценка результатов A/B-тестирования"
   ]
  },
  {
   "cell_type": "markdown",
   "metadata": {},
   "source": [
    "### Проверьте статистическую разницу долей z-критерием."
   ]
  },
  {
   "cell_type": "markdown",
   "metadata": {},
   "source": [
    "Проверим, чтобы каждый пользователь принадлежал только к одной группе."
   ]
  },
  {
   "cell_type": "code",
   "execution_count": 46,
   "metadata": {},
   "outputs": [
    {
     "data": {
      "text/plain": [
       "0"
      ]
     },
     "execution_count": 46,
     "metadata": {},
     "output_type": "execute_result"
    }
   ],
   "source": [
    "users = data.groupby('user_id').agg({'group':'nunique'})\n",
    "bad_users = users.query('group > 1')\n",
    "bad_users.shape[0]"
   ]
  },
  {
   "cell_type": "markdown",
   "metadata": {},
   "source": [
    "Все верно, пользователи в каждой группе уникальны.\n",
    "\n",
    "Проверим 3 гипотезы о равенстве долей в группах А и В при конверсии:\n",
    "- 'просмотр товара'\n",
    "- 'просмотр корзины'\n",
    "- 'покупка'\n",
    "\n",
    "Н<sub>0</sub>: Доли уникальных посетителей на этапе воронки одинаковы. \n",
    "\n",
    "Н<sub>1</sub>: Доли уникальных посетителей на этапе воронки различаются.\n",
    "\n",
    "\n",
    "Мы проводим множественный тест. Его важная особенность в том, что с каждой новой проверкой гипотезы растёт вероятность ошибки первого рода. Сделаем поправку по Бонферрони."
   ]
  },
  {
   "cell_type": "code",
   "execution_count": 47,
   "metadata": {},
   "outputs": [],
   "source": [
    "alpha = 0.05\n",
    "bonferroni_alpha = alpha / 3\n",
    "        \n",
    "#Создадим функцию для сравнения конверсий между группами:\n",
    "def compare_group(data1, data2, event):\n",
    "    \n",
    "    users = np.array([data1['user_id'].nunique(), \n",
    "                        data2['user_id'].nunique()])\n",
    "    \n",
    "    success = np.array([data1[data1['event_name'] == event]['user_id'].nunique(), \n",
    "                        data2[data2['event_name'] == event]['user_id'].nunique()])\n",
    "    \n",
    "    p1 = success[0]/users[0]\n",
    "    p2 = success[1]/users[1]\n",
    "    \n",
    "    print(users[0], users[1])\n",
    "    \n",
    "    p_combined = (success[0] + success[1]) / (users[0] + users[1])\n",
    "    \n",
    "    difference = p1 - p2 \n",
    "    \n",
    "    z_value = difference /  np.sqrt(p_combined * (1 - p_combined) * (1/users[0] + 1/users[1]))\n",
    "    \n",
    "    distr = st.norm(0, 1)  \n",
    "\n",
    "    p_value = (1 - distr.cdf(abs(z_value))) * 2   \n",
    "    \n",
    "    print('Результаты теста для события:', event)\n",
    "    print('p-значение: ', p_value)\n",
    "\n",
    "    if p_value < bonferroni_alpha:\n",
    "        print('Отвергаем нулевую гипотезу: между долями есть разница')\n",
    "    else:\n",
    "        print(\n",
    "        'Не получилось отвергнуть нулевую гипотезу, нет оснований считать доли разными')\n",
    "    "
   ]
  },
  {
   "cell_type": "code",
   "execution_count": 48,
   "metadata": {},
   "outputs": [
    {
     "name": "stdout",
     "output_type": "stream",
     "text": [
      "2604 877\n",
      "Результаты теста для события: product_page\n",
      "p-значение:  6.942739359416805e-06\n",
      "Отвергаем нулевую гипотезу: между долями есть разница\n",
      "2604 877\n",
      "Результаты теста для события: product_cart\n",
      "p-значение:  0.21469192029582396\n",
      "Не получилось отвергнуть нулевую гипотезу, нет оснований считать доли разными\n",
      "2604 877\n",
      "Результаты теста для события: purchase\n",
      "p-значение:  0.04652482738393027\n",
      "Не получилось отвергнуть нулевую гипотезу, нет оснований считать доли разными\n"
     ]
    }
   ],
   "source": [
    "list_events = ['product_page', 'product_cart', 'purchase']\n",
    "\n",
    "for event in list_events:\n",
    "    compare_group(data[data['group'] == 'A'], data[data['group'] == 'B'], event)\n",
    "    "
   ]
  },
  {
   "cell_type": "markdown",
   "metadata": {},
   "source": [
    "**Вывод:** По рузельтатам z-теста разница в долях обнаружилась только на этапе просмотра карточки товара. Как мы выяснили ранее, на этом этапе конверсия упала на 9%. На этапах корзины и покупки значимой разницы нет."
   ]
  },
  {
   "cell_type": "markdown",
   "metadata": {},
   "source": [
    "## Общие выводы и рекомендации"
   ]
  },
  {
   "cell_type": "markdown",
   "metadata": {},
   "source": [
    "В результате предобработки в датасете осталось 3481 уникальных пользователей, из которых 2604 из группы А (74%), 877 из группы В (25%). Количество событий 22828.\n",
    "\n",
    "\n",
    "Тест был проведен с нарушениями:\n",
    "- дата остановки набора новых пользователей 2020-12-23, а по техническому заданию 2020-12-21;\n",
    "- последнее событие в датасете за 2020-12-30, а в техническом задании окончание теста 2021-01-04;\n",
    "- параллельно с нашим тестом шел другой тест, аудитории теста пересекались. Но мы оставили их для анализа, так как из количество распределено равномерно в наших группах А и В;\n",
    "- количество участников А(2604) и В(877) сильно различаются;\n",
    "- доля неактивных пользователей составила 45%, которые не совершили даже авторизацию.\n",
    "\n",
    "\n",
    "Данные факторы могли повлиять на результаты теста. Рекомендуется учесть замечания и обновить механизм формирования тестовых групп. Также рекомендуется запускать тест, предварительно изучив календарь маркетинговых акций.\n",
    "\n",
    "Ислледовательский анализ был проведен на имеющихся данных. \n",
    "\n",
    "В среднем на пользователя приходится 6 событий. В группе А наблюдается пик в районе 6, в группе В - пик в районе 3 событий на пользователя. В среднем пользователи группы А совершают всех событий больше, чем пользователи группы В.\n",
    "\n",
    "До 14 числа пик событий приходится на группу В, а с 14-го пик событий на группу А. Пик событий с 14-го числа связан с пиком набора новых пользователей. После 21 наблюдается общий спад динамики событий. Спад скорее всего связан с прекращением набора новых пользователей.\n",
    "\n",
    "Наш тест пересекается с новогодней акцией, которая началась 25 декабря и закончилась 3 января. На графике видно, что изменений активности в эти датыне наблюдается. Можем сделать вывод, что акция ни какого влияния не оказала.\n",
    "\n",
    "Ожидаемый эффект увеличения конверсии в группе В, относительно конверсии в группе А, не наблюдается. На данном графике можно увидеть падение конверсии в группе В на каждом шаге:\n",
    "- 'просмотр товара' падение на 9%\n",
    "- 'просмотр корзины' падение на 2%\n",
    "- 'покупка' падение на 4%.\n",
    "\n",
    "\n",
    "По результатам z-теста разница в долях обнаружилась только на этапе просмотра карточки товара. Как мы выяснили ранее, на этом этапе конверсия упала на 9%. На этапах корзины и покупки значимой разницы нет.\n",
    "\n",
    "Изменения, связанные с внедрением улучшенной рекомендательной системы, **не дали** ожидаемый эффект в улучшении каждой метрики не менее, чем на 5 процентных пунктов за 14 дней с момента регистрации в системе.\n",
    "\n",
    "Результаты теста можно засчитать. Ожидаемый эффект не достигнут. Не имеет смысла тратить средства и проводить тест заново."
   ]
  }
 ],
 "metadata": {
  "ExecuteTimeLog": [
   {
    "duration": 395,
    "start_time": "2023-09-28T10:35:31.633Z"
   },
   {
    "duration": 3,
    "start_time": "2023-09-28T10:37:14.075Z"
   },
   {
    "duration": 75,
    "start_time": "2023-09-28T10:37:16.656Z"
   },
   {
    "duration": 943,
    "start_time": "2023-09-28T10:41:33.536Z"
   },
   {
    "duration": 3,
    "start_time": "2023-09-28T10:45:10.848Z"
   },
   {
    "duration": 127,
    "start_time": "2023-09-28T10:47:10.899Z"
   },
   {
    "duration": 438,
    "start_time": "2023-09-28T17:09:55.901Z"
   },
   {
    "duration": 3,
    "start_time": "2023-09-28T17:09:56.341Z"
   },
   {
    "duration": 1091,
    "start_time": "2023-09-28T17:09:56.351Z"
   },
   {
    "duration": 102,
    "start_time": "2023-09-28T17:09:57.444Z"
   },
   {
    "duration": 417,
    "start_time": "2023-09-28T17:11:46.021Z"
   },
   {
    "duration": 5,
    "start_time": "2023-09-28T17:11:46.440Z"
   },
   {
    "duration": 723,
    "start_time": "2023-09-28T17:11:46.446Z"
   },
   {
    "duration": 717,
    "start_time": "2023-09-28T17:11:47.171Z"
   },
   {
    "duration": 420,
    "start_time": "2023-09-28T17:15:49.977Z"
   },
   {
    "duration": 4,
    "start_time": "2023-09-28T17:15:50.398Z"
   },
   {
    "duration": 686,
    "start_time": "2023-09-28T17:15:50.409Z"
   },
   {
    "duration": 732,
    "start_time": "2023-09-28T17:15:51.097Z"
   },
   {
    "duration": 4,
    "start_time": "2023-09-28T17:39:40.724Z"
   },
   {
    "duration": 467,
    "start_time": "2023-09-28T17:44:20.004Z"
   },
   {
    "duration": 4,
    "start_time": "2023-09-28T17:44:20.474Z"
   },
   {
    "duration": 714,
    "start_time": "2023-09-28T17:44:20.480Z"
   },
   {
    "duration": 717,
    "start_time": "2023-09-28T17:44:21.195Z"
   },
   {
    "duration": 5,
    "start_time": "2023-09-28T17:44:21.915Z"
   },
   {
    "duration": 7,
    "start_time": "2023-09-28T17:44:32.858Z"
   },
   {
    "duration": 1890,
    "start_time": "2023-09-28T17:46:42.369Z"
   },
   {
    "duration": 17,
    "start_time": "2023-09-28T18:06:39.998Z"
   },
   {
    "duration": 64,
    "start_time": "2023-09-28T18:07:41.940Z"
   },
   {
    "duration": 21,
    "start_time": "2023-09-28T18:07:53.510Z"
   },
   {
    "duration": 140,
    "start_time": "2023-09-28T18:11:00.455Z"
   },
   {
    "duration": 85,
    "start_time": "2023-09-28T18:11:10.076Z"
   },
   {
    "duration": 24,
    "start_time": "2023-09-28T18:13:00.951Z"
   },
   {
    "duration": 7,
    "start_time": "2023-09-28T18:18:47.663Z"
   },
   {
    "duration": 12,
    "start_time": "2023-09-28T18:18:57.124Z"
   },
   {
    "duration": 9,
    "start_time": "2023-09-28T18:19:41.193Z"
   },
   {
    "duration": 13,
    "start_time": "2023-09-28T18:19:51.140Z"
   },
   {
    "duration": 8,
    "start_time": "2023-09-28T18:21:56.513Z"
   },
   {
    "duration": 5,
    "start_time": "2023-09-28T18:27:46.026Z"
   },
   {
    "duration": 5,
    "start_time": "2023-09-28T18:28:00.996Z"
   },
   {
    "duration": 5,
    "start_time": "2023-09-28T18:28:24.591Z"
   },
   {
    "duration": 5,
    "start_time": "2023-09-28T18:28:28.383Z"
   },
   {
    "duration": 25,
    "start_time": "2023-09-28T18:32:13.447Z"
   },
   {
    "duration": 12,
    "start_time": "2023-09-28T18:32:25.805Z"
   },
   {
    "duration": 412,
    "start_time": "2023-09-28T18:32:55.228Z"
   },
   {
    "duration": 4,
    "start_time": "2023-09-28T18:32:55.643Z"
   },
   {
    "duration": 681,
    "start_time": "2023-09-28T18:32:55.648Z"
   },
   {
    "duration": 698,
    "start_time": "2023-09-28T18:32:56.331Z"
   },
   {
    "duration": 90,
    "start_time": "2023-09-28T18:32:57.031Z"
   },
   {
    "duration": 0,
    "start_time": "2023-09-28T18:32:57.122Z"
   },
   {
    "duration": 0,
    "start_time": "2023-09-28T18:32:57.124Z"
   },
   {
    "duration": 0,
    "start_time": "2023-09-28T18:32:57.125Z"
   },
   {
    "duration": 10,
    "start_time": "2023-09-28T18:35:30.258Z"
   },
   {
    "duration": 9,
    "start_time": "2023-09-28T18:39:15.063Z"
   },
   {
    "duration": 169,
    "start_time": "2023-09-28T18:39:22.490Z"
   },
   {
    "duration": 75,
    "start_time": "2023-09-28T18:39:44.328Z"
   },
   {
    "duration": 4,
    "start_time": "2023-09-28T18:39:52.870Z"
   },
   {
    "duration": 49,
    "start_time": "2023-09-28T18:40:04.406Z"
   },
   {
    "duration": 9,
    "start_time": "2023-09-28T18:40:08.076Z"
   },
   {
    "duration": 50,
    "start_time": "2023-09-28T18:40:27.197Z"
   },
   {
    "duration": 441,
    "start_time": "2023-09-28T18:40:42.258Z"
   },
   {
    "duration": 8,
    "start_time": "2023-09-28T18:40:42.702Z"
   },
   {
    "duration": 659,
    "start_time": "2023-09-28T18:40:42.712Z"
   },
   {
    "duration": 704,
    "start_time": "2023-09-28T18:40:43.373Z"
   },
   {
    "duration": 157,
    "start_time": "2023-09-28T18:40:44.079Z"
   },
   {
    "duration": 8,
    "start_time": "2023-09-28T18:40:44.238Z"
   },
   {
    "duration": 20,
    "start_time": "2023-09-28T18:40:44.248Z"
   },
   {
    "duration": 9,
    "start_time": "2023-09-28T18:40:44.269Z"
   },
   {
    "duration": 11,
    "start_time": "2023-09-28T18:40:52.560Z"
   },
   {
    "duration": 9,
    "start_time": "2023-09-28T18:47:15.392Z"
   },
   {
    "duration": 8,
    "start_time": "2023-09-28T18:47:17.885Z"
   },
   {
    "duration": 11,
    "start_time": "2023-09-28T18:47:31.805Z"
   },
   {
    "duration": 25,
    "start_time": "2023-09-28T18:47:44.584Z"
   },
   {
    "duration": 647,
    "start_time": "2023-09-28T18:48:53.901Z"
   },
   {
    "duration": 318,
    "start_time": "2023-09-28T18:53:20.424Z"
   },
   {
    "duration": 31,
    "start_time": "2023-09-28T18:54:04.468Z"
   },
   {
    "duration": 87,
    "start_time": "2023-09-28T18:54:18.448Z"
   },
   {
    "duration": 21,
    "start_time": "2023-09-28T18:54:22.767Z"
   },
   {
    "duration": 29,
    "start_time": "2023-09-28T18:54:56.416Z"
   },
   {
    "duration": 13,
    "start_time": "2023-09-28T18:55:08.945Z"
   },
   {
    "duration": 26,
    "start_time": "2023-09-28T18:55:39.472Z"
   },
   {
    "duration": 26,
    "start_time": "2023-09-28T18:55:42.755Z"
   },
   {
    "duration": 5,
    "start_time": "2023-09-28T18:55:56.468Z"
   },
   {
    "duration": 6,
    "start_time": "2023-09-28T18:56:00.697Z"
   },
   {
    "duration": 10,
    "start_time": "2023-09-28T18:56:07.199Z"
   },
   {
    "duration": 422,
    "start_time": "2023-09-28T18:58:30.833Z"
   },
   {
    "duration": 4,
    "start_time": "2023-09-28T18:58:31.257Z"
   },
   {
    "duration": 872,
    "start_time": "2023-09-28T18:58:31.263Z"
   },
   {
    "duration": 922,
    "start_time": "2023-09-28T18:58:32.137Z"
   },
   {
    "duration": 151,
    "start_time": "2023-09-28T18:58:33.063Z"
   },
   {
    "duration": 8,
    "start_time": "2023-09-28T18:58:33.216Z"
   },
   {
    "duration": 85,
    "start_time": "2023-09-28T18:58:33.226Z"
   },
   {
    "duration": 5,
    "start_time": "2023-09-28T18:58:33.313Z"
   },
   {
    "duration": 27,
    "start_time": "2023-09-28T18:58:33.320Z"
   },
   {
    "duration": 7,
    "start_time": "2023-09-28T18:58:33.349Z"
   },
   {
    "duration": 73,
    "start_time": "2023-09-28T18:58:57.744Z"
   },
   {
    "duration": 70,
    "start_time": "2023-09-28T19:01:18.948Z"
   },
   {
    "duration": 29,
    "start_time": "2023-09-28T19:01:24.217Z"
   },
   {
    "duration": 458,
    "start_time": "2023-09-28T19:01:39.087Z"
   },
   {
    "duration": 3,
    "start_time": "2023-09-28T19:01:39.548Z"
   },
   {
    "duration": 695,
    "start_time": "2023-09-28T19:01:39.552Z"
   },
   {
    "duration": 714,
    "start_time": "2023-09-28T19:01:40.249Z"
   },
   {
    "duration": 144,
    "start_time": "2023-09-28T19:01:40.965Z"
   },
   {
    "duration": 8,
    "start_time": "2023-09-28T19:01:41.111Z"
   },
   {
    "duration": 6,
    "start_time": "2023-09-28T19:01:41.120Z"
   },
   {
    "duration": 22,
    "start_time": "2023-09-28T19:01:41.127Z"
   },
   {
    "duration": 28,
    "start_time": "2023-09-28T19:01:41.150Z"
   },
   {
    "duration": 7,
    "start_time": "2023-09-28T19:01:41.180Z"
   },
   {
    "duration": 7,
    "start_time": "2023-09-28T19:02:17.534Z"
   },
   {
    "duration": 8,
    "start_time": "2023-09-28T19:02:25.808Z"
   },
   {
    "duration": 78,
    "start_time": "2023-09-28T19:02:55.813Z"
   },
   {
    "duration": 107,
    "start_time": "2023-09-28T19:03:11.072Z"
   },
   {
    "duration": 100,
    "start_time": "2023-09-28T19:03:29.318Z"
   },
   {
    "duration": 10,
    "start_time": "2023-09-28T19:03:37.585Z"
   },
   {
    "duration": 10,
    "start_time": "2023-09-28T19:04:07.956Z"
   },
   {
    "duration": 13,
    "start_time": "2023-09-28T19:04:29.373Z"
   },
   {
    "duration": 8,
    "start_time": "2023-09-28T19:06:21.971Z"
   },
   {
    "duration": 471,
    "start_time": "2023-09-28T19:06:33.677Z"
   },
   {
    "duration": 4,
    "start_time": "2023-09-28T19:06:34.150Z"
   },
   {
    "duration": 694,
    "start_time": "2023-09-28T19:06:34.156Z"
   },
   {
    "duration": 726,
    "start_time": "2023-09-28T19:06:34.852Z"
   },
   {
    "duration": 133,
    "start_time": "2023-09-28T19:06:35.580Z"
   },
   {
    "duration": 22,
    "start_time": "2023-09-28T19:06:35.715Z"
   },
   {
    "duration": 7,
    "start_time": "2023-09-28T19:06:35.740Z"
   },
   {
    "duration": 26,
    "start_time": "2023-09-28T19:06:35.750Z"
   },
   {
    "duration": 18,
    "start_time": "2023-09-28T19:06:35.778Z"
   },
   {
    "duration": 13,
    "start_time": "2023-09-28T19:06:57.356Z"
   },
   {
    "duration": 15,
    "start_time": "2023-09-28T19:07:15.761Z"
   },
   {
    "duration": 11,
    "start_time": "2023-09-28T19:07:32.108Z"
   },
   {
    "duration": 15,
    "start_time": "2023-09-28T19:14:08.989Z"
   },
   {
    "duration": 14,
    "start_time": "2023-09-28T19:18:59.736Z"
   },
   {
    "duration": 457,
    "start_time": "2023-09-30T12:08:40.625Z"
   },
   {
    "duration": 3,
    "start_time": "2023-09-30T12:08:41.084Z"
   },
   {
    "duration": 991,
    "start_time": "2023-09-30T12:08:41.089Z"
   },
   {
    "duration": 609,
    "start_time": "2023-09-30T12:08:42.082Z"
   },
   {
    "duration": 123,
    "start_time": "2023-09-30T12:08:42.693Z"
   },
   {
    "duration": 8,
    "start_time": "2023-09-30T12:08:42.818Z"
   },
   {
    "duration": 5,
    "start_time": "2023-09-30T12:08:42.827Z"
   },
   {
    "duration": 17,
    "start_time": "2023-09-30T12:08:42.833Z"
   },
   {
    "duration": 6,
    "start_time": "2023-09-30T12:08:42.852Z"
   },
   {
    "duration": 9,
    "start_time": "2023-09-30T12:08:42.860Z"
   },
   {
    "duration": 18,
    "start_time": "2023-09-30T12:19:21.450Z"
   },
   {
    "duration": 10,
    "start_time": "2023-09-30T12:19:36.850Z"
   },
   {
    "duration": 19,
    "start_time": "2023-09-30T12:19:46.940Z"
   },
   {
    "duration": 382,
    "start_time": "2023-09-30T12:23:34.083Z"
   },
   {
    "duration": 3,
    "start_time": "2023-09-30T12:23:34.467Z"
   },
   {
    "duration": 570,
    "start_time": "2023-09-30T12:23:34.472Z"
   },
   {
    "duration": 564,
    "start_time": "2023-09-30T12:23:35.043Z"
   },
   {
    "duration": 115,
    "start_time": "2023-09-30T12:23:35.609Z"
   },
   {
    "duration": 7,
    "start_time": "2023-09-30T12:23:35.726Z"
   },
   {
    "duration": 17,
    "start_time": "2023-09-30T12:23:35.734Z"
   },
   {
    "duration": 10,
    "start_time": "2023-09-30T12:23:35.753Z"
   },
   {
    "duration": 18,
    "start_time": "2023-09-30T12:23:35.764Z"
   },
   {
    "duration": 14,
    "start_time": "2023-09-30T12:23:35.783Z"
   },
   {
    "duration": 17,
    "start_time": "2023-09-30T12:23:35.799Z"
   },
   {
    "duration": 9,
    "start_time": "2023-09-30T12:23:35.818Z"
   },
   {
    "duration": 3,
    "start_time": "2023-09-30T12:24:08.724Z"
   },
   {
    "duration": 3,
    "start_time": "2023-09-30T12:24:17.810Z"
   },
   {
    "duration": 566,
    "start_time": "2023-09-30T12:24:20.740Z"
   },
   {
    "duration": 542,
    "start_time": "2023-09-30T12:24:22.920Z"
   },
   {
    "duration": 4,
    "start_time": "2023-09-30T12:24:49.015Z"
   },
   {
    "duration": 495,
    "start_time": "2023-09-30T12:24:51.220Z"
   },
   {
    "duration": 3,
    "start_time": "2023-09-30T12:25:01.857Z"
   },
   {
    "duration": 534,
    "start_time": "2023-09-30T12:25:03.566Z"
   },
   {
    "duration": 28,
    "start_time": "2023-09-30T12:25:55.395Z"
   },
   {
    "duration": 11,
    "start_time": "2023-09-30T12:26:00.707Z"
   },
   {
    "duration": 11,
    "start_time": "2023-09-30T12:26:38.274Z"
   },
   {
    "duration": 14,
    "start_time": "2023-09-30T12:28:26.064Z"
   },
   {
    "duration": 392,
    "start_time": "2023-09-30T12:29:24.816Z"
   },
   {
    "duration": 4,
    "start_time": "2023-09-30T12:29:25.210Z"
   },
   {
    "duration": 567,
    "start_time": "2023-09-30T12:29:25.215Z"
   },
   {
    "duration": 592,
    "start_time": "2023-09-30T12:29:25.784Z"
   },
   {
    "duration": 120,
    "start_time": "2023-09-30T12:29:26.377Z"
   },
   {
    "duration": 5,
    "start_time": "2023-09-30T12:29:26.499Z"
   },
   {
    "duration": 10,
    "start_time": "2023-09-30T12:29:26.505Z"
   },
   {
    "duration": 13,
    "start_time": "2023-09-30T12:29:26.517Z"
   },
   {
    "duration": 20,
    "start_time": "2023-09-30T12:29:26.531Z"
   },
   {
    "duration": 19,
    "start_time": "2023-09-30T12:29:26.553Z"
   },
   {
    "duration": 22,
    "start_time": "2023-09-30T12:29:26.574Z"
   },
   {
    "duration": 9,
    "start_time": "2023-09-30T12:29:26.597Z"
   },
   {
    "duration": 21,
    "start_time": "2023-09-30T12:30:06.172Z"
   },
   {
    "duration": 20,
    "start_time": "2023-09-30T12:32:31.519Z"
   },
   {
    "duration": 19,
    "start_time": "2023-09-30T12:32:43.529Z"
   },
   {
    "duration": 9,
    "start_time": "2023-09-30T12:33:37.249Z"
   },
   {
    "duration": 30,
    "start_time": "2023-09-30T13:14:06.745Z"
   },
   {
    "duration": 65,
    "start_time": "2023-09-30T13:14:28.460Z"
   },
   {
    "duration": 381,
    "start_time": "2023-09-30T13:15:12.201Z"
   },
   {
    "duration": 3,
    "start_time": "2023-09-30T13:15:12.584Z"
   },
   {
    "duration": 626,
    "start_time": "2023-09-30T13:15:12.588Z"
   },
   {
    "duration": 605,
    "start_time": "2023-09-30T13:15:13.216Z"
   },
   {
    "duration": 134,
    "start_time": "2023-09-30T13:15:13.822Z"
   },
   {
    "duration": 11,
    "start_time": "2023-09-30T13:15:13.958Z"
   },
   {
    "duration": 51,
    "start_time": "2023-09-30T13:15:13.971Z"
   },
   {
    "duration": 24,
    "start_time": "2023-09-30T13:15:14.024Z"
   },
   {
    "duration": 43,
    "start_time": "2023-09-30T13:15:14.050Z"
   },
   {
    "duration": 27,
    "start_time": "2023-09-30T13:15:14.096Z"
   },
   {
    "duration": 53,
    "start_time": "2023-09-30T13:15:14.124Z"
   },
   {
    "duration": 97,
    "start_time": "2023-09-30T13:15:14.180Z"
   },
   {
    "duration": 0,
    "start_time": "2023-09-30T13:15:14.279Z"
   },
   {
    "duration": 15,
    "start_time": "2023-09-30T13:15:24.038Z"
   },
   {
    "duration": 12,
    "start_time": "2023-09-30T13:15:30.525Z"
   },
   {
    "duration": 14,
    "start_time": "2023-09-30T13:19:21.876Z"
   },
   {
    "duration": 15,
    "start_time": "2023-09-30T13:19:40.549Z"
   },
   {
    "duration": 955,
    "start_time": "2023-09-30T13:25:40.443Z"
   },
   {
    "duration": 11,
    "start_time": "2023-09-30T13:25:46.364Z"
   },
   {
    "duration": 45,
    "start_time": "2023-09-30T13:26:00.492Z"
   },
   {
    "duration": 3,
    "start_time": "2023-09-30T13:26:07.572Z"
   },
   {
    "duration": 2,
    "start_time": "2023-09-30T13:26:57.980Z"
   },
   {
    "duration": 4,
    "start_time": "2023-09-30T13:27:05.123Z"
   },
   {
    "duration": 8,
    "start_time": "2023-09-30T13:27:31.710Z"
   },
   {
    "duration": 19,
    "start_time": "2023-09-30T13:28:14.995Z"
   },
   {
    "duration": 343,
    "start_time": "2023-09-30T13:28:42.495Z"
   },
   {
    "duration": 363,
    "start_time": "2023-09-30T13:29:52.857Z"
   },
   {
    "duration": 336,
    "start_time": "2023-09-30T13:30:26.653Z"
   },
   {
    "duration": 392,
    "start_time": "2023-09-30T13:30:54.772Z"
   },
   {
    "duration": 1125,
    "start_time": "2023-09-30T13:34:25.635Z"
   },
   {
    "duration": 3,
    "start_time": "2023-09-30T13:34:26.762Z"
   },
   {
    "duration": 568,
    "start_time": "2023-09-30T13:34:26.767Z"
   },
   {
    "duration": 560,
    "start_time": "2023-09-30T13:34:27.337Z"
   },
   {
    "duration": 121,
    "start_time": "2023-09-30T13:34:27.899Z"
   },
   {
    "duration": 5,
    "start_time": "2023-09-30T13:34:28.022Z"
   },
   {
    "duration": 11,
    "start_time": "2023-09-30T13:34:28.029Z"
   },
   {
    "duration": 10,
    "start_time": "2023-09-30T13:34:28.041Z"
   },
   {
    "duration": 7,
    "start_time": "2023-09-30T13:34:28.053Z"
   },
   {
    "duration": 55,
    "start_time": "2023-09-30T13:34:28.062Z"
   },
   {
    "duration": 23,
    "start_time": "2023-09-30T13:34:28.118Z"
   },
   {
    "duration": 347,
    "start_time": "2023-09-30T13:34:28.143Z"
   },
   {
    "duration": 9,
    "start_time": "2023-09-30T13:34:28.491Z"
   },
   {
    "duration": 6,
    "start_time": "2023-09-30T13:34:55.132Z"
   },
   {
    "duration": 1130,
    "start_time": "2023-09-30T14:21:01.367Z"
   },
   {
    "duration": 3,
    "start_time": "2023-09-30T14:21:02.499Z"
   },
   {
    "duration": 620,
    "start_time": "2023-09-30T14:21:02.504Z"
   },
   {
    "duration": 559,
    "start_time": "2023-09-30T14:21:03.125Z"
   },
   {
    "duration": 118,
    "start_time": "2023-09-30T14:21:03.686Z"
   },
   {
    "duration": 7,
    "start_time": "2023-09-30T14:21:03.805Z"
   },
   {
    "duration": 16,
    "start_time": "2023-09-30T14:21:03.813Z"
   },
   {
    "duration": 22,
    "start_time": "2023-09-30T14:21:03.830Z"
   },
   {
    "duration": 12,
    "start_time": "2023-09-30T14:21:03.853Z"
   },
   {
    "duration": 34,
    "start_time": "2023-09-30T14:21:03.866Z"
   },
   {
    "duration": 32,
    "start_time": "2023-09-30T14:21:03.901Z"
   },
   {
    "duration": 352,
    "start_time": "2023-09-30T14:21:03.935Z"
   },
   {
    "duration": 9,
    "start_time": "2023-09-30T14:21:04.288Z"
   },
   {
    "duration": 368,
    "start_time": "2023-09-30T14:22:44.785Z"
   },
   {
    "duration": 440,
    "start_time": "2023-09-30T14:23:53.749Z"
   },
   {
    "duration": 343,
    "start_time": "2023-09-30T14:24:06.774Z"
   },
   {
    "duration": 9,
    "start_time": "2023-09-30T14:30:18.305Z"
   },
   {
    "duration": 4,
    "start_time": "2023-09-30T14:33:02.707Z"
   },
   {
    "duration": 10,
    "start_time": "2023-09-30T14:33:14.032Z"
   },
   {
    "duration": 10,
    "start_time": "2023-09-30T14:33:20.093Z"
   },
   {
    "duration": 415,
    "start_time": "2023-09-30T14:36:35.329Z"
   },
   {
    "duration": 14,
    "start_time": "2023-09-30T14:40:56.070Z"
   },
   {
    "duration": 10,
    "start_time": "2023-09-30T14:41:10.216Z"
   },
   {
    "duration": 11,
    "start_time": "2023-09-30T14:41:17.629Z"
   },
   {
    "duration": 8,
    "start_time": "2023-09-30T14:43:42.984Z"
   },
   {
    "duration": 9,
    "start_time": "2023-09-30T14:44:23.443Z"
   },
   {
    "duration": 4,
    "start_time": "2023-09-30T14:44:52.413Z"
   },
   {
    "duration": 11,
    "start_time": "2023-09-30T14:45:34.362Z"
   },
   {
    "duration": 8,
    "start_time": "2023-09-30T14:50:08.045Z"
   },
   {
    "duration": 14,
    "start_time": "2023-09-30T14:52:48.534Z"
   },
   {
    "duration": 313,
    "start_time": "2023-09-30T14:53:32.460Z"
   },
   {
    "duration": 321,
    "start_time": "2023-09-30T14:57:22.238Z"
   },
   {
    "duration": 360,
    "start_time": "2023-09-30T14:57:39.431Z"
   },
   {
    "duration": 321,
    "start_time": "2023-09-30T14:57:50.272Z"
   },
   {
    "duration": 322,
    "start_time": "2023-09-30T15:00:29.520Z"
   },
   {
    "duration": 372,
    "start_time": "2023-09-30T15:00:37.319Z"
   },
   {
    "duration": 323,
    "start_time": "2023-09-30T15:04:53.165Z"
   },
   {
    "duration": 1155,
    "start_time": "2023-09-30T15:05:11.698Z"
   },
   {
    "duration": 5,
    "start_time": "2023-09-30T15:05:12.856Z"
   },
   {
    "duration": 638,
    "start_time": "2023-09-30T15:05:12.863Z"
   },
   {
    "duration": 604,
    "start_time": "2023-09-30T15:05:13.503Z"
   },
   {
    "duration": 130,
    "start_time": "2023-09-30T15:05:14.109Z"
   },
   {
    "duration": 11,
    "start_time": "2023-09-30T15:05:14.240Z"
   },
   {
    "duration": 14,
    "start_time": "2023-09-30T15:05:14.253Z"
   },
   {
    "duration": 5,
    "start_time": "2023-09-30T15:05:14.269Z"
   },
   {
    "duration": 8,
    "start_time": "2023-09-30T15:05:14.276Z"
   },
   {
    "duration": 19,
    "start_time": "2023-09-30T15:05:14.286Z"
   },
   {
    "duration": 29,
    "start_time": "2023-09-30T15:05:14.306Z"
   },
   {
    "duration": 367,
    "start_time": "2023-09-30T15:05:14.337Z"
   },
   {
    "duration": 92,
    "start_time": "2023-09-30T15:10:00.230Z"
   },
   {
    "duration": 10,
    "start_time": "2023-09-30T15:10:59.099Z"
   },
   {
    "duration": 8,
    "start_time": "2023-09-30T15:11:53.703Z"
   },
   {
    "duration": 18,
    "start_time": "2023-09-30T15:16:16.433Z"
   },
   {
    "duration": 17,
    "start_time": "2023-09-30T15:16:53.859Z"
   },
   {
    "duration": 295,
    "start_time": "2023-09-30T15:17:13.493Z"
   },
   {
    "duration": 303,
    "start_time": "2023-09-30T15:17:31.471Z"
   },
   {
    "duration": 18,
    "start_time": "2023-09-30T15:18:32.244Z"
   },
   {
    "duration": 9,
    "start_time": "2023-09-30T15:19:09.600Z"
   },
   {
    "duration": 17,
    "start_time": "2023-09-30T15:19:28.059Z"
   },
   {
    "duration": 303,
    "start_time": "2023-09-30T15:19:36.588Z"
   },
   {
    "duration": 360,
    "start_time": "2023-09-30T15:21:02.865Z"
   },
   {
    "duration": 5,
    "start_time": "2023-09-30T15:21:16.134Z"
   },
   {
    "duration": 688,
    "start_time": "2023-09-30T15:21:53.824Z"
   },
   {
    "duration": 717,
    "start_time": "2023-09-30T15:24:00.941Z"
   },
   {
    "duration": 1210,
    "start_time": "2023-09-30T17:11:14.088Z"
   },
   {
    "duration": 4,
    "start_time": "2023-09-30T17:11:15.300Z"
   },
   {
    "duration": 724,
    "start_time": "2023-09-30T17:11:15.306Z"
   },
   {
    "duration": 767,
    "start_time": "2023-09-30T17:11:16.032Z"
   },
   {
    "duration": 7,
    "start_time": "2023-09-30T17:11:16.801Z"
   },
   {
    "duration": 154,
    "start_time": "2023-09-30T17:11:16.809Z"
   },
   {
    "duration": 8,
    "start_time": "2023-09-30T17:11:16.966Z"
   },
   {
    "duration": 9,
    "start_time": "2023-09-30T17:11:16.975Z"
   },
   {
    "duration": 25,
    "start_time": "2023-09-30T17:11:16.986Z"
   },
   {
    "duration": 29,
    "start_time": "2023-09-30T17:11:17.012Z"
   },
   {
    "duration": 25,
    "start_time": "2023-09-30T17:11:17.043Z"
   },
   {
    "duration": 25,
    "start_time": "2023-09-30T17:11:17.070Z"
   },
   {
    "duration": 794,
    "start_time": "2023-09-30T17:11:17.096Z"
   },
   {
    "duration": 1212,
    "start_time": "2023-09-30T17:29:35.570Z"
   },
   {
    "duration": 4,
    "start_time": "2023-09-30T17:29:36.783Z"
   },
   {
    "duration": 635,
    "start_time": "2023-09-30T17:29:36.788Z"
   },
   {
    "duration": 662,
    "start_time": "2023-09-30T17:29:37.425Z"
   },
   {
    "duration": 11,
    "start_time": "2023-09-30T17:29:38.089Z"
   },
   {
    "duration": 162,
    "start_time": "2023-09-30T17:29:38.102Z"
   },
   {
    "duration": 7,
    "start_time": "2023-09-30T17:29:38.265Z"
   },
   {
    "duration": 24,
    "start_time": "2023-09-30T17:29:38.274Z"
   },
   {
    "duration": 36,
    "start_time": "2023-09-30T17:29:38.300Z"
   },
   {
    "duration": 30,
    "start_time": "2023-09-30T17:29:38.338Z"
   },
   {
    "duration": 11,
    "start_time": "2023-09-30T17:29:38.369Z"
   },
   {
    "duration": 28,
    "start_time": "2023-09-30T17:29:38.381Z"
   },
   {
    "duration": 113,
    "start_time": "2023-09-30T17:29:38.411Z"
   },
   {
    "duration": 1122,
    "start_time": "2023-09-30T17:30:23.364Z"
   },
   {
    "duration": 3,
    "start_time": "2023-09-30T17:30:24.488Z"
   },
   {
    "duration": 621,
    "start_time": "2023-09-30T17:30:24.493Z"
   },
   {
    "duration": 642,
    "start_time": "2023-09-30T17:30:25.117Z"
   },
   {
    "duration": 142,
    "start_time": "2023-09-30T17:30:25.760Z"
   },
   {
    "duration": 8,
    "start_time": "2023-09-30T17:30:25.904Z"
   },
   {
    "duration": 21,
    "start_time": "2023-09-30T17:30:25.914Z"
   },
   {
    "duration": 7,
    "start_time": "2023-09-30T17:30:25.937Z"
   },
   {
    "duration": 10,
    "start_time": "2023-09-30T17:30:25.956Z"
   },
   {
    "duration": 17,
    "start_time": "2023-09-30T17:30:25.969Z"
   },
   {
    "duration": 20,
    "start_time": "2023-09-30T17:30:25.988Z"
   },
   {
    "duration": 24,
    "start_time": "2023-09-30T17:30:26.010Z"
   },
   {
    "duration": 124,
    "start_time": "2023-09-30T17:30:26.037Z"
   },
   {
    "duration": 765,
    "start_time": "2023-09-30T17:35:53.545Z"
   },
   {
    "duration": 835,
    "start_time": "2023-09-30T17:36:09.147Z"
   },
   {
    "duration": 6,
    "start_time": "2023-09-30T17:43:28.871Z"
   },
   {
    "duration": 8,
    "start_time": "2023-09-30T17:56:49.503Z"
   },
   {
    "duration": 10,
    "start_time": "2023-09-30T17:57:00.170Z"
   },
   {
    "duration": 17,
    "start_time": "2023-09-30T17:57:39.608Z"
   },
   {
    "duration": 30,
    "start_time": "2023-09-30T17:58:12.838Z"
   },
   {
    "duration": 28,
    "start_time": "2023-09-30T17:59:06.520Z"
   },
   {
    "duration": 12,
    "start_time": "2023-09-30T18:05:05.344Z"
   },
   {
    "duration": 9,
    "start_time": "2023-09-30T18:05:12.464Z"
   },
   {
    "duration": 8,
    "start_time": "2023-09-30T18:06:47.236Z"
   },
   {
    "duration": 20,
    "start_time": "2023-09-30T18:06:51.551Z"
   },
   {
    "duration": 1283,
    "start_time": "2023-09-30T18:06:58.189Z"
   },
   {
    "duration": 8,
    "start_time": "2023-09-30T18:07:57.625Z"
   },
   {
    "duration": 10,
    "start_time": "2023-09-30T18:08:10.227Z"
   },
   {
    "duration": 1357,
    "start_time": "2023-09-30T18:08:24.992Z"
   },
   {
    "duration": 7,
    "start_time": "2023-09-30T18:08:50.146Z"
   },
   {
    "duration": 14,
    "start_time": "2023-09-30T18:08:58.149Z"
   },
   {
    "duration": 9,
    "start_time": "2023-09-30T18:13:05.400Z"
   },
   {
    "duration": 12,
    "start_time": "2023-09-30T18:13:35.054Z"
   },
   {
    "duration": 1145,
    "start_time": "2023-09-30T18:17:09.518Z"
   },
   {
    "duration": 3,
    "start_time": "2023-09-30T18:17:10.665Z"
   },
   {
    "duration": 595,
    "start_time": "2023-09-30T18:17:10.670Z"
   },
   {
    "duration": 597,
    "start_time": "2023-09-30T18:17:11.267Z"
   },
   {
    "duration": 111,
    "start_time": "2023-09-30T18:17:11.866Z"
   },
   {
    "duration": 7,
    "start_time": "2023-09-30T18:17:11.979Z"
   },
   {
    "duration": 29,
    "start_time": "2023-09-30T18:17:11.987Z"
   },
   {
    "duration": 12,
    "start_time": "2023-09-30T18:17:12.018Z"
   },
   {
    "duration": 22,
    "start_time": "2023-09-30T18:17:12.031Z"
   },
   {
    "duration": 15,
    "start_time": "2023-09-30T18:17:12.054Z"
   },
   {
    "duration": 38,
    "start_time": "2023-09-30T18:17:12.070Z"
   },
   {
    "duration": 32,
    "start_time": "2023-09-30T18:17:12.109Z"
   },
   {
    "duration": 732,
    "start_time": "2023-09-30T18:17:12.143Z"
   },
   {
    "duration": 6,
    "start_time": "2023-09-30T18:17:12.877Z"
   },
   {
    "duration": 108,
    "start_time": "2023-09-30T18:17:12.884Z"
   },
   {
    "duration": 16,
    "start_time": "2023-09-30T18:20:41.092Z"
   },
   {
    "duration": 9,
    "start_time": "2023-09-30T18:21:21.405Z"
   },
   {
    "duration": 7,
    "start_time": "2023-09-30T18:21:50.662Z"
   },
   {
    "duration": 13,
    "start_time": "2023-09-30T18:22:03.884Z"
   },
   {
    "duration": 9,
    "start_time": "2023-09-30T18:24:05.205Z"
   },
   {
    "duration": 11,
    "start_time": "2023-09-30T18:32:32.220Z"
   },
   {
    "duration": 4,
    "start_time": "2023-09-30T18:32:43.685Z"
   },
   {
    "duration": 1148,
    "start_time": "2023-09-30T18:32:49.746Z"
   },
   {
    "duration": 3,
    "start_time": "2023-09-30T18:32:50.896Z"
   },
   {
    "duration": 624,
    "start_time": "2023-09-30T18:32:50.900Z"
   },
   {
    "duration": 567,
    "start_time": "2023-09-30T18:32:51.525Z"
   },
   {
    "duration": 125,
    "start_time": "2023-09-30T18:32:52.094Z"
   },
   {
    "duration": 7,
    "start_time": "2023-09-30T18:32:52.220Z"
   },
   {
    "duration": 39,
    "start_time": "2023-09-30T18:32:52.228Z"
   },
   {
    "duration": 14,
    "start_time": "2023-09-30T18:32:52.269Z"
   },
   {
    "duration": 45,
    "start_time": "2023-09-30T18:32:52.285Z"
   },
   {
    "duration": 13,
    "start_time": "2023-09-30T18:32:52.331Z"
   },
   {
    "duration": 30,
    "start_time": "2023-09-30T18:32:52.346Z"
   },
   {
    "duration": 34,
    "start_time": "2023-09-30T18:32:52.378Z"
   },
   {
    "duration": 750,
    "start_time": "2023-09-30T18:32:52.413Z"
   },
   {
    "duration": 6,
    "start_time": "2023-09-30T18:32:53.166Z"
   },
   {
    "duration": 7,
    "start_time": "2023-09-30T18:32:53.173Z"
   },
   {
    "duration": 18,
    "start_time": "2023-09-30T18:32:53.182Z"
   },
   {
    "duration": 13,
    "start_time": "2023-09-30T18:32:53.202Z"
   },
   {
    "duration": 14,
    "start_time": "2023-09-30T18:35:04.294Z"
   },
   {
    "duration": 85,
    "start_time": "2023-09-30T18:39:20.522Z"
   },
   {
    "duration": 12,
    "start_time": "2023-09-30T18:39:29.350Z"
   },
   {
    "duration": 14,
    "start_time": "2023-09-30T18:40:11.148Z"
   },
   {
    "duration": 7,
    "start_time": "2023-09-30T19:00:05.457Z"
   },
   {
    "duration": 113,
    "start_time": "2023-09-30T19:01:49.447Z"
   },
   {
    "duration": 11,
    "start_time": "2023-09-30T19:02:50.491Z"
   },
   {
    "duration": 1398,
    "start_time": "2023-10-02T12:48:14.069Z"
   },
   {
    "duration": 4,
    "start_time": "2023-10-02T12:48:15.469Z"
   },
   {
    "duration": 1073,
    "start_time": "2023-10-02T12:48:15.475Z"
   },
   {
    "duration": 657,
    "start_time": "2023-10-02T12:48:16.550Z"
   },
   {
    "duration": 138,
    "start_time": "2023-10-02T12:48:17.209Z"
   },
   {
    "duration": 7,
    "start_time": "2023-10-02T12:48:17.349Z"
   },
   {
    "duration": 11,
    "start_time": "2023-10-02T12:48:17.357Z"
   },
   {
    "duration": 12,
    "start_time": "2023-10-02T12:48:17.369Z"
   },
   {
    "duration": 5,
    "start_time": "2023-10-02T12:48:17.383Z"
   },
   {
    "duration": 12,
    "start_time": "2023-10-02T12:48:17.391Z"
   },
   {
    "duration": 30,
    "start_time": "2023-10-02T12:48:17.425Z"
   },
   {
    "duration": 31,
    "start_time": "2023-10-02T12:48:17.457Z"
   },
   {
    "duration": 803,
    "start_time": "2023-10-02T12:48:17.490Z"
   },
   {
    "duration": 7,
    "start_time": "2023-10-02T12:48:18.294Z"
   },
   {
    "duration": 21,
    "start_time": "2023-10-02T12:48:18.303Z"
   },
   {
    "duration": 8,
    "start_time": "2023-10-02T12:48:18.326Z"
   },
   {
    "duration": 5,
    "start_time": "2023-10-02T12:48:18.335Z"
   },
   {
    "duration": 22,
    "start_time": "2023-10-02T12:48:18.341Z"
   },
   {
    "duration": 7,
    "start_time": "2023-10-02T12:48:48.492Z"
   },
   {
    "duration": 4,
    "start_time": "2023-10-02T12:49:03.646Z"
   },
   {
    "duration": 7,
    "start_time": "2023-10-02T12:49:05.725Z"
   },
   {
    "duration": 13,
    "start_time": "2023-10-02T12:49:24.449Z"
   },
   {
    "duration": 1425,
    "start_time": "2023-10-02T12:49:45.592Z"
   },
   {
    "duration": 5,
    "start_time": "2023-10-02T12:49:47.019Z"
   },
   {
    "duration": 716,
    "start_time": "2023-10-02T12:49:47.025Z"
   },
   {
    "duration": 688,
    "start_time": "2023-10-02T12:49:47.744Z"
   },
   {
    "duration": 143,
    "start_time": "2023-10-02T12:49:48.433Z"
   },
   {
    "duration": 13,
    "start_time": "2023-10-02T12:49:48.577Z"
   },
   {
    "duration": 240,
    "start_time": "2023-10-02T12:49:48.591Z"
   },
   {
    "duration": 337,
    "start_time": "2023-10-02T12:49:48.833Z"
   },
   {
    "duration": 115,
    "start_time": "2023-10-02T12:49:49.172Z"
   },
   {
    "duration": 46,
    "start_time": "2023-10-02T12:49:49.290Z"
   },
   {
    "duration": 38,
    "start_time": "2023-10-02T12:49:49.338Z"
   },
   {
    "duration": 52,
    "start_time": "2023-10-02T12:49:49.378Z"
   },
   {
    "duration": 817,
    "start_time": "2023-10-02T12:49:49.432Z"
   },
   {
    "duration": 7,
    "start_time": "2023-10-02T12:49:50.251Z"
   },
   {
    "duration": 143,
    "start_time": "2023-10-02T12:49:50.261Z"
   },
   {
    "duration": 99,
    "start_time": "2023-10-02T12:49:50.405Z"
   },
   {
    "duration": 82,
    "start_time": "2023-10-02T12:49:50.507Z"
   },
   {
    "duration": 176,
    "start_time": "2023-10-02T12:49:50.591Z"
   },
   {
    "duration": 16,
    "start_time": "2023-10-02T12:51:34.766Z"
   },
   {
    "duration": 14,
    "start_time": "2023-10-02T12:52:00.658Z"
   },
   {
    "duration": 11,
    "start_time": "2023-10-02T12:53:12.242Z"
   },
   {
    "duration": 12,
    "start_time": "2023-10-02T13:03:12.391Z"
   },
   {
    "duration": 1196,
    "start_time": "2023-10-02T13:03:40.137Z"
   },
   {
    "duration": 4,
    "start_time": "2023-10-02T13:03:41.335Z"
   },
   {
    "duration": 634,
    "start_time": "2023-10-02T13:03:41.341Z"
   },
   {
    "duration": 620,
    "start_time": "2023-10-02T13:03:41.977Z"
   },
   {
    "duration": 133,
    "start_time": "2023-10-02T13:03:42.599Z"
   },
   {
    "duration": 7,
    "start_time": "2023-10-02T13:03:42.734Z"
   },
   {
    "duration": 63,
    "start_time": "2023-10-02T13:03:42.743Z"
   },
   {
    "duration": 10,
    "start_time": "2023-10-02T13:03:42.808Z"
   },
   {
    "duration": 27,
    "start_time": "2023-10-02T13:03:42.819Z"
   },
   {
    "duration": 9,
    "start_time": "2023-10-02T13:03:42.848Z"
   },
   {
    "duration": 41,
    "start_time": "2023-10-02T13:03:42.858Z"
   },
   {
    "duration": 58,
    "start_time": "2023-10-02T13:03:42.901Z"
   },
   {
    "duration": 791,
    "start_time": "2023-10-02T13:03:42.962Z"
   },
   {
    "duration": 6,
    "start_time": "2023-10-02T13:03:43.755Z"
   },
   {
    "duration": 64,
    "start_time": "2023-10-02T13:03:43.763Z"
   },
   {
    "duration": 136,
    "start_time": "2023-10-02T13:03:43.828Z"
   },
   {
    "duration": 57,
    "start_time": "2023-10-02T13:03:43.966Z"
   },
   {
    "duration": 95,
    "start_time": "2023-10-02T13:03:44.027Z"
   },
   {
    "duration": 0,
    "start_time": "2023-10-02T13:03:44.123Z"
   },
   {
    "duration": 0,
    "start_time": "2023-10-02T13:03:44.125Z"
   },
   {
    "duration": 1139,
    "start_time": "2023-10-02T13:04:07.232Z"
   },
   {
    "duration": 4,
    "start_time": "2023-10-02T13:04:08.373Z"
   },
   {
    "duration": 653,
    "start_time": "2023-10-02T13:04:08.378Z"
   },
   {
    "duration": 620,
    "start_time": "2023-10-02T13:04:09.033Z"
   },
   {
    "duration": 122,
    "start_time": "2023-10-02T13:04:09.655Z"
   },
   {
    "duration": 7,
    "start_time": "2023-10-02T13:04:09.779Z"
   },
   {
    "duration": 34,
    "start_time": "2023-10-02T13:04:09.788Z"
   },
   {
    "duration": 9,
    "start_time": "2023-10-02T13:04:09.824Z"
   },
   {
    "duration": 13,
    "start_time": "2023-10-02T13:04:09.835Z"
   },
   {
    "duration": 15,
    "start_time": "2023-10-02T13:04:09.849Z"
   },
   {
    "duration": 19,
    "start_time": "2023-10-02T13:04:09.865Z"
   },
   {
    "duration": 39,
    "start_time": "2023-10-02T13:04:09.886Z"
   },
   {
    "duration": 862,
    "start_time": "2023-10-02T13:04:09.927Z"
   },
   {
    "duration": 7,
    "start_time": "2023-10-02T13:04:10.792Z"
   },
   {
    "duration": 45,
    "start_time": "2023-10-02T13:04:10.801Z"
   },
   {
    "duration": 17,
    "start_time": "2023-10-02T13:04:10.847Z"
   },
   {
    "duration": 10,
    "start_time": "2023-10-02T13:04:10.866Z"
   },
   {
    "duration": 119,
    "start_time": "2023-10-02T13:04:10.877Z"
   },
   {
    "duration": 0,
    "start_time": "2023-10-02T13:04:10.999Z"
   },
   {
    "duration": 0,
    "start_time": "2023-10-02T13:04:11.000Z"
   },
   {
    "duration": 1175,
    "start_time": "2023-10-02T13:04:40.173Z"
   },
   {
    "duration": 3,
    "start_time": "2023-10-02T13:04:41.350Z"
   },
   {
    "duration": 650,
    "start_time": "2023-10-02T13:04:41.354Z"
   },
   {
    "duration": 600,
    "start_time": "2023-10-02T13:04:42.006Z"
   },
   {
    "duration": 148,
    "start_time": "2023-10-02T13:04:42.608Z"
   },
   {
    "duration": 7,
    "start_time": "2023-10-02T13:04:42.757Z"
   },
   {
    "duration": 36,
    "start_time": "2023-10-02T13:04:42.765Z"
   },
   {
    "duration": 7,
    "start_time": "2023-10-02T13:04:42.803Z"
   },
   {
    "duration": 6,
    "start_time": "2023-10-02T13:04:42.811Z"
   },
   {
    "duration": 43,
    "start_time": "2023-10-02T13:04:42.819Z"
   },
   {
    "duration": 36,
    "start_time": "2023-10-02T13:04:42.864Z"
   },
   {
    "duration": 126,
    "start_time": "2023-10-02T13:04:42.902Z"
   },
   {
    "duration": 798,
    "start_time": "2023-10-02T13:04:43.029Z"
   },
   {
    "duration": 6,
    "start_time": "2023-10-02T13:04:43.830Z"
   },
   {
    "duration": 17,
    "start_time": "2023-10-02T13:04:43.838Z"
   },
   {
    "duration": 11,
    "start_time": "2023-10-02T13:04:43.856Z"
   },
   {
    "duration": 9,
    "start_time": "2023-10-02T13:04:43.869Z"
   },
   {
    "duration": 38,
    "start_time": "2023-10-02T13:04:43.879Z"
   },
   {
    "duration": 23,
    "start_time": "2023-10-02T13:04:43.919Z"
   },
   {
    "duration": 115,
    "start_time": "2023-10-02T13:04:43.944Z"
   },
   {
    "duration": 15,
    "start_time": "2023-10-02T13:53:32.470Z"
   },
   {
    "duration": 6,
    "start_time": "2023-10-02T13:53:51.394Z"
   },
   {
    "duration": 6,
    "start_time": "2023-10-02T13:54:13.145Z"
   },
   {
    "duration": 7,
    "start_time": "2023-10-02T13:56:46.470Z"
   },
   {
    "duration": 5,
    "start_time": "2023-10-02T13:57:14.070Z"
   },
   {
    "duration": 5,
    "start_time": "2023-10-02T13:58:04.962Z"
   },
   {
    "duration": 5,
    "start_time": "2023-10-02T13:58:37.359Z"
   },
   {
    "duration": 1214,
    "start_time": "2023-10-02T14:03:52.592Z"
   },
   {
    "duration": 3,
    "start_time": "2023-10-02T14:03:53.808Z"
   },
   {
    "duration": 648,
    "start_time": "2023-10-02T14:03:53.813Z"
   },
   {
    "duration": 625,
    "start_time": "2023-10-02T14:03:54.463Z"
   },
   {
    "duration": 152,
    "start_time": "2023-10-02T14:03:55.091Z"
   },
   {
    "duration": 8,
    "start_time": "2023-10-02T14:03:55.245Z"
   },
   {
    "duration": 28,
    "start_time": "2023-10-02T14:03:55.255Z"
   },
   {
    "duration": 3,
    "start_time": "2023-10-02T14:03:55.285Z"
   },
   {
    "duration": 18,
    "start_time": "2023-10-02T14:03:55.290Z"
   },
   {
    "duration": 8,
    "start_time": "2023-10-02T14:03:55.310Z"
   },
   {
    "duration": 19,
    "start_time": "2023-10-02T14:03:55.320Z"
   },
   {
    "duration": 33,
    "start_time": "2023-10-02T14:03:55.341Z"
   },
   {
    "duration": 878,
    "start_time": "2023-10-02T14:03:55.376Z"
   },
   {
    "duration": 6,
    "start_time": "2023-10-02T14:03:56.257Z"
   },
   {
    "duration": 28,
    "start_time": "2023-10-02T14:03:56.265Z"
   },
   {
    "duration": 30,
    "start_time": "2023-10-02T14:03:56.295Z"
   },
   {
    "duration": 22,
    "start_time": "2023-10-02T14:03:56.327Z"
   },
   {
    "duration": 29,
    "start_time": "2023-10-02T14:03:56.351Z"
   },
   {
    "duration": 41,
    "start_time": "2023-10-02T14:03:56.382Z"
   },
   {
    "duration": 27,
    "start_time": "2023-10-02T14:03:56.426Z"
   },
   {
    "duration": 5,
    "start_time": "2023-10-02T14:11:34.153Z"
   },
   {
    "duration": 15,
    "start_time": "2023-10-02T14:16:19.005Z"
   },
   {
    "duration": 14,
    "start_time": "2023-10-02T14:16:52.316Z"
   },
   {
    "duration": 50,
    "start_time": "2023-10-02T14:32:23.052Z"
   },
   {
    "duration": 52,
    "start_time": "2023-10-02T14:32:45.184Z"
   },
   {
    "duration": 144,
    "start_time": "2023-10-02T14:33:49.196Z"
   },
   {
    "duration": 44,
    "start_time": "2023-10-02T14:34:07.306Z"
   },
   {
    "duration": 48,
    "start_time": "2023-10-02T14:35:20.759Z"
   },
   {
    "duration": 8,
    "start_time": "2023-10-02T14:41:12.181Z"
   },
   {
    "duration": 8,
    "start_time": "2023-10-02T14:41:19.462Z"
   },
   {
    "duration": 11,
    "start_time": "2023-10-02T14:42:12.023Z"
   },
   {
    "duration": 14,
    "start_time": "2023-10-02T14:48:35.583Z"
   },
   {
    "duration": 11,
    "start_time": "2023-10-02T14:48:56.332Z"
   },
   {
    "duration": 43,
    "start_time": "2023-10-02T14:49:31.057Z"
   },
   {
    "duration": 7,
    "start_time": "2023-10-02T14:52:15.125Z"
   },
   {
    "duration": 9,
    "start_time": "2023-10-02T14:53:56.429Z"
   },
   {
    "duration": 14,
    "start_time": "2023-10-02T14:55:19.137Z"
   },
   {
    "duration": 15,
    "start_time": "2023-10-02T14:57:43.925Z"
   },
   {
    "duration": 14,
    "start_time": "2023-10-02T14:58:52.385Z"
   },
   {
    "duration": 8,
    "start_time": "2023-10-02T14:59:27.413Z"
   },
   {
    "duration": 11,
    "start_time": "2023-10-02T14:59:39.866Z"
   },
   {
    "duration": 10,
    "start_time": "2023-10-02T14:59:50.456Z"
   },
   {
    "duration": 22,
    "start_time": "2023-10-02T15:00:40.371Z"
   },
   {
    "duration": 17,
    "start_time": "2023-10-02T15:00:42.007Z"
   },
   {
    "duration": 45,
    "start_time": "2023-10-02T15:05:30.434Z"
   },
   {
    "duration": 84,
    "start_time": "2023-10-02T15:06:45.857Z"
   },
   {
    "duration": 14,
    "start_time": "2023-10-02T15:17:22.385Z"
   },
   {
    "duration": 14,
    "start_time": "2023-10-02T15:23:17.354Z"
   },
   {
    "duration": 1258,
    "start_time": "2023-10-02T15:27:48.406Z"
   },
   {
    "duration": 4,
    "start_time": "2023-10-02T15:27:49.666Z"
   },
   {
    "duration": 651,
    "start_time": "2023-10-02T15:27:49.671Z"
   },
   {
    "duration": 714,
    "start_time": "2023-10-02T15:27:50.323Z"
   },
   {
    "duration": 137,
    "start_time": "2023-10-02T15:27:51.040Z"
   },
   {
    "duration": 150,
    "start_time": "2023-10-02T15:27:51.178Z"
   },
   {
    "duration": 121,
    "start_time": "2023-10-02T15:27:51.329Z"
   },
   {
    "duration": 190,
    "start_time": "2023-10-02T15:27:51.452Z"
   },
   {
    "duration": 98,
    "start_time": "2023-10-02T15:27:51.644Z"
   },
   {
    "duration": 157,
    "start_time": "2023-10-02T15:27:51.743Z"
   },
   {
    "duration": 110,
    "start_time": "2023-10-02T15:27:51.902Z"
   },
   {
    "duration": 63,
    "start_time": "2023-10-02T15:27:52.014Z"
   },
   {
    "duration": 840,
    "start_time": "2023-10-02T15:27:52.079Z"
   },
   {
    "duration": 10,
    "start_time": "2023-10-02T15:27:52.926Z"
   },
   {
    "duration": 38,
    "start_time": "2023-10-02T15:27:52.938Z"
   },
   {
    "duration": 30,
    "start_time": "2023-10-02T15:27:52.978Z"
   },
   {
    "duration": 21,
    "start_time": "2023-10-02T15:27:53.009Z"
   },
   {
    "duration": 48,
    "start_time": "2023-10-02T15:27:53.032Z"
   },
   {
    "duration": 66,
    "start_time": "2023-10-02T15:27:53.082Z"
   },
   {
    "duration": 211,
    "start_time": "2023-10-02T15:27:53.150Z"
   },
   {
    "duration": 98,
    "start_time": "2023-10-02T15:27:53.363Z"
   },
   {
    "duration": 46,
    "start_time": "2023-10-02T15:27:53.463Z"
   },
   {
    "duration": 58,
    "start_time": "2023-10-02T15:27:53.511Z"
   },
   {
    "duration": 34,
    "start_time": "2023-10-02T15:27:53.571Z"
   },
   {
    "duration": 13,
    "start_time": "2023-10-02T15:28:28.584Z"
   },
   {
    "duration": 273,
    "start_time": "2023-10-02T15:30:17.063Z"
   },
   {
    "duration": 1292,
    "start_time": "2023-10-02T15:39:06.045Z"
   },
   {
    "duration": 6,
    "start_time": "2023-10-02T15:39:07.339Z"
   },
   {
    "duration": 899,
    "start_time": "2023-10-02T15:39:07.346Z"
   },
   {
    "duration": 717,
    "start_time": "2023-10-02T15:39:08.247Z"
   },
   {
    "duration": 141,
    "start_time": "2023-10-02T15:39:08.966Z"
   },
   {
    "duration": 7,
    "start_time": "2023-10-02T15:39:09.109Z"
   },
   {
    "duration": 77,
    "start_time": "2023-10-02T15:39:09.125Z"
   },
   {
    "duration": 31,
    "start_time": "2023-10-02T15:39:09.204Z"
   },
   {
    "duration": 66,
    "start_time": "2023-10-02T15:39:09.237Z"
   },
   {
    "duration": 25,
    "start_time": "2023-10-02T15:39:09.305Z"
   },
   {
    "duration": 71,
    "start_time": "2023-10-02T15:39:09.332Z"
   },
   {
    "duration": 34,
    "start_time": "2023-10-02T15:39:09.406Z"
   },
   {
    "duration": 911,
    "start_time": "2023-10-02T15:39:09.442Z"
   },
   {
    "duration": 9,
    "start_time": "2023-10-02T15:39:10.357Z"
   },
   {
    "duration": 45,
    "start_time": "2023-10-02T15:39:10.368Z"
   },
   {
    "duration": 82,
    "start_time": "2023-10-02T15:39:10.415Z"
   },
   {
    "duration": 67,
    "start_time": "2023-10-02T15:39:10.499Z"
   },
   {
    "duration": 65,
    "start_time": "2023-10-02T15:39:10.568Z"
   },
   {
    "duration": 58,
    "start_time": "2023-10-02T15:39:10.635Z"
   },
   {
    "duration": 118,
    "start_time": "2023-10-02T15:39:10.696Z"
   },
   {
    "duration": 137,
    "start_time": "2023-10-02T15:39:10.817Z"
   },
   {
    "duration": 48,
    "start_time": "2023-10-02T15:39:10.956Z"
   },
   {
    "duration": 59,
    "start_time": "2023-10-02T15:39:11.006Z"
   },
   {
    "duration": 85,
    "start_time": "2023-10-02T15:39:11.067Z"
   },
   {
    "duration": 114,
    "start_time": "2023-10-02T15:39:11.154Z"
   },
   {
    "duration": 65,
    "start_time": "2023-10-02T15:39:11.270Z"
   },
   {
    "duration": 34,
    "start_time": "2023-10-02T15:40:37.572Z"
   },
   {
    "duration": 8,
    "start_time": "2023-10-02T15:42:31.602Z"
   },
   {
    "duration": 20,
    "start_time": "2023-10-02T15:46:14.602Z"
   },
   {
    "duration": 5,
    "start_time": "2023-10-02T15:46:44.591Z"
   },
   {
    "duration": 21,
    "start_time": "2023-10-02T15:46:49.225Z"
   },
   {
    "duration": 124,
    "start_time": "2023-10-02T15:51:00.609Z"
   },
   {
    "duration": 10,
    "start_time": "2023-10-02T15:51:09.411Z"
   },
   {
    "duration": 13,
    "start_time": "2023-10-02T15:53:24.323Z"
   },
   {
    "duration": 76,
    "start_time": "2023-10-02T15:53:40.783Z"
   },
   {
    "duration": 21,
    "start_time": "2023-10-02T15:53:53.534Z"
   },
   {
    "duration": 14,
    "start_time": "2023-10-02T15:54:13.462Z"
   },
   {
    "duration": 23,
    "start_time": "2023-10-02T15:54:21.378Z"
   },
   {
    "duration": 11,
    "start_time": "2023-10-02T15:55:59.382Z"
   },
   {
    "duration": 25,
    "start_time": "2023-10-02T15:56:17.594Z"
   },
   {
    "duration": 11,
    "start_time": "2023-10-02T15:59:24.269Z"
   },
   {
    "duration": 14,
    "start_time": "2023-10-02T16:02:57.467Z"
   },
   {
    "duration": 14,
    "start_time": "2023-10-02T16:04:25.768Z"
   },
   {
    "duration": 24,
    "start_time": "2023-10-02T16:05:36.925Z"
   },
   {
    "duration": 241,
    "start_time": "2023-10-02T16:08:35.372Z"
   },
   {
    "duration": 146,
    "start_time": "2023-10-02T16:08:51.339Z"
   },
   {
    "duration": 9,
    "start_time": "2023-10-02T16:08:58.475Z"
   },
   {
    "duration": 11,
    "start_time": "2023-10-02T16:09:17.519Z"
   },
   {
    "duration": 84,
    "start_time": "2023-10-02T16:18:04.494Z"
   },
   {
    "duration": 12,
    "start_time": "2023-10-02T16:18:15.735Z"
   },
   {
    "duration": 14,
    "start_time": "2023-10-02T16:18:53.451Z"
   },
   {
    "duration": 19,
    "start_time": "2023-10-02T16:19:02.992Z"
   },
   {
    "duration": 156,
    "start_time": "2023-10-02T16:19:14.634Z"
   },
   {
    "duration": 16,
    "start_time": "2023-10-02T16:19:27.211Z"
   },
   {
    "duration": 19,
    "start_time": "2023-10-02T16:23:10.137Z"
   },
   {
    "duration": 18,
    "start_time": "2023-10-02T16:23:25.067Z"
   },
   {
    "duration": 13,
    "start_time": "2023-10-02T16:23:30.821Z"
   },
   {
    "duration": 21,
    "start_time": "2023-10-02T16:23:50.064Z"
   },
   {
    "duration": 20,
    "start_time": "2023-10-02T16:24:11.007Z"
   },
   {
    "duration": 24,
    "start_time": "2023-10-02T16:24:20.400Z"
   },
   {
    "duration": 13,
    "start_time": "2023-10-02T16:24:35.593Z"
   },
   {
    "duration": 21,
    "start_time": "2023-10-02T16:24:49.173Z"
   },
   {
    "duration": 142,
    "start_time": "2023-10-02T16:24:56.444Z"
   },
   {
    "duration": 2783,
    "start_time": "2023-10-02T16:25:08.691Z"
   },
   {
    "duration": 6,
    "start_time": "2023-10-02T16:26:06.059Z"
   },
   {
    "duration": 8,
    "start_time": "2023-10-02T16:26:21.901Z"
   },
   {
    "duration": 1819,
    "start_time": "2023-10-02T16:27:22.203Z"
   },
   {
    "duration": 20,
    "start_time": "2023-10-02T16:27:54.123Z"
   },
   {
    "duration": 16,
    "start_time": "2023-10-02T16:28:25.198Z"
   },
   {
    "duration": 17,
    "start_time": "2023-10-02T16:28:41.159Z"
   },
   {
    "duration": 116,
    "start_time": "2023-10-02T16:28:52.624Z"
   },
   {
    "duration": 227,
    "start_time": "2023-10-02T16:29:59.239Z"
   },
   {
    "duration": 31,
    "start_time": "2023-10-02T16:30:31.914Z"
   },
   {
    "duration": 28,
    "start_time": "2023-10-02T16:30:39.020Z"
   },
   {
    "duration": 2120,
    "start_time": "2023-10-02T16:31:06.802Z"
   },
   {
    "duration": 26,
    "start_time": "2023-10-02T16:31:24.448Z"
   },
   {
    "duration": 11,
    "start_time": "2023-10-02T16:31:33.060Z"
   },
   {
    "duration": 186,
    "start_time": "2023-10-02T16:33:55.252Z"
   },
   {
    "duration": 519,
    "start_time": "2023-10-02T16:34:13.213Z"
   },
   {
    "duration": 512,
    "start_time": "2023-10-02T16:34:38.776Z"
   },
   {
    "duration": 4,
    "start_time": "2023-10-02T16:36:43.109Z"
   },
   {
    "duration": 2298,
    "start_time": "2023-10-02T16:37:04.559Z"
   },
   {
    "duration": 129,
    "start_time": "2023-10-02T16:37:47.703Z"
   },
   {
    "duration": 7,
    "start_time": "2023-10-02T16:38:44.834Z"
   },
   {
    "duration": 629,
    "start_time": "2023-10-02T16:39:18.291Z"
   },
   {
    "duration": 555,
    "start_time": "2023-10-02T16:40:13.600Z"
   },
   {
    "duration": 6,
    "start_time": "2023-10-02T16:42:16.290Z"
   },
   {
    "duration": 140,
    "start_time": "2023-10-02T16:43:44.092Z"
   },
   {
    "duration": 694,
    "start_time": "2023-10-02T16:43:51.095Z"
   },
   {
    "duration": 657,
    "start_time": "2023-10-02T16:46:23.726Z"
   },
   {
    "duration": 705,
    "start_time": "2023-10-02T16:46:35.809Z"
   },
   {
    "duration": 747,
    "start_time": "2023-10-02T16:48:37.056Z"
   },
   {
    "duration": 7,
    "start_time": "2023-10-02T16:51:53.804Z"
   },
   {
    "duration": 23,
    "start_time": "2023-10-02T16:51:55.259Z"
   },
   {
    "duration": 1317,
    "start_time": "2023-10-02T17:08:34.235Z"
   },
   {
    "duration": 4,
    "start_time": "2023-10-02T17:08:35.554Z"
   },
   {
    "duration": 1041,
    "start_time": "2023-10-02T17:08:35.559Z"
   },
   {
    "duration": 771,
    "start_time": "2023-10-02T17:08:36.602Z"
   },
   {
    "duration": 175,
    "start_time": "2023-10-02T17:08:37.377Z"
   },
   {
    "duration": 9,
    "start_time": "2023-10-02T17:08:37.554Z"
   },
   {
    "duration": 98,
    "start_time": "2023-10-02T17:08:37.565Z"
   },
   {
    "duration": 48,
    "start_time": "2023-10-02T17:08:37.665Z"
   },
   {
    "duration": 42,
    "start_time": "2023-10-02T17:08:37.715Z"
   },
   {
    "duration": 25,
    "start_time": "2023-10-02T17:08:37.759Z"
   },
   {
    "duration": 31,
    "start_time": "2023-10-02T17:08:37.786Z"
   },
   {
    "duration": 58,
    "start_time": "2023-10-02T17:08:37.819Z"
   },
   {
    "duration": 937,
    "start_time": "2023-10-02T17:08:37.879Z"
   },
   {
    "duration": 17,
    "start_time": "2023-10-02T17:08:38.826Z"
   },
   {
    "duration": 131,
    "start_time": "2023-10-02T17:08:38.845Z"
   },
   {
    "duration": 25,
    "start_time": "2023-10-02T17:08:38.979Z"
   },
   {
    "duration": 34,
    "start_time": "2023-10-02T17:08:39.006Z"
   },
   {
    "duration": 63,
    "start_time": "2023-10-02T17:08:39.044Z"
   },
   {
    "duration": 169,
    "start_time": "2023-10-02T17:08:39.108Z"
   },
   {
    "duration": 63,
    "start_time": "2023-10-02T17:08:39.279Z"
   },
   {
    "duration": 205,
    "start_time": "2023-10-02T17:08:39.345Z"
   },
   {
    "duration": 37,
    "start_time": "2023-10-02T17:08:39.553Z"
   },
   {
    "duration": 65,
    "start_time": "2023-10-02T17:08:39.593Z"
   },
   {
    "duration": 37,
    "start_time": "2023-10-02T17:08:39.660Z"
   },
   {
    "duration": 28,
    "start_time": "2023-10-02T17:08:39.699Z"
   },
   {
    "duration": 20,
    "start_time": "2023-10-02T17:08:39.732Z"
   },
   {
    "duration": 17,
    "start_time": "2023-10-02T17:08:39.754Z"
   },
   {
    "duration": 736,
    "start_time": "2023-10-02T17:08:39.773Z"
   },
   {
    "duration": 14,
    "start_time": "2023-10-02T17:08:40.511Z"
   },
   {
    "duration": 43,
    "start_time": "2023-10-02T17:08:40.528Z"
   },
   {
    "duration": 12,
    "start_time": "2023-10-02T17:14:21.006Z"
   },
   {
    "duration": 7,
    "start_time": "2023-10-02T17:15:28.578Z"
   },
   {
    "duration": 17,
    "start_time": "2023-10-02T17:16:07.889Z"
   },
   {
    "duration": 11,
    "start_time": "2023-10-02T17:17:33.244Z"
   },
   {
    "duration": 27,
    "start_time": "2023-10-02T17:17:45.709Z"
   },
   {
    "duration": 23,
    "start_time": "2023-10-02T17:18:52.196Z"
   },
   {
    "duration": 36,
    "start_time": "2023-10-02T17:19:25.165Z"
   },
   {
    "duration": 12,
    "start_time": "2023-10-02T17:20:14.009Z"
   },
   {
    "duration": 20,
    "start_time": "2023-10-02T17:20:41.072Z"
   },
   {
    "duration": 20,
    "start_time": "2023-10-02T17:21:20.791Z"
   },
   {
    "duration": 8,
    "start_time": "2023-10-02T17:21:50.693Z"
   },
   {
    "duration": 31,
    "start_time": "2023-10-02T17:21:59.182Z"
   },
   {
    "duration": 30,
    "start_time": "2023-10-02T17:22:23.828Z"
   },
   {
    "duration": 23,
    "start_time": "2023-10-02T17:22:31.386Z"
   },
   {
    "duration": 51,
    "start_time": "2023-10-02T17:22:56.490Z"
   },
   {
    "duration": 31,
    "start_time": "2023-10-02T17:23:03.820Z"
   },
   {
    "duration": 11,
    "start_time": "2023-10-02T17:23:16.968Z"
   },
   {
    "duration": 5,
    "start_time": "2023-10-02T17:23:40.715Z"
   },
   {
    "duration": 5,
    "start_time": "2023-10-02T17:24:12.979Z"
   },
   {
    "duration": 9,
    "start_time": "2023-10-02T17:24:18.780Z"
   },
   {
    "duration": 28,
    "start_time": "2023-10-02T17:24:36.196Z"
   },
   {
    "duration": 25,
    "start_time": "2023-10-02T17:24:58.985Z"
   },
   {
    "duration": 5,
    "start_time": "2023-10-02T17:25:24.216Z"
   },
   {
    "duration": 4,
    "start_time": "2023-10-02T17:25:57.941Z"
   },
   {
    "duration": 30,
    "start_time": "2023-10-02T18:42:55.994Z"
   },
   {
    "duration": 187,
    "start_time": "2023-10-02T18:45:07.055Z"
   },
   {
    "duration": 20,
    "start_time": "2023-10-02T18:48:04.064Z"
   },
   {
    "duration": 16,
    "start_time": "2023-10-02T18:50:43.100Z"
   },
   {
    "duration": 29,
    "start_time": "2023-10-02T18:50:48.279Z"
   },
   {
    "duration": 27,
    "start_time": "2023-10-02T18:51:28.177Z"
   },
   {
    "duration": 27,
    "start_time": "2023-10-02T18:58:28.964Z"
   },
   {
    "duration": 893,
    "start_time": "2023-10-02T18:59:10.259Z"
   },
   {
    "duration": 466,
    "start_time": "2023-10-02T19:04:09.962Z"
   },
   {
    "duration": 12,
    "start_time": "2023-10-02T19:04:26.951Z"
   },
   {
    "duration": 30,
    "start_time": "2023-10-02T19:04:32.775Z"
   },
   {
    "duration": 360,
    "start_time": "2023-10-02T19:06:31.371Z"
   },
   {
    "duration": 373,
    "start_time": "2023-10-02T19:06:48.840Z"
   },
   {
    "duration": 103,
    "start_time": "2023-10-02T19:09:47.317Z"
   },
   {
    "duration": 18,
    "start_time": "2023-10-02T19:09:55.135Z"
   },
   {
    "duration": 32,
    "start_time": "2023-10-02T19:10:13.200Z"
   },
   {
    "duration": 27,
    "start_time": "2023-10-02T19:10:28.177Z"
   },
   {
    "duration": 193,
    "start_time": "2023-10-02T19:11:08.465Z"
   },
   {
    "duration": 240,
    "start_time": "2023-10-02T19:12:22.304Z"
   },
   {
    "duration": 139,
    "start_time": "2023-10-02T19:12:38.034Z"
   },
   {
    "duration": 261,
    "start_time": "2023-10-02T19:12:58.465Z"
   },
   {
    "duration": 322,
    "start_time": "2023-10-02T19:13:16.723Z"
   },
   {
    "duration": 289,
    "start_time": "2023-10-02T19:13:23.827Z"
   },
   {
    "duration": 294,
    "start_time": "2023-10-02T19:13:32.012Z"
   },
   {
    "duration": 415,
    "start_time": "2023-10-02T19:13:38.383Z"
   },
   {
    "duration": 408,
    "start_time": "2023-10-02T19:25:25.938Z"
   },
   {
    "duration": 424,
    "start_time": "2023-10-02T19:25:43.829Z"
   },
   {
    "duration": 1735,
    "start_time": "2023-10-02T19:26:36.700Z"
   },
   {
    "duration": 5,
    "start_time": "2023-10-02T19:26:38.437Z"
   },
   {
    "duration": 930,
    "start_time": "2023-10-02T19:26:38.444Z"
   },
   {
    "duration": 1016,
    "start_time": "2023-10-02T19:26:39.378Z"
   },
   {
    "duration": 233,
    "start_time": "2023-10-02T19:26:40.396Z"
   },
   {
    "duration": 9,
    "start_time": "2023-10-02T19:26:40.632Z"
   },
   {
    "duration": 103,
    "start_time": "2023-10-02T19:26:40.643Z"
   },
   {
    "duration": 66,
    "start_time": "2023-10-02T19:26:40.749Z"
   },
   {
    "duration": 52,
    "start_time": "2023-10-02T19:26:40.817Z"
   },
   {
    "duration": 29,
    "start_time": "2023-10-02T19:26:40.872Z"
   },
   {
    "duration": 55,
    "start_time": "2023-10-02T19:26:40.903Z"
   },
   {
    "duration": 58,
    "start_time": "2023-10-02T19:26:40.961Z"
   },
   {
    "duration": 1247,
    "start_time": "2023-10-02T19:26:41.021Z"
   },
   {
    "duration": 11,
    "start_time": "2023-10-02T19:26:42.270Z"
   },
   {
    "duration": 22,
    "start_time": "2023-10-02T19:26:42.283Z"
   },
   {
    "duration": 48,
    "start_time": "2023-10-02T19:26:42.307Z"
   },
   {
    "duration": 18,
    "start_time": "2023-10-02T19:26:42.357Z"
   },
   {
    "duration": 39,
    "start_time": "2023-10-02T19:26:42.377Z"
   },
   {
    "duration": 24,
    "start_time": "2023-10-02T19:26:42.419Z"
   },
   {
    "duration": 6,
    "start_time": "2023-10-02T19:26:42.445Z"
   },
   {
    "duration": 95,
    "start_time": "2023-10-02T19:26:42.453Z"
   },
   {
    "duration": 17,
    "start_time": "2023-10-02T19:26:42.550Z"
   },
   {
    "duration": 96,
    "start_time": "2023-10-02T19:26:42.570Z"
   },
   {
    "duration": 58,
    "start_time": "2023-10-02T19:26:42.669Z"
   },
   {
    "duration": 30,
    "start_time": "2023-10-02T19:26:42.730Z"
   },
   {
    "duration": 22,
    "start_time": "2023-10-02T19:26:42.762Z"
   },
   {
    "duration": 43,
    "start_time": "2023-10-02T19:26:42.787Z"
   },
   {
    "duration": 979,
    "start_time": "2023-10-02T19:26:42.833Z"
   },
   {
    "duration": 16,
    "start_time": "2023-10-02T19:26:43.815Z"
   },
   {
    "duration": 43,
    "start_time": "2023-10-02T19:26:43.833Z"
   },
   {
    "duration": 61,
    "start_time": "2023-10-02T19:26:43.880Z"
   },
   {
    "duration": 44,
    "start_time": "2023-10-02T19:26:43.944Z"
   },
   {
    "duration": 4,
    "start_time": "2023-10-02T19:26:43.991Z"
   },
   {
    "duration": 36,
    "start_time": "2023-10-02T19:26:43.997Z"
   },
   {
    "duration": 541,
    "start_time": "2023-10-02T19:26:44.036Z"
   },
   {
    "duration": 962,
    "start_time": "2023-10-02T19:26:44.583Z"
   },
   {
    "duration": 77,
    "start_time": "2023-10-02T19:26:45.547Z"
   },
   {
    "duration": 27,
    "start_time": "2023-10-02T19:27:53.759Z"
   },
   {
    "duration": 94,
    "start_time": "2023-10-02T19:28:11.457Z"
   },
   {
    "duration": 27,
    "start_time": "2023-10-02T19:28:16.795Z"
   },
   {
    "duration": 1550,
    "start_time": "2023-10-02T19:29:33.362Z"
   },
   {
    "duration": 71,
    "start_time": "2023-10-02T19:29:57.555Z"
   },
   {
    "duration": 26,
    "start_time": "2023-10-02T19:30:07.057Z"
   },
   {
    "duration": 34,
    "start_time": "2023-10-02T19:30:11.884Z"
   },
   {
    "duration": 37,
    "start_time": "2023-10-02T19:32:35.459Z"
   },
   {
    "duration": 30,
    "start_time": "2023-10-02T19:32:38.921Z"
   },
   {
    "duration": 1470,
    "start_time": "2023-10-03T10:20:27.716Z"
   },
   {
    "duration": 4,
    "start_time": "2023-10-03T10:20:29.188Z"
   },
   {
    "duration": 1122,
    "start_time": "2023-10-03T10:20:29.193Z"
   },
   {
    "duration": 611,
    "start_time": "2023-10-03T10:20:30.317Z"
   },
   {
    "duration": 138,
    "start_time": "2023-10-03T10:20:30.930Z"
   },
   {
    "duration": 7,
    "start_time": "2023-10-03T10:20:31.069Z"
   },
   {
    "duration": 142,
    "start_time": "2023-10-03T10:20:31.078Z"
   },
   {
    "duration": 146,
    "start_time": "2023-10-03T10:20:31.221Z"
   },
   {
    "duration": 67,
    "start_time": "2023-10-03T10:20:31.369Z"
   },
   {
    "duration": 44,
    "start_time": "2023-10-03T10:20:31.438Z"
   },
   {
    "duration": 69,
    "start_time": "2023-10-03T10:20:31.484Z"
   },
   {
    "duration": 68,
    "start_time": "2023-10-03T10:20:31.555Z"
   },
   {
    "duration": 777,
    "start_time": "2023-10-03T10:20:31.625Z"
   },
   {
    "duration": 8,
    "start_time": "2023-10-03T10:20:32.406Z"
   },
   {
    "duration": 50,
    "start_time": "2023-10-03T10:20:32.415Z"
   },
   {
    "duration": 30,
    "start_time": "2023-10-03T10:20:32.466Z"
   },
   {
    "duration": 39,
    "start_time": "2023-10-03T10:20:32.498Z"
   },
   {
    "duration": 35,
    "start_time": "2023-10-03T10:20:32.540Z"
   },
   {
    "duration": 188,
    "start_time": "2023-10-03T10:20:32.577Z"
   },
   {
    "duration": 35,
    "start_time": "2023-10-03T10:20:32.767Z"
   },
   {
    "duration": 89,
    "start_time": "2023-10-03T10:20:32.804Z"
   },
   {
    "duration": 47,
    "start_time": "2023-10-03T10:20:32.894Z"
   },
   {
    "duration": 91,
    "start_time": "2023-10-03T10:20:32.942Z"
   },
   {
    "duration": 33,
    "start_time": "2023-10-03T10:20:33.034Z"
   },
   {
    "duration": 46,
    "start_time": "2023-10-03T10:20:33.068Z"
   },
   {
    "duration": 23,
    "start_time": "2023-10-03T10:20:33.116Z"
   },
   {
    "duration": 68,
    "start_time": "2023-10-03T10:20:33.140Z"
   },
   {
    "duration": 564,
    "start_time": "2023-10-03T10:20:33.210Z"
   },
   {
    "duration": 7,
    "start_time": "2023-10-03T10:20:33.775Z"
   },
   {
    "duration": 19,
    "start_time": "2023-10-03T10:20:33.783Z"
   },
   {
    "duration": 18,
    "start_time": "2023-10-03T10:20:33.804Z"
   },
   {
    "duration": 32,
    "start_time": "2023-10-03T10:20:33.823Z"
   },
   {
    "duration": 3,
    "start_time": "2023-10-03T10:20:33.856Z"
   },
   {
    "duration": 28,
    "start_time": "2023-10-03T10:20:33.861Z"
   },
   {
    "duration": 335,
    "start_time": "2023-10-03T10:20:33.890Z"
   },
   {
    "duration": 25,
    "start_time": "2023-10-03T10:20:34.227Z"
   },
   {
    "duration": 596,
    "start_time": "2023-10-03T10:20:34.254Z"
   },
   {
    "duration": 20,
    "start_time": "2023-10-03T10:20:34.851Z"
   },
   {
    "duration": 32,
    "start_time": "2023-10-03T10:20:34.872Z"
   },
   {
    "duration": 2895,
    "start_time": "2023-10-03T10:20:34.950Z"
   },
   {
    "duration": 0,
    "start_time": "2023-10-03T10:20:37.846Z"
   },
   {
    "duration": 17,
    "start_time": "2023-10-03T10:21:26.222Z"
   },
   {
    "duration": 273,
    "start_time": "2023-10-03T10:21:29.005Z"
   },
   {
    "duration": 23,
    "start_time": "2023-10-03T10:21:32.414Z"
   },
   {
    "duration": 8,
    "start_time": "2023-10-03T10:25:37.705Z"
   },
   {
    "duration": 20,
    "start_time": "2023-10-03T10:25:45.618Z"
   },
   {
    "duration": 20,
    "start_time": "2023-10-03T10:26:38.983Z"
   },
   {
    "duration": 152,
    "start_time": "2023-10-03T10:27:20.829Z"
   },
   {
    "duration": 320,
    "start_time": "2023-10-03T10:50:49.978Z"
   },
   {
    "duration": 11,
    "start_time": "2023-10-03T10:51:22.024Z"
   },
   {
    "duration": 322,
    "start_time": "2023-10-03T10:51:26.737Z"
   },
   {
    "duration": 297,
    "start_time": "2023-10-03T10:51:55.985Z"
   },
   {
    "duration": 226,
    "start_time": "2023-10-03T10:51:59.782Z"
   },
   {
    "duration": 283,
    "start_time": "2023-10-03T10:52:08.738Z"
   },
   {
    "duration": 153,
    "start_time": "2023-10-03T10:54:02.784Z"
   },
   {
    "duration": 1305,
    "start_time": "2023-10-03T10:54:13.510Z"
   },
   {
    "duration": 4,
    "start_time": "2023-10-03T10:54:14.817Z"
   },
   {
    "duration": 664,
    "start_time": "2023-10-03T10:54:14.822Z"
   },
   {
    "duration": 676,
    "start_time": "2023-10-03T10:54:15.488Z"
   },
   {
    "duration": 140,
    "start_time": "2023-10-03T10:54:16.166Z"
   },
   {
    "duration": 6,
    "start_time": "2023-10-03T10:54:16.308Z"
   },
   {
    "duration": 93,
    "start_time": "2023-10-03T10:54:16.316Z"
   },
   {
    "duration": 27,
    "start_time": "2023-10-03T10:54:16.411Z"
   },
   {
    "duration": 61,
    "start_time": "2023-10-03T10:54:16.440Z"
   },
   {
    "duration": 81,
    "start_time": "2023-10-03T10:54:16.504Z"
   },
   {
    "duration": 62,
    "start_time": "2023-10-03T10:54:16.587Z"
   },
   {
    "duration": 68,
    "start_time": "2023-10-03T10:54:16.650Z"
   },
   {
    "duration": 815,
    "start_time": "2023-10-03T10:54:16.720Z"
   },
   {
    "duration": 7,
    "start_time": "2023-10-03T10:54:17.537Z"
   },
   {
    "duration": 38,
    "start_time": "2023-10-03T10:54:17.550Z"
   },
   {
    "duration": 41,
    "start_time": "2023-10-03T10:54:17.589Z"
   },
   {
    "duration": 30,
    "start_time": "2023-10-03T10:54:17.632Z"
   },
   {
    "duration": 27,
    "start_time": "2023-10-03T10:54:17.663Z"
   },
   {
    "duration": 37,
    "start_time": "2023-10-03T10:54:17.691Z"
   },
   {
    "duration": 29,
    "start_time": "2023-10-03T10:54:17.730Z"
   },
   {
    "duration": 78,
    "start_time": "2023-10-03T10:54:17.761Z"
   },
   {
    "duration": 21,
    "start_time": "2023-10-03T10:54:17.841Z"
   },
   {
    "duration": 62,
    "start_time": "2023-10-03T10:54:17.864Z"
   },
   {
    "duration": 36,
    "start_time": "2023-10-03T10:54:17.928Z"
   },
   {
    "duration": 39,
    "start_time": "2023-10-03T10:54:17.966Z"
   },
   {
    "duration": 13,
    "start_time": "2023-10-03T10:54:18.007Z"
   },
   {
    "duration": 42,
    "start_time": "2023-10-03T10:54:18.022Z"
   },
   {
    "duration": 632,
    "start_time": "2023-10-03T10:54:18.068Z"
   },
   {
    "duration": 6,
    "start_time": "2023-10-03T10:54:18.702Z"
   },
   {
    "duration": 35,
    "start_time": "2023-10-03T10:54:18.709Z"
   },
   {
    "duration": 37,
    "start_time": "2023-10-03T10:54:18.746Z"
   },
   {
    "duration": 26,
    "start_time": "2023-10-03T10:54:18.784Z"
   },
   {
    "duration": 4,
    "start_time": "2023-10-03T10:54:18.812Z"
   },
   {
    "duration": 14,
    "start_time": "2023-10-03T10:54:18.818Z"
   },
   {
    "duration": 342,
    "start_time": "2023-10-03T10:54:18.834Z"
   },
   {
    "duration": 153,
    "start_time": "2023-10-03T10:54:19.177Z"
   },
   {
    "duration": 127,
    "start_time": "2023-10-03T10:54:19.332Z"
   },
   {
    "duration": 0,
    "start_time": "2023-10-03T10:54:19.460Z"
   },
   {
    "duration": 0,
    "start_time": "2023-10-03T10:54:19.461Z"
   },
   {
    "duration": 0,
    "start_time": "2023-10-03T10:54:19.462Z"
   },
   {
    "duration": 18,
    "start_time": "2023-10-03T10:55:37.477Z"
   },
   {
    "duration": 15,
    "start_time": "2023-10-03T11:10:55.827Z"
   },
   {
    "duration": 24,
    "start_time": "2023-10-03T11:11:03.836Z"
   },
   {
    "duration": 2410,
    "start_time": "2023-10-03T11:11:45.367Z"
   },
   {
    "duration": 16,
    "start_time": "2023-10-03T11:12:07.839Z"
   },
   {
    "duration": 19,
    "start_time": "2023-10-03T11:12:28.947Z"
   },
   {
    "duration": 21,
    "start_time": "2023-10-03T11:13:16.131Z"
   },
   {
    "duration": 11,
    "start_time": "2023-10-03T11:13:45.982Z"
   },
   {
    "duration": 20,
    "start_time": "2023-10-03T11:17:04.389Z"
   },
   {
    "duration": 141,
    "start_time": "2023-10-03T11:17:22.333Z"
   },
   {
    "duration": 152,
    "start_time": "2023-10-03T11:17:46.528Z"
   },
   {
    "duration": 133,
    "start_time": "2023-10-03T11:17:54.530Z"
   },
   {
    "duration": 245,
    "start_time": "2023-10-03T11:19:02.582Z"
   },
   {
    "duration": 254,
    "start_time": "2023-10-03T11:24:20.757Z"
   },
   {
    "duration": 239,
    "start_time": "2023-10-03T11:24:40.478Z"
   },
   {
    "duration": 343,
    "start_time": "2023-10-03T11:25:23.930Z"
   },
   {
    "duration": 259,
    "start_time": "2023-10-03T11:26:42.570Z"
   },
   {
    "duration": 14,
    "start_time": "2023-10-03T11:34:05.876Z"
   },
   {
    "duration": 116,
    "start_time": "2023-10-03T11:36:48.480Z"
   },
   {
    "duration": 148,
    "start_time": "2023-10-03T11:36:54.153Z"
   },
   {
    "duration": 11,
    "start_time": "2023-10-03T11:37:31.697Z"
   },
   {
    "duration": 10,
    "start_time": "2023-10-03T11:38:30.646Z"
   },
   {
    "duration": 146,
    "start_time": "2023-10-03T11:38:53.345Z"
   },
   {
    "duration": 158,
    "start_time": "2023-10-03T11:39:20.513Z"
   },
   {
    "duration": 173,
    "start_time": "2023-10-03T11:40:24.741Z"
   },
   {
    "duration": 8,
    "start_time": "2023-10-03T11:41:35.469Z"
   },
   {
    "duration": 22,
    "start_time": "2023-10-03T11:47:39.280Z"
   },
   {
    "duration": 255,
    "start_time": "2023-10-03T11:48:24.932Z"
   },
   {
    "duration": 270,
    "start_time": "2023-10-03T11:48:44.105Z"
   },
   {
    "duration": 194,
    "start_time": "2023-10-03T11:51:49.810Z"
   },
   {
    "duration": 12,
    "start_time": "2023-10-03T11:54:19.080Z"
   },
   {
    "duration": 31,
    "start_time": "2023-10-03T11:56:26.012Z"
   },
   {
    "duration": 215,
    "start_time": "2023-10-03T11:56:36.312Z"
   },
   {
    "duration": 187,
    "start_time": "2023-10-03T11:58:26.739Z"
   },
   {
    "duration": 5,
    "start_time": "2023-10-03T11:59:37.505Z"
   },
   {
    "duration": 5,
    "start_time": "2023-10-03T11:59:57.405Z"
   },
   {
    "duration": 5,
    "start_time": "2023-10-03T12:00:56.663Z"
   },
   {
    "duration": 10,
    "start_time": "2023-10-03T12:02:20.921Z"
   },
   {
    "duration": 13,
    "start_time": "2023-10-03T12:03:49.362Z"
   },
   {
    "duration": 10,
    "start_time": "2023-10-03T12:04:17.514Z"
   },
   {
    "duration": 192,
    "start_time": "2023-10-03T12:11:21.340Z"
   },
   {
    "duration": 205,
    "start_time": "2023-10-03T12:12:27.010Z"
   },
   {
    "duration": 195,
    "start_time": "2023-10-03T12:13:36.380Z"
   },
   {
    "duration": 18,
    "start_time": "2023-10-03T12:16:06.662Z"
   },
   {
    "duration": 11,
    "start_time": "2023-10-03T12:18:55.156Z"
   },
   {
    "duration": 19,
    "start_time": "2023-10-03T12:19:01.061Z"
   },
   {
    "duration": 10,
    "start_time": "2023-10-03T12:19:13.509Z"
   },
   {
    "duration": 19,
    "start_time": "2023-10-03T12:19:15.273Z"
   },
   {
    "duration": 21,
    "start_time": "2023-10-03T12:20:13.730Z"
   },
   {
    "duration": 29,
    "start_time": "2023-10-03T12:20:15.738Z"
   },
   {
    "duration": 18,
    "start_time": "2023-10-03T12:22:40.424Z"
   },
   {
    "duration": 521,
    "start_time": "2023-10-03T12:33:35.663Z"
   },
   {
    "duration": 394,
    "start_time": "2023-10-03T12:33:48.663Z"
   },
   {
    "duration": 10,
    "start_time": "2023-10-03T12:46:22.600Z"
   },
   {
    "duration": 7,
    "start_time": "2023-10-03T12:48:46.762Z"
   },
   {
    "duration": 11,
    "start_time": "2023-10-03T12:50:57.284Z"
   },
   {
    "duration": 10,
    "start_time": "2023-10-03T12:56:32.890Z"
   },
   {
    "duration": 14,
    "start_time": "2023-10-03T12:56:44.793Z"
   },
   {
    "duration": 16,
    "start_time": "2023-10-03T12:58:13.038Z"
   },
   {
    "duration": 355,
    "start_time": "2023-10-03T12:58:57.615Z"
   },
   {
    "duration": 12,
    "start_time": "2023-10-03T12:59:46.962Z"
   },
   {
    "duration": 9,
    "start_time": "2023-10-03T13:01:28.134Z"
   },
   {
    "duration": 216,
    "start_time": "2023-10-03T13:01:34.521Z"
   },
   {
    "duration": 9,
    "start_time": "2023-10-03T13:01:38.232Z"
   },
   {
    "duration": 16,
    "start_time": "2023-10-03T13:01:46.380Z"
   },
   {
    "duration": 375,
    "start_time": "2023-10-03T13:02:53.576Z"
   },
   {
    "duration": 363,
    "start_time": "2023-10-03T13:07:09.463Z"
   },
   {
    "duration": 23,
    "start_time": "2023-10-03T13:09:02.892Z"
   },
   {
    "duration": 23,
    "start_time": "2023-10-03T13:09:29.121Z"
   },
   {
    "duration": 22,
    "start_time": "2023-10-03T13:10:19.896Z"
   },
   {
    "duration": 20,
    "start_time": "2023-10-03T13:11:26.506Z"
   },
   {
    "duration": 1811,
    "start_time": "2023-10-03T13:11:35.385Z"
   },
   {
    "duration": 1336,
    "start_time": "2023-10-03T13:14:16.653Z"
   },
   {
    "duration": 3,
    "start_time": "2023-10-03T13:14:17.991Z"
   },
   {
    "duration": 646,
    "start_time": "2023-10-03T13:14:17.998Z"
   },
   {
    "duration": 606,
    "start_time": "2023-10-03T13:14:18.646Z"
   },
   {
    "duration": 112,
    "start_time": "2023-10-03T13:14:19.253Z"
   },
   {
    "duration": 7,
    "start_time": "2023-10-03T13:14:19.367Z"
   },
   {
    "duration": 33,
    "start_time": "2023-10-03T13:14:19.375Z"
   },
   {
    "duration": 19,
    "start_time": "2023-10-03T13:14:19.410Z"
   },
   {
    "duration": 68,
    "start_time": "2023-10-03T13:14:19.430Z"
   },
   {
    "duration": 35,
    "start_time": "2023-10-03T13:14:19.500Z"
   },
   {
    "duration": 26,
    "start_time": "2023-10-03T13:14:19.536Z"
   },
   {
    "duration": 32,
    "start_time": "2023-10-03T13:14:19.564Z"
   },
   {
    "duration": 763,
    "start_time": "2023-10-03T13:14:19.600Z"
   },
   {
    "duration": 7,
    "start_time": "2023-10-03T13:14:20.365Z"
   },
   {
    "duration": 42,
    "start_time": "2023-10-03T13:14:20.373Z"
   },
   {
    "duration": 31,
    "start_time": "2023-10-03T13:14:20.417Z"
   },
   {
    "duration": 31,
    "start_time": "2023-10-03T13:14:20.450Z"
   },
   {
    "duration": 21,
    "start_time": "2023-10-03T13:14:20.483Z"
   },
   {
    "duration": 37,
    "start_time": "2023-10-03T13:14:20.505Z"
   },
   {
    "duration": 21,
    "start_time": "2023-10-03T13:14:20.544Z"
   },
   {
    "duration": 89,
    "start_time": "2023-10-03T13:14:20.566Z"
   },
   {
    "duration": 12,
    "start_time": "2023-10-03T13:14:20.657Z"
   },
   {
    "duration": 56,
    "start_time": "2023-10-03T13:14:20.670Z"
   },
   {
    "duration": 35,
    "start_time": "2023-10-03T13:14:20.728Z"
   },
   {
    "duration": 17,
    "start_time": "2023-10-03T13:14:20.764Z"
   },
   {
    "duration": 5,
    "start_time": "2023-10-03T13:14:20.783Z"
   },
   {
    "duration": 17,
    "start_time": "2023-10-03T13:14:20.790Z"
   },
   {
    "duration": 586,
    "start_time": "2023-10-03T13:14:20.808Z"
   },
   {
    "duration": 6,
    "start_time": "2023-10-03T13:14:21.396Z"
   },
   {
    "duration": 28,
    "start_time": "2023-10-03T13:14:21.404Z"
   },
   {
    "duration": 20,
    "start_time": "2023-10-03T13:14:21.433Z"
   },
   {
    "duration": 45,
    "start_time": "2023-10-03T13:14:21.455Z"
   },
   {
    "duration": 3,
    "start_time": "2023-10-03T13:14:21.501Z"
   },
   {
    "duration": 223,
    "start_time": "2023-10-03T13:14:21.505Z"
   },
   {
    "duration": 9,
    "start_time": "2023-10-03T13:14:21.729Z"
   },
   {
    "duration": 259,
    "start_time": "2023-10-03T13:14:21.739Z"
   },
   {
    "duration": 2075,
    "start_time": "2023-10-03T13:14:22.000Z"
   },
   {
    "duration": 0,
    "start_time": "2023-10-03T13:14:24.077Z"
   },
   {
    "duration": 0,
    "start_time": "2023-10-03T13:14:24.078Z"
   },
   {
    "duration": 0,
    "start_time": "2023-10-03T13:14:24.079Z"
   },
   {
    "duration": 2535,
    "start_time": "2023-10-03T13:14:57.473Z"
   },
   {
    "duration": 4509,
    "start_time": "2023-10-03T13:15:02.613Z"
   },
   {
    "duration": 9,
    "start_time": "2023-10-03T13:15:20.005Z"
   },
   {
    "duration": 8,
    "start_time": "2023-10-03T13:15:24.092Z"
   },
   {
    "duration": 20,
    "start_time": "2023-10-03T13:15:29.408Z"
   },
   {
    "duration": 373,
    "start_time": "2023-10-03T13:16:29.968Z"
   },
   {
    "duration": 421,
    "start_time": "2023-10-03T13:16:45.644Z"
   },
   {
    "duration": 5,
    "start_time": "2023-10-03T13:17:10.266Z"
   },
   {
    "duration": 13,
    "start_time": "2023-10-03T13:29:12.213Z"
   },
   {
    "duration": 94,
    "start_time": "2023-10-03T13:48:34.777Z"
   },
   {
    "duration": 10,
    "start_time": "2023-10-03T13:49:07.063Z"
   },
   {
    "duration": 12,
    "start_time": "2023-10-03T13:52:52.067Z"
   },
   {
    "duration": 16,
    "start_time": "2023-10-03T13:53:16.433Z"
   },
   {
    "duration": 8,
    "start_time": "2023-10-03T13:56:40.012Z"
   },
   {
    "duration": 10,
    "start_time": "2023-10-03T14:02:29.414Z"
   },
   {
    "duration": 10,
    "start_time": "2023-10-03T14:02:49.762Z"
   },
   {
    "duration": 11,
    "start_time": "2023-10-03T14:03:41.272Z"
   },
   {
    "duration": 12,
    "start_time": "2023-10-03T14:03:45.085Z"
   },
   {
    "duration": 9,
    "start_time": "2023-10-03T14:03:54.095Z"
   },
   {
    "duration": 10,
    "start_time": "2023-10-03T14:04:13.027Z"
   },
   {
    "duration": 5,
    "start_time": "2023-10-03T14:05:50.587Z"
   },
   {
    "duration": 4,
    "start_time": "2023-10-03T14:06:23.017Z"
   },
   {
    "duration": 10,
    "start_time": "2023-10-03T14:06:34.687Z"
   },
   {
    "duration": 10,
    "start_time": "2023-10-03T14:07:05.356Z"
   },
   {
    "duration": 3489,
    "start_time": "2023-10-03T14:15:02.569Z"
   },
   {
    "duration": 4062,
    "start_time": "2023-10-03T14:15:10.951Z"
   },
   {
    "duration": 223,
    "start_time": "2023-10-03T14:15:33.973Z"
   },
   {
    "duration": 195,
    "start_time": "2023-10-03T14:15:50.369Z"
   },
   {
    "duration": 222,
    "start_time": "2023-10-03T14:16:00.452Z"
   },
   {
    "duration": 195,
    "start_time": "2023-10-03T14:16:07.385Z"
   },
   {
    "duration": 297,
    "start_time": "2023-10-03T14:16:13.194Z"
   },
   {
    "duration": 333,
    "start_time": "2023-10-03T14:18:40.000Z"
   },
   {
    "duration": 22,
    "start_time": "2023-10-03T14:32:27.268Z"
   },
   {
    "duration": 374,
    "start_time": "2023-10-03T14:34:36.305Z"
   },
   {
    "duration": 342,
    "start_time": "2023-10-03T14:34:59.559Z"
   },
   {
    "duration": 124,
    "start_time": "2023-10-03T14:55:58.312Z"
   },
   {
    "duration": 115,
    "start_time": "2023-10-03T14:56:05.819Z"
   },
   {
    "duration": 29,
    "start_time": "2023-10-03T14:56:11.463Z"
   },
   {
    "duration": 20,
    "start_time": "2023-10-03T14:58:54.077Z"
   },
   {
    "duration": 21,
    "start_time": "2023-10-03T14:59:09.313Z"
   },
   {
    "duration": 27,
    "start_time": "2023-10-03T14:59:27.864Z"
   },
   {
    "duration": 21,
    "start_time": "2023-10-03T14:59:35.224Z"
   },
   {
    "duration": 19,
    "start_time": "2023-10-03T14:59:42.691Z"
   },
   {
    "duration": 23,
    "start_time": "2023-10-03T15:00:14.803Z"
   },
   {
    "duration": 21,
    "start_time": "2023-10-03T15:00:24.860Z"
   },
   {
    "duration": 20,
    "start_time": "2023-10-03T15:00:40.709Z"
   },
   {
    "duration": 20,
    "start_time": "2023-10-03T15:00:58.630Z"
   },
   {
    "duration": 20,
    "start_time": "2023-10-03T15:02:40.573Z"
   },
   {
    "duration": 21,
    "start_time": "2023-10-03T15:02:47.553Z"
   },
   {
    "duration": 10,
    "start_time": "2023-10-03T15:04:12.204Z"
   },
   {
    "duration": 256,
    "start_time": "2023-10-03T15:04:38.087Z"
   },
   {
    "duration": 17,
    "start_time": "2023-10-03T15:05:41.144Z"
   },
   {
    "duration": 19,
    "start_time": "2023-10-03T15:05:46.411Z"
   },
   {
    "duration": 17,
    "start_time": "2023-10-03T15:06:21.449Z"
   },
   {
    "duration": 18,
    "start_time": "2023-10-03T15:10:44.549Z"
   },
   {
    "duration": 19,
    "start_time": "2023-10-03T15:12:58.801Z"
   },
   {
    "duration": 20,
    "start_time": "2023-10-03T15:14:22.364Z"
   },
   {
    "duration": 23,
    "start_time": "2023-10-03T15:16:14.781Z"
   },
   {
    "duration": 30,
    "start_time": "2023-10-03T15:16:54.046Z"
   },
   {
    "duration": 1318,
    "start_time": "2023-10-03T15:53:02.501Z"
   },
   {
    "duration": 4,
    "start_time": "2023-10-03T15:53:03.820Z"
   },
   {
    "duration": 625,
    "start_time": "2023-10-03T15:53:03.825Z"
   },
   {
    "duration": 613,
    "start_time": "2023-10-03T15:53:04.452Z"
   },
   {
    "duration": 124,
    "start_time": "2023-10-03T15:53:05.066Z"
   },
   {
    "duration": 7,
    "start_time": "2023-10-03T15:53:05.191Z"
   },
   {
    "duration": 25,
    "start_time": "2023-10-03T15:53:05.199Z"
   },
   {
    "duration": 24,
    "start_time": "2023-10-03T15:53:05.226Z"
   },
   {
    "duration": 24,
    "start_time": "2023-10-03T15:53:05.252Z"
   },
   {
    "duration": 21,
    "start_time": "2023-10-03T15:53:05.278Z"
   },
   {
    "duration": 38,
    "start_time": "2023-10-03T15:53:05.301Z"
   },
   {
    "duration": 29,
    "start_time": "2023-10-03T15:53:05.341Z"
   },
   {
    "duration": 857,
    "start_time": "2023-10-03T15:53:05.371Z"
   },
   {
    "duration": 9,
    "start_time": "2023-10-03T15:53:06.230Z"
   },
   {
    "duration": 49,
    "start_time": "2023-10-03T15:53:06.251Z"
   },
   {
    "duration": 30,
    "start_time": "2023-10-03T15:53:06.304Z"
   },
   {
    "duration": 46,
    "start_time": "2023-10-03T15:53:06.336Z"
   },
   {
    "duration": 22,
    "start_time": "2023-10-03T15:53:06.384Z"
   },
   {
    "duration": 27,
    "start_time": "2023-10-03T15:53:06.408Z"
   },
   {
    "duration": 37,
    "start_time": "2023-10-03T15:53:06.437Z"
   },
   {
    "duration": 74,
    "start_time": "2023-10-03T15:53:06.475Z"
   },
   {
    "duration": 45,
    "start_time": "2023-10-03T15:53:06.551Z"
   },
   {
    "duration": 42,
    "start_time": "2023-10-03T15:53:06.598Z"
   },
   {
    "duration": 43,
    "start_time": "2023-10-03T15:53:06.641Z"
   },
   {
    "duration": 32,
    "start_time": "2023-10-03T15:53:06.685Z"
   },
   {
    "duration": 6,
    "start_time": "2023-10-03T15:53:06.719Z"
   },
   {
    "duration": 19,
    "start_time": "2023-10-03T15:53:06.727Z"
   },
   {
    "duration": 607,
    "start_time": "2023-10-03T15:53:06.749Z"
   },
   {
    "duration": 8,
    "start_time": "2023-10-03T15:53:07.358Z"
   },
   {
    "duration": 37,
    "start_time": "2023-10-03T15:53:07.367Z"
   },
   {
    "duration": 31,
    "start_time": "2023-10-03T15:53:07.406Z"
   },
   {
    "duration": 55,
    "start_time": "2023-10-03T15:53:07.438Z"
   },
   {
    "duration": 4,
    "start_time": "2023-10-03T15:53:07.494Z"
   },
   {
    "duration": 236,
    "start_time": "2023-10-03T15:53:07.500Z"
   },
   {
    "duration": 443,
    "start_time": "2023-10-03T15:53:07.738Z"
   },
   {
    "duration": 11,
    "start_time": "2023-10-03T15:53:08.183Z"
   },
   {
    "duration": 180,
    "start_time": "2023-10-03T15:53:08.196Z"
   },
   {
    "duration": 5,
    "start_time": "2023-10-03T15:53:08.377Z"
   },
   {
    "duration": 376,
    "start_time": "2023-10-03T15:53:08.383Z"
   },
   {
    "duration": 11,
    "start_time": "2023-10-03T15:53:08.761Z"
   },
   {
    "duration": 374,
    "start_time": "2023-10-03T15:53:08.773Z"
   },
   {
    "duration": 19,
    "start_time": "2023-10-03T15:53:09.149Z"
   },
   {
    "duration": 164,
    "start_time": "2023-10-03T15:53:09.169Z"
   },
   {
    "duration": 180,
    "start_time": "2023-10-03T15:55:57.579Z"
   },
   {
    "duration": 202,
    "start_time": "2023-10-03T15:56:08.107Z"
   },
   {
    "duration": 109,
    "start_time": "2023-10-03T15:57:43.874Z"
   },
   {
    "duration": 20,
    "start_time": "2023-10-03T15:57:50.647Z"
   },
   {
    "duration": 20,
    "start_time": "2023-10-03T15:57:59.643Z"
   },
   {
    "duration": 131,
    "start_time": "2023-10-03T15:59:32.040Z"
   },
   {
    "duration": 28,
    "start_time": "2023-10-03T15:59:47.989Z"
   },
   {
    "duration": 21,
    "start_time": "2023-10-03T16:00:12.427Z"
   },
   {
    "duration": 22,
    "start_time": "2023-10-03T16:00:16.409Z"
   },
   {
    "duration": 20,
    "start_time": "2023-10-03T16:00:30.699Z"
   },
   {
    "duration": 21,
    "start_time": "2023-10-03T16:01:51.879Z"
   },
   {
    "duration": 25,
    "start_time": "2023-10-03T16:02:17.572Z"
   },
   {
    "duration": 18,
    "start_time": "2023-10-03T16:02:19.609Z"
   },
   {
    "duration": 21,
    "start_time": "2023-10-03T16:02:36.936Z"
   },
   {
    "duration": 20,
    "start_time": "2023-10-03T16:03:02.636Z"
   },
   {
    "duration": 25,
    "start_time": "2023-10-03T16:03:18.666Z"
   },
   {
    "duration": 111,
    "start_time": "2023-10-03T16:08:08.088Z"
   },
   {
    "duration": 26,
    "start_time": "2023-10-03T16:08:24.605Z"
   },
   {
    "duration": 22,
    "start_time": "2023-10-03T16:11:07.650Z"
   },
   {
    "duration": 21,
    "start_time": "2023-10-03T16:11:24.847Z"
   },
   {
    "duration": 20,
    "start_time": "2023-10-03T16:11:39.962Z"
   },
   {
    "duration": 23,
    "start_time": "2023-10-03T16:11:48.338Z"
   },
   {
    "duration": 18,
    "start_time": "2023-10-03T16:18:12.916Z"
   },
   {
    "duration": 1240,
    "start_time": "2023-10-03T16:21:05.529Z"
   },
   {
    "duration": 3,
    "start_time": "2023-10-03T16:21:06.771Z"
   },
   {
    "duration": 623,
    "start_time": "2023-10-03T16:21:06.776Z"
   },
   {
    "duration": 598,
    "start_time": "2023-10-03T16:21:07.400Z"
   },
   {
    "duration": 121,
    "start_time": "2023-10-03T16:21:08.000Z"
   },
   {
    "duration": 7,
    "start_time": "2023-10-03T16:21:08.123Z"
   },
   {
    "duration": 31,
    "start_time": "2023-10-03T16:21:08.131Z"
   },
   {
    "duration": 21,
    "start_time": "2023-10-03T16:21:08.163Z"
   },
   {
    "duration": 13,
    "start_time": "2023-10-03T16:21:08.186Z"
   },
   {
    "duration": 17,
    "start_time": "2023-10-03T16:21:08.200Z"
   },
   {
    "duration": 16,
    "start_time": "2023-10-03T16:21:08.219Z"
   },
   {
    "duration": 29,
    "start_time": "2023-10-03T16:21:08.236Z"
   },
   {
    "duration": 744,
    "start_time": "2023-10-03T16:21:08.267Z"
   },
   {
    "duration": 6,
    "start_time": "2023-10-03T16:21:09.014Z"
   },
   {
    "duration": 24,
    "start_time": "2023-10-03T16:21:09.022Z"
   },
   {
    "duration": 28,
    "start_time": "2023-10-03T16:21:09.047Z"
   },
   {
    "duration": 36,
    "start_time": "2023-10-03T16:21:09.077Z"
   },
   {
    "duration": 20,
    "start_time": "2023-10-03T16:21:09.114Z"
   },
   {
    "duration": 13,
    "start_time": "2023-10-03T16:21:09.135Z"
   },
   {
    "duration": 8,
    "start_time": "2023-10-03T16:21:09.150Z"
   },
   {
    "duration": 56,
    "start_time": "2023-10-03T16:21:09.160Z"
   },
   {
    "duration": 17,
    "start_time": "2023-10-03T16:21:09.218Z"
   },
   {
    "duration": 38,
    "start_time": "2023-10-03T16:21:09.237Z"
   },
   {
    "duration": 41,
    "start_time": "2023-10-03T16:21:09.277Z"
   },
   {
    "duration": 22,
    "start_time": "2023-10-03T16:21:09.320Z"
   },
   {
    "duration": 6,
    "start_time": "2023-10-03T16:21:09.344Z"
   },
   {
    "duration": 41,
    "start_time": "2023-10-03T16:21:09.352Z"
   },
   {
    "duration": 570,
    "start_time": "2023-10-03T16:21:09.394Z"
   },
   {
    "duration": 6,
    "start_time": "2023-10-03T16:21:09.966Z"
   },
   {
    "duration": 18,
    "start_time": "2023-10-03T16:21:09.974Z"
   },
   {
    "duration": 14,
    "start_time": "2023-10-03T16:21:09.993Z"
   },
   {
    "duration": 60,
    "start_time": "2023-10-03T16:21:10.008Z"
   },
   {
    "duration": 16,
    "start_time": "2023-10-03T16:21:10.070Z"
   },
   {
    "duration": 241,
    "start_time": "2023-10-03T16:21:10.087Z"
   },
   {
    "duration": 438,
    "start_time": "2023-10-03T16:21:10.330Z"
   },
   {
    "duration": 12,
    "start_time": "2023-10-03T16:21:10.770Z"
   },
   {
    "duration": 183,
    "start_time": "2023-10-03T16:21:10.784Z"
   },
   {
    "duration": 5,
    "start_time": "2023-10-03T16:21:10.969Z"
   },
   {
    "duration": 365,
    "start_time": "2023-10-03T16:21:10.976Z"
   },
   {
    "duration": 13,
    "start_time": "2023-10-03T16:21:11.343Z"
   },
   {
    "duration": 367,
    "start_time": "2023-10-03T16:21:11.360Z"
   },
   {
    "duration": 27,
    "start_time": "2023-10-03T16:21:11.729Z"
   },
   {
    "duration": 153,
    "start_time": "2023-10-03T16:21:11.758Z"
   },
   {
    "duration": 1570,
    "start_time": "2023-10-04T08:04:00.127Z"
   },
   {
    "duration": 5,
    "start_time": "2023-10-04T08:04:01.700Z"
   },
   {
    "duration": 2274,
    "start_time": "2023-10-04T08:04:01.706Z"
   },
   {
    "duration": 711,
    "start_time": "2023-10-04T08:04:03.982Z"
   },
   {
    "duration": 141,
    "start_time": "2023-10-04T08:04:04.694Z"
   },
   {
    "duration": 14,
    "start_time": "2023-10-04T08:04:04.837Z"
   },
   {
    "duration": 35,
    "start_time": "2023-10-04T08:04:04.853Z"
   },
   {
    "duration": 45,
    "start_time": "2023-10-04T08:04:04.889Z"
   },
   {
    "duration": 50,
    "start_time": "2023-10-04T08:04:04.936Z"
   },
   {
    "duration": 65,
    "start_time": "2023-10-04T08:04:04.989Z"
   },
   {
    "duration": 119,
    "start_time": "2023-10-04T08:04:05.057Z"
   },
   {
    "duration": 104,
    "start_time": "2023-10-04T08:04:05.177Z"
   },
   {
    "duration": 806,
    "start_time": "2023-10-04T08:04:05.283Z"
   },
   {
    "duration": 6,
    "start_time": "2023-10-04T08:04:06.091Z"
   },
   {
    "duration": 19,
    "start_time": "2023-10-04T08:04:06.099Z"
   },
   {
    "duration": 16,
    "start_time": "2023-10-04T08:04:06.120Z"
   },
   {
    "duration": 19,
    "start_time": "2023-10-04T08:04:06.137Z"
   },
   {
    "duration": 38,
    "start_time": "2023-10-04T08:04:06.160Z"
   },
   {
    "duration": 17,
    "start_time": "2023-10-04T08:04:06.199Z"
   },
   {
    "duration": 21,
    "start_time": "2023-10-04T08:04:06.217Z"
   },
   {
    "duration": 70,
    "start_time": "2023-10-04T08:04:06.240Z"
   },
   {
    "duration": 12,
    "start_time": "2023-10-04T08:04:06.311Z"
   },
   {
    "duration": 62,
    "start_time": "2023-10-04T08:04:06.325Z"
   },
   {
    "duration": 33,
    "start_time": "2023-10-04T08:04:06.388Z"
   },
   {
    "duration": 35,
    "start_time": "2023-10-04T08:04:06.422Z"
   },
   {
    "duration": 6,
    "start_time": "2023-10-04T08:04:06.459Z"
   },
   {
    "duration": 23,
    "start_time": "2023-10-04T08:04:06.467Z"
   },
   {
    "duration": 618,
    "start_time": "2023-10-04T08:04:06.493Z"
   },
   {
    "duration": 7,
    "start_time": "2023-10-04T08:04:07.112Z"
   },
   {
    "duration": 55,
    "start_time": "2023-10-04T08:04:07.121Z"
   },
   {
    "duration": 25,
    "start_time": "2023-10-04T08:04:07.177Z"
   },
   {
    "duration": 22,
    "start_time": "2023-10-04T08:04:07.203Z"
   },
   {
    "duration": 3,
    "start_time": "2023-10-04T08:04:07.227Z"
   },
   {
    "duration": 230,
    "start_time": "2023-10-04T08:04:07.232Z"
   },
   {
    "duration": 470,
    "start_time": "2023-10-04T08:04:07.463Z"
   },
   {
    "duration": 21,
    "start_time": "2023-10-04T08:04:07.935Z"
   },
   {
    "duration": 182,
    "start_time": "2023-10-04T08:04:07.959Z"
   },
   {
    "duration": 9,
    "start_time": "2023-10-04T08:04:08.149Z"
   },
   {
    "duration": 400,
    "start_time": "2023-10-04T08:04:08.161Z"
   },
   {
    "duration": 11,
    "start_time": "2023-10-04T08:04:08.562Z"
   },
   {
    "duration": 429,
    "start_time": "2023-10-04T08:04:08.575Z"
   },
   {
    "duration": 26,
    "start_time": "2023-10-04T08:04:09.006Z"
   },
   {
    "duration": 181,
    "start_time": "2023-10-04T08:04:09.053Z"
   },
   {
    "duration": 367,
    "start_time": "2023-10-04T08:08:31.722Z"
   },
   {
    "duration": 460,
    "start_time": "2023-10-04T08:09:09.461Z"
   },
   {
    "duration": 370,
    "start_time": "2023-10-04T08:09:24.960Z"
   },
   {
    "duration": 19,
    "start_time": "2023-10-04T08:36:42.459Z"
   },
   {
    "duration": 3,
    "start_time": "2023-10-04T08:54:20.492Z"
   },
   {
    "duration": 9,
    "start_time": "2023-10-04T09:18:59.659Z"
   },
   {
    "duration": 150,
    "start_time": "2023-10-04T09:19:51.429Z"
   },
   {
    "duration": 6,
    "start_time": "2023-10-04T09:20:17.703Z"
   },
   {
    "duration": 47,
    "start_time": "2023-10-04T09:20:19.770Z"
   },
   {
    "duration": 91,
    "start_time": "2023-10-04T09:21:51.992Z"
   },
   {
    "duration": 109,
    "start_time": "2023-10-04T09:22:32.360Z"
   },
   {
    "duration": 146,
    "start_time": "2023-10-04T09:23:14.053Z"
   },
   {
    "duration": 89,
    "start_time": "2023-10-04T09:23:24.500Z"
   },
   {
    "duration": 7,
    "start_time": "2023-10-04T09:25:07.383Z"
   },
   {
    "duration": 44,
    "start_time": "2023-10-04T09:25:11.185Z"
   },
   {
    "duration": 7,
    "start_time": "2023-10-04T09:26:50.198Z"
   },
   {
    "duration": 44,
    "start_time": "2023-10-04T09:26:52.518Z"
   },
   {
    "duration": 8,
    "start_time": "2023-10-04T09:32:51.181Z"
   },
   {
    "duration": 70,
    "start_time": "2023-10-04T09:32:55.030Z"
   },
   {
    "duration": 1372,
    "start_time": "2023-10-04T10:13:15.967Z"
   },
   {
    "duration": 12,
    "start_time": "2023-10-04T10:13:17.341Z"
   },
   {
    "duration": 728,
    "start_time": "2023-10-04T10:13:17.357Z"
   },
   {
    "duration": 707,
    "start_time": "2023-10-04T10:13:18.086Z"
   },
   {
    "duration": 152,
    "start_time": "2023-10-04T10:13:18.795Z"
   },
   {
    "duration": 24,
    "start_time": "2023-10-04T10:13:18.949Z"
   },
   {
    "duration": 9,
    "start_time": "2023-10-04T10:13:18.976Z"
   },
   {
    "duration": 10,
    "start_time": "2023-10-04T10:13:18.987Z"
   },
   {
    "duration": 13,
    "start_time": "2023-10-04T10:13:18.998Z"
   },
   {
    "duration": 39,
    "start_time": "2023-10-04T10:13:19.012Z"
   },
   {
    "duration": 36,
    "start_time": "2023-10-04T10:13:19.058Z"
   },
   {
    "duration": 35,
    "start_time": "2023-10-04T10:13:19.096Z"
   },
   {
    "duration": 878,
    "start_time": "2023-10-04T10:13:19.133Z"
   },
   {
    "duration": 7,
    "start_time": "2023-10-04T10:13:20.015Z"
   },
   {
    "duration": 37,
    "start_time": "2023-10-04T10:13:20.023Z"
   },
   {
    "duration": 32,
    "start_time": "2023-10-04T10:13:20.067Z"
   },
   {
    "duration": 16,
    "start_time": "2023-10-04T10:13:20.102Z"
   },
   {
    "duration": 9,
    "start_time": "2023-10-04T10:13:20.120Z"
   },
   {
    "duration": 31,
    "start_time": "2023-10-04T10:13:20.131Z"
   },
   {
    "duration": 14,
    "start_time": "2023-10-04T10:13:20.163Z"
   },
   {
    "duration": 104,
    "start_time": "2023-10-04T10:13:20.178Z"
   },
   {
    "duration": 23,
    "start_time": "2023-10-04T10:13:20.284Z"
   },
   {
    "duration": 48,
    "start_time": "2023-10-04T10:13:20.309Z"
   },
   {
    "duration": 41,
    "start_time": "2023-10-04T10:13:20.358Z"
   },
   {
    "duration": 20,
    "start_time": "2023-10-04T10:13:20.400Z"
   },
   {
    "duration": 4,
    "start_time": "2023-10-04T10:13:20.422Z"
   },
   {
    "duration": 13,
    "start_time": "2023-10-04T10:13:20.428Z"
   },
   {
    "duration": 678,
    "start_time": "2023-10-04T10:13:20.442Z"
   },
   {
    "duration": 7,
    "start_time": "2023-10-04T10:13:21.122Z"
   },
   {
    "duration": 31,
    "start_time": "2023-10-04T10:13:21.130Z"
   },
   {
    "duration": 18,
    "start_time": "2023-10-04T10:13:21.163Z"
   },
   {
    "duration": 26,
    "start_time": "2023-10-04T10:13:21.183Z"
   },
   {
    "duration": 8,
    "start_time": "2023-10-04T10:13:21.210Z"
   },
   {
    "duration": 276,
    "start_time": "2023-10-04T10:13:21.219Z"
   },
   {
    "duration": 509,
    "start_time": "2023-10-04T10:13:21.497Z"
   },
   {
    "duration": 12,
    "start_time": "2023-10-04T10:13:22.007Z"
   },
   {
    "duration": 218,
    "start_time": "2023-10-04T10:13:22.021Z"
   },
   {
    "duration": 7,
    "start_time": "2023-10-04T10:13:22.240Z"
   },
   {
    "duration": 440,
    "start_time": "2023-10-04T10:13:22.248Z"
   },
   {
    "duration": 12,
    "start_time": "2023-10-04T10:13:22.690Z"
   },
   {
    "duration": 423,
    "start_time": "2023-10-04T10:13:22.705Z"
   },
   {
    "duration": 35,
    "start_time": "2023-10-04T10:13:23.130Z"
   },
   {
    "duration": 212,
    "start_time": "2023-10-04T10:13:23.167Z"
   },
   {
    "duration": 18,
    "start_time": "2023-10-04T10:13:23.381Z"
   },
   {
    "duration": 6,
    "start_time": "2023-10-04T10:13:23.401Z"
   },
   {
    "duration": 105,
    "start_time": "2023-10-04T10:13:23.408Z"
   },
   {
    "duration": 1435,
    "start_time": "2023-10-04T10:14:33.961Z"
   },
   {
    "duration": 3,
    "start_time": "2023-10-04T10:14:35.398Z"
   },
   {
    "duration": 728,
    "start_time": "2023-10-04T10:14:35.403Z"
   },
   {
    "duration": 673,
    "start_time": "2023-10-04T10:14:36.133Z"
   },
   {
    "duration": 152,
    "start_time": "2023-10-04T10:14:36.808Z"
   },
   {
    "duration": 12,
    "start_time": "2023-10-04T10:14:36.966Z"
   },
   {
    "duration": 11,
    "start_time": "2023-10-04T10:14:36.980Z"
   },
   {
    "duration": 4,
    "start_time": "2023-10-04T10:14:36.992Z"
   },
   {
    "duration": 33,
    "start_time": "2023-10-04T10:14:36.998Z"
   },
   {
    "duration": 36,
    "start_time": "2023-10-04T10:14:37.032Z"
   },
   {
    "duration": 600,
    "start_time": "2023-10-04T10:14:37.072Z"
   },
   {
    "duration": 97,
    "start_time": "2023-10-04T10:14:37.676Z"
   },
   {
    "duration": 929,
    "start_time": "2023-10-04T10:14:37.774Z"
   },
   {
    "duration": 7,
    "start_time": "2023-10-04T10:14:38.706Z"
   },
   {
    "duration": 14,
    "start_time": "2023-10-04T10:14:38.715Z"
   },
   {
    "duration": 28,
    "start_time": "2023-10-04T10:14:38.731Z"
   },
   {
    "duration": 19,
    "start_time": "2023-10-04T10:14:38.760Z"
   },
   {
    "duration": 78,
    "start_time": "2023-10-04T10:14:38.781Z"
   },
   {
    "duration": 15,
    "start_time": "2023-10-04T10:14:38.860Z"
   },
   {
    "duration": 8,
    "start_time": "2023-10-04T10:14:38.877Z"
   },
   {
    "duration": 81,
    "start_time": "2023-10-04T10:14:38.887Z"
   },
   {
    "duration": 17,
    "start_time": "2023-10-04T10:14:38.972Z"
   },
   {
    "duration": 94,
    "start_time": "2023-10-04T10:14:38.991Z"
   },
   {
    "duration": 42,
    "start_time": "2023-10-04T10:14:39.087Z"
   },
   {
    "duration": 23,
    "start_time": "2023-10-04T10:14:39.131Z"
   },
   {
    "duration": 14,
    "start_time": "2023-10-04T10:14:39.158Z"
   },
   {
    "duration": 9,
    "start_time": "2023-10-04T10:14:39.174Z"
   },
   {
    "duration": 651,
    "start_time": "2023-10-04T10:14:39.185Z"
   },
   {
    "duration": 20,
    "start_time": "2023-10-04T10:14:39.837Z"
   },
   {
    "duration": 12,
    "start_time": "2023-10-04T10:14:39.858Z"
   },
   {
    "duration": 18,
    "start_time": "2023-10-04T10:14:39.871Z"
   },
   {
    "duration": 22,
    "start_time": "2023-10-04T10:14:39.891Z"
   },
   {
    "duration": 3,
    "start_time": "2023-10-04T10:14:39.916Z"
   },
   {
    "duration": 283,
    "start_time": "2023-10-04T10:14:39.921Z"
   },
   {
    "duration": 531,
    "start_time": "2023-10-04T10:14:40.206Z"
   },
   {
    "duration": 23,
    "start_time": "2023-10-04T10:14:40.743Z"
   },
   {
    "duration": 210,
    "start_time": "2023-10-04T10:14:40.771Z"
   },
   {
    "duration": 5,
    "start_time": "2023-10-04T10:14:40.983Z"
   },
   {
    "duration": 475,
    "start_time": "2023-10-04T10:14:40.990Z"
   },
   {
    "duration": 16,
    "start_time": "2023-10-04T10:14:41.467Z"
   },
   {
    "duration": 450,
    "start_time": "2023-10-04T10:14:41.486Z"
   },
   {
    "duration": 50,
    "start_time": "2023-10-04T10:14:41.938Z"
   },
   {
    "duration": 203,
    "start_time": "2023-10-04T10:14:41.990Z"
   },
   {
    "duration": 56,
    "start_time": "2023-10-04T10:14:42.195Z"
   },
   {
    "duration": 9,
    "start_time": "2023-10-04T10:14:42.253Z"
   },
   {
    "duration": 121,
    "start_time": "2023-10-04T10:14:42.269Z"
   },
   {
    "duration": 1498,
    "start_time": "2023-10-04T10:30:26.031Z"
   },
   {
    "duration": 5,
    "start_time": "2023-10-04T10:30:27.532Z"
   },
   {
    "duration": 739,
    "start_time": "2023-10-04T10:30:27.545Z"
   },
   {
    "duration": 749,
    "start_time": "2023-10-04T10:30:28.286Z"
   },
   {
    "duration": 169,
    "start_time": "2023-10-04T10:30:29.055Z"
   },
   {
    "duration": 7,
    "start_time": "2023-10-04T10:30:29.226Z"
   },
   {
    "duration": 45,
    "start_time": "2023-10-04T10:30:29.235Z"
   },
   {
    "duration": 6,
    "start_time": "2023-10-04T10:30:29.290Z"
   },
   {
    "duration": 40,
    "start_time": "2023-10-04T10:30:29.298Z"
   },
   {
    "duration": 32,
    "start_time": "2023-10-04T10:30:29.340Z"
   },
   {
    "duration": 26,
    "start_time": "2023-10-04T10:30:29.374Z"
   },
   {
    "duration": 64,
    "start_time": "2023-10-04T10:30:29.405Z"
   },
   {
    "duration": 1037,
    "start_time": "2023-10-04T10:30:29.471Z"
   },
   {
    "duration": 9,
    "start_time": "2023-10-04T10:30:30.511Z"
   },
   {
    "duration": 78,
    "start_time": "2023-10-04T10:30:30.521Z"
   },
   {
    "duration": 128,
    "start_time": "2023-10-04T10:30:30.601Z"
   },
   {
    "duration": 70,
    "start_time": "2023-10-04T10:30:30.732Z"
   },
   {
    "duration": 63,
    "start_time": "2023-10-04T10:30:30.804Z"
   },
   {
    "duration": 87,
    "start_time": "2023-10-04T10:30:30.869Z"
   },
   {
    "duration": 52,
    "start_time": "2023-10-04T10:30:30.960Z"
   },
   {
    "duration": 142,
    "start_time": "2023-10-04T10:30:31.014Z"
   },
   {
    "duration": 55,
    "start_time": "2023-10-04T10:30:31.163Z"
   },
   {
    "duration": 184,
    "start_time": "2023-10-04T10:30:31.220Z"
   },
   {
    "duration": 201,
    "start_time": "2023-10-04T10:30:31.408Z"
   },
   {
    "duration": 106,
    "start_time": "2023-10-04T10:30:31.611Z"
   },
   {
    "duration": 45,
    "start_time": "2023-10-04T10:30:31.718Z"
   },
   {
    "duration": 71,
    "start_time": "2023-10-04T10:30:31.766Z"
   },
   {
    "duration": 993,
    "start_time": "2023-10-04T10:30:31.839Z"
   },
   {
    "duration": 25,
    "start_time": "2023-10-04T10:30:32.834Z"
   },
   {
    "duration": 14,
    "start_time": "2023-10-04T10:30:32.861Z"
   },
   {
    "duration": 22,
    "start_time": "2023-10-04T10:30:32.878Z"
   },
   {
    "duration": 32,
    "start_time": "2023-10-04T10:30:32.902Z"
   },
   {
    "duration": 13,
    "start_time": "2023-10-04T10:30:32.937Z"
   },
   {
    "duration": 371,
    "start_time": "2023-10-04T10:30:32.956Z"
   },
   {
    "duration": 651,
    "start_time": "2023-10-04T10:30:33.329Z"
   },
   {
    "duration": 20,
    "start_time": "2023-10-04T10:30:33.989Z"
   },
   {
    "duration": 295,
    "start_time": "2023-10-04T10:30:34.021Z"
   },
   {
    "duration": 6,
    "start_time": "2023-10-04T10:30:34.323Z"
   },
   {
    "duration": 570,
    "start_time": "2023-10-04T10:30:34.331Z"
   },
   {
    "duration": 26,
    "start_time": "2023-10-04T10:30:34.910Z"
   },
   {
    "duration": 642,
    "start_time": "2023-10-04T10:30:34.941Z"
   },
   {
    "duration": 28,
    "start_time": "2023-10-04T10:30:35.585Z"
   },
   {
    "duration": 267,
    "start_time": "2023-10-04T10:30:35.615Z"
   },
   {
    "duration": 28,
    "start_time": "2023-10-04T10:30:35.884Z"
   },
   {
    "duration": 8,
    "start_time": "2023-10-04T10:30:35.914Z"
   },
   {
    "duration": 156,
    "start_time": "2023-10-04T10:30:35.924Z"
   },
   {
    "duration": 1564,
    "start_time": "2023-10-04T10:31:17.578Z"
   },
   {
    "duration": 5,
    "start_time": "2023-10-04T10:31:19.144Z"
   },
   {
    "duration": 788,
    "start_time": "2023-10-04T10:31:19.151Z"
   },
   {
    "duration": 782,
    "start_time": "2023-10-04T10:31:19.940Z"
   },
   {
    "duration": 182,
    "start_time": "2023-10-04T10:31:20.725Z"
   },
   {
    "duration": 8,
    "start_time": "2023-10-04T10:31:20.910Z"
   },
   {
    "duration": 31,
    "start_time": "2023-10-04T10:31:20.920Z"
   },
   {
    "duration": 46,
    "start_time": "2023-10-04T10:31:20.953Z"
   },
   {
    "duration": 22,
    "start_time": "2023-10-04T10:31:21.002Z"
   },
   {
    "duration": 12,
    "start_time": "2023-10-04T10:31:21.036Z"
   },
   {
    "duration": 56,
    "start_time": "2023-10-04T10:31:21.053Z"
   },
   {
    "duration": 56,
    "start_time": "2023-10-04T10:31:21.111Z"
   },
   {
    "duration": 970,
    "start_time": "2023-10-04T10:31:21.171Z"
   },
   {
    "duration": 13,
    "start_time": "2023-10-04T10:31:22.150Z"
   },
   {
    "duration": 73,
    "start_time": "2023-10-04T10:31:22.165Z"
   },
   {
    "duration": 41,
    "start_time": "2023-10-04T10:31:22.240Z"
   },
   {
    "duration": 45,
    "start_time": "2023-10-04T10:31:22.283Z"
   },
   {
    "duration": 10,
    "start_time": "2023-10-04T10:31:22.331Z"
   },
   {
    "duration": 29,
    "start_time": "2023-10-04T10:31:22.342Z"
   },
   {
    "duration": 124,
    "start_time": "2023-10-04T10:31:22.376Z"
   },
   {
    "duration": 120,
    "start_time": "2023-10-04T10:31:22.502Z"
   },
   {
    "duration": 12,
    "start_time": "2023-10-04T10:31:22.624Z"
   },
   {
    "duration": 91,
    "start_time": "2023-10-04T10:31:22.638Z"
   },
   {
    "duration": 75,
    "start_time": "2023-10-04T10:31:22.731Z"
   },
   {
    "duration": 24,
    "start_time": "2023-10-04T10:31:22.808Z"
   },
   {
    "duration": 18,
    "start_time": "2023-10-04T10:31:22.834Z"
   },
   {
    "duration": 37,
    "start_time": "2023-10-04T10:31:22.860Z"
   },
   {
    "duration": 832,
    "start_time": "2023-10-04T10:31:22.899Z"
   },
   {
    "duration": 22,
    "start_time": "2023-10-04T10:31:23.733Z"
   },
   {
    "duration": 23,
    "start_time": "2023-10-04T10:31:23.757Z"
   },
   {
    "duration": 29,
    "start_time": "2023-10-04T10:31:23.784Z"
   },
   {
    "duration": 24,
    "start_time": "2023-10-04T10:31:23.815Z"
   },
   {
    "duration": 18,
    "start_time": "2023-10-04T10:31:23.841Z"
   },
   {
    "duration": 359,
    "start_time": "2023-10-04T10:31:23.861Z"
   },
   {
    "duration": 638,
    "start_time": "2023-10-04T10:31:24.223Z"
   },
   {
    "duration": 15,
    "start_time": "2023-10-04T10:31:24.868Z"
   },
   {
    "duration": 310,
    "start_time": "2023-10-04T10:31:24.884Z"
   },
   {
    "duration": 9,
    "start_time": "2023-10-04T10:31:25.199Z"
   },
   {
    "duration": 510,
    "start_time": "2023-10-04T10:31:25.211Z"
   },
   {
    "duration": 11,
    "start_time": "2023-10-04T10:31:25.723Z"
   },
   {
    "duration": 499,
    "start_time": "2023-10-04T10:31:25.753Z"
   },
   {
    "duration": 36,
    "start_time": "2023-10-04T10:31:26.262Z"
   },
   {
    "duration": 227,
    "start_time": "2023-10-04T10:31:26.303Z"
   },
   {
    "duration": 31,
    "start_time": "2023-10-04T10:31:26.532Z"
   },
   {
    "duration": 9,
    "start_time": "2023-10-04T10:31:26.565Z"
   },
   {
    "duration": 137,
    "start_time": "2023-10-04T10:31:26.575Z"
   },
   {
    "duration": 1552,
    "start_time": "2023-10-04T10:42:21.526Z"
   },
   {
    "duration": 10,
    "start_time": "2023-10-04T10:42:23.086Z"
   },
   {
    "duration": 797,
    "start_time": "2023-10-04T10:42:23.098Z"
   },
   {
    "duration": 927,
    "start_time": "2023-10-04T10:42:23.897Z"
   },
   {
    "duration": 200,
    "start_time": "2023-10-04T10:42:24.827Z"
   },
   {
    "duration": 11,
    "start_time": "2023-10-04T10:42:25.030Z"
   },
   {
    "duration": 63,
    "start_time": "2023-10-04T10:42:25.045Z"
   },
   {
    "duration": 25,
    "start_time": "2023-10-04T10:42:25.111Z"
   },
   {
    "duration": 39,
    "start_time": "2023-10-04T10:42:25.138Z"
   },
   {
    "duration": 37,
    "start_time": "2023-10-04T10:42:25.181Z"
   },
   {
    "duration": 70,
    "start_time": "2023-10-04T10:42:25.220Z"
   },
   {
    "duration": 39,
    "start_time": "2023-10-04T10:42:25.296Z"
   },
   {
    "duration": 979,
    "start_time": "2023-10-04T10:42:25.338Z"
   },
   {
    "duration": 7,
    "start_time": "2023-10-04T10:42:26.321Z"
   },
   {
    "duration": 40,
    "start_time": "2023-10-04T10:42:26.330Z"
   },
   {
    "duration": 43,
    "start_time": "2023-10-04T10:42:26.377Z"
   },
   {
    "duration": 102,
    "start_time": "2023-10-04T10:42:26.422Z"
   },
   {
    "duration": 14,
    "start_time": "2023-10-04T10:42:26.526Z"
   },
   {
    "duration": 23,
    "start_time": "2023-10-04T10:42:26.542Z"
   },
   {
    "duration": 19,
    "start_time": "2023-10-04T10:42:26.569Z"
   },
   {
    "duration": 64,
    "start_time": "2023-10-04T10:42:26.597Z"
   },
   {
    "duration": 22,
    "start_time": "2023-10-04T10:42:26.662Z"
   },
   {
    "duration": 63,
    "start_time": "2023-10-04T10:42:26.685Z"
   },
   {
    "duration": 44,
    "start_time": "2023-10-04T10:42:26.761Z"
   },
   {
    "duration": 18,
    "start_time": "2023-10-04T10:42:26.807Z"
   },
   {
    "duration": 6,
    "start_time": "2023-10-04T10:42:26.827Z"
   },
   {
    "duration": 22,
    "start_time": "2023-10-04T10:42:26.834Z"
   },
   {
    "duration": 841,
    "start_time": "2023-10-04T10:42:26.870Z"
   },
   {
    "duration": 6,
    "start_time": "2023-10-04T10:42:27.713Z"
   },
   {
    "duration": 209,
    "start_time": "2023-10-04T10:42:27.721Z"
   },
   {
    "duration": 176,
    "start_time": "2023-10-04T10:42:27.932Z"
   },
   {
    "duration": 83,
    "start_time": "2023-10-04T10:42:28.111Z"
   },
   {
    "duration": 8,
    "start_time": "2023-10-04T10:42:28.196Z"
   },
   {
    "duration": 370,
    "start_time": "2023-10-04T10:42:28.207Z"
   },
   {
    "duration": 616,
    "start_time": "2023-10-04T10:42:28.582Z"
   },
   {
    "duration": 16,
    "start_time": "2023-10-04T10:42:29.201Z"
   },
   {
    "duration": 234,
    "start_time": "2023-10-04T10:42:29.221Z"
   },
   {
    "duration": 7,
    "start_time": "2023-10-04T10:42:29.457Z"
   },
   {
    "duration": 489,
    "start_time": "2023-10-04T10:42:29.465Z"
   },
   {
    "duration": 24,
    "start_time": "2023-10-04T10:42:29.965Z"
   },
   {
    "duration": 515,
    "start_time": "2023-10-04T10:42:29.998Z"
   },
   {
    "duration": 24,
    "start_time": "2023-10-04T10:42:30.515Z"
   },
   {
    "duration": 243,
    "start_time": "2023-10-04T10:42:30.552Z"
   },
   {
    "duration": 22,
    "start_time": "2023-10-04T10:42:30.798Z"
   },
   {
    "duration": 36,
    "start_time": "2023-10-04T10:42:30.822Z"
   },
   {
    "duration": 149,
    "start_time": "2023-10-04T10:42:30.865Z"
   },
   {
    "duration": 1319,
    "start_time": "2023-10-04T13:15:50.360Z"
   },
   {
    "duration": 4,
    "start_time": "2023-10-04T13:15:51.680Z"
   },
   {
    "duration": 1123,
    "start_time": "2023-10-04T13:15:51.686Z"
   },
   {
    "duration": 658,
    "start_time": "2023-10-04T13:15:52.811Z"
   },
   {
    "duration": 140,
    "start_time": "2023-10-04T13:15:53.471Z"
   },
   {
    "duration": 8,
    "start_time": "2023-10-04T13:15:53.613Z"
   },
   {
    "duration": 25,
    "start_time": "2023-10-04T13:15:53.623Z"
   },
   {
    "duration": 18,
    "start_time": "2023-10-04T13:15:53.650Z"
   },
   {
    "duration": 7,
    "start_time": "2023-10-04T13:15:53.671Z"
   },
   {
    "duration": 8,
    "start_time": "2023-10-04T13:15:53.681Z"
   },
   {
    "duration": 30,
    "start_time": "2023-10-04T13:15:53.691Z"
   },
   {
    "duration": 34,
    "start_time": "2023-10-04T13:15:53.723Z"
   },
   {
    "duration": 865,
    "start_time": "2023-10-04T13:15:53.759Z"
   },
   {
    "duration": 7,
    "start_time": "2023-10-04T13:15:54.626Z"
   },
   {
    "duration": 9,
    "start_time": "2023-10-04T13:15:54.635Z"
   },
   {
    "duration": 16,
    "start_time": "2023-10-04T13:15:54.646Z"
   },
   {
    "duration": 23,
    "start_time": "2023-10-04T13:15:54.663Z"
   },
   {
    "duration": 22,
    "start_time": "2023-10-04T13:15:54.688Z"
   },
   {
    "duration": 6,
    "start_time": "2023-10-04T13:15:54.711Z"
   },
   {
    "duration": 10,
    "start_time": "2023-10-04T13:15:54.718Z"
   },
   {
    "duration": 66,
    "start_time": "2023-10-04T13:15:54.730Z"
   },
   {
    "duration": 12,
    "start_time": "2023-10-04T13:15:54.810Z"
   },
   {
    "duration": 40,
    "start_time": "2023-10-04T13:15:54.824Z"
   },
   {
    "duration": 48,
    "start_time": "2023-10-04T13:15:54.866Z"
   },
   {
    "duration": 17,
    "start_time": "2023-10-04T13:15:54.916Z"
   },
   {
    "duration": 8,
    "start_time": "2023-10-04T13:15:54.935Z"
   },
   {
    "duration": 10,
    "start_time": "2023-10-04T13:15:54.945Z"
   },
   {
    "duration": 690,
    "start_time": "2023-10-04T13:15:54.958Z"
   },
   {
    "duration": 7,
    "start_time": "2023-10-04T13:15:55.650Z"
   },
   {
    "duration": 24,
    "start_time": "2023-10-04T13:15:55.658Z"
   },
   {
    "duration": 21,
    "start_time": "2023-10-04T13:15:55.683Z"
   },
   {
    "duration": 28,
    "start_time": "2023-10-04T13:15:55.705Z"
   },
   {
    "duration": 3,
    "start_time": "2023-10-04T13:15:55.735Z"
   },
   {
    "duration": 269,
    "start_time": "2023-10-04T13:15:55.740Z"
   },
   {
    "duration": 482,
    "start_time": "2023-10-04T13:15:56.011Z"
   },
   {
    "duration": 19,
    "start_time": "2023-10-04T13:15:56.495Z"
   },
   {
    "duration": 211,
    "start_time": "2023-10-04T13:15:56.516Z"
   },
   {
    "duration": 5,
    "start_time": "2023-10-04T13:15:56.729Z"
   },
   {
    "duration": 420,
    "start_time": "2023-10-04T13:15:56.736Z"
   },
   {
    "duration": 12,
    "start_time": "2023-10-04T13:15:57.158Z"
   },
   {
    "duration": 428,
    "start_time": "2023-10-04T13:15:57.171Z"
   },
   {
    "duration": 27,
    "start_time": "2023-10-04T13:15:57.600Z"
   },
   {
    "duration": 871,
    "start_time": "2023-10-04T13:15:57.629Z"
   },
   {
    "duration": 19,
    "start_time": "2023-10-04T13:15:58.502Z"
   },
   {
    "duration": 7,
    "start_time": "2023-10-04T13:15:58.523Z"
   },
   {
    "duration": 120,
    "start_time": "2023-10-04T13:15:58.531Z"
   },
   {
    "duration": 7,
    "start_time": "2023-10-04T13:23:51.902Z"
   },
   {
    "duration": 55,
    "start_time": "2023-10-04T13:23:53.241Z"
   },
   {
    "duration": 23,
    "start_time": "2023-10-04T13:55:06.874Z"
   },
   {
    "duration": 1305,
    "start_time": "2023-10-04T13:55:16.172Z"
   },
   {
    "duration": 4,
    "start_time": "2023-10-04T13:55:17.479Z"
   },
   {
    "duration": 688,
    "start_time": "2023-10-04T13:55:17.484Z"
   },
   {
    "duration": 641,
    "start_time": "2023-10-04T13:55:18.174Z"
   },
   {
    "duration": 149,
    "start_time": "2023-10-04T13:55:18.817Z"
   },
   {
    "duration": 6,
    "start_time": "2023-10-04T13:55:18.968Z"
   },
   {
    "duration": 16,
    "start_time": "2023-10-04T13:55:18.976Z"
   },
   {
    "duration": 10,
    "start_time": "2023-10-04T13:55:18.993Z"
   },
   {
    "duration": 8,
    "start_time": "2023-10-04T13:55:19.004Z"
   },
   {
    "duration": 41,
    "start_time": "2023-10-04T13:55:19.014Z"
   },
   {
    "duration": 19,
    "start_time": "2023-10-04T13:55:19.057Z"
   },
   {
    "duration": 31,
    "start_time": "2023-10-04T13:55:19.078Z"
   },
   {
    "duration": 834,
    "start_time": "2023-10-04T13:55:19.110Z"
   },
   {
    "duration": 7,
    "start_time": "2023-10-04T13:55:19.958Z"
   },
   {
    "duration": 16,
    "start_time": "2023-10-04T13:55:19.967Z"
   },
   {
    "duration": 14,
    "start_time": "2023-10-04T13:55:19.985Z"
   },
   {
    "duration": 11,
    "start_time": "2023-10-04T13:55:20.001Z"
   },
   {
    "duration": 26,
    "start_time": "2023-10-04T13:55:20.014Z"
   },
   {
    "duration": 28,
    "start_time": "2023-10-04T13:55:20.041Z"
   },
   {
    "duration": 48,
    "start_time": "2023-10-04T13:55:20.070Z"
   },
   {
    "duration": 67,
    "start_time": "2023-10-04T13:55:20.119Z"
   },
   {
    "duration": 12,
    "start_time": "2023-10-04T13:55:20.188Z"
   },
   {
    "duration": 68,
    "start_time": "2023-10-04T13:55:20.202Z"
   },
   {
    "duration": 46,
    "start_time": "2023-10-04T13:55:20.272Z"
   },
   {
    "duration": 54,
    "start_time": "2023-10-04T13:55:20.319Z"
   },
   {
    "duration": 16,
    "start_time": "2023-10-04T13:55:20.376Z"
   },
   {
    "duration": 45,
    "start_time": "2023-10-04T13:55:20.394Z"
   },
   {
    "duration": 666,
    "start_time": "2023-10-04T13:55:20.441Z"
   },
   {
    "duration": 9,
    "start_time": "2023-10-04T13:55:21.110Z"
   },
   {
    "duration": 28,
    "start_time": "2023-10-04T13:55:21.122Z"
   },
   {
    "duration": 48,
    "start_time": "2023-10-04T13:55:21.151Z"
   },
   {
    "duration": 25,
    "start_time": "2023-10-04T13:55:21.201Z"
   },
   {
    "duration": 11,
    "start_time": "2023-10-04T13:55:21.227Z"
   },
   {
    "duration": 243,
    "start_time": "2023-10-04T13:55:21.240Z"
   },
   {
    "duration": 479,
    "start_time": "2023-10-04T13:55:21.484Z"
   },
   {
    "duration": 11,
    "start_time": "2023-10-04T13:55:21.965Z"
   },
   {
    "duration": 196,
    "start_time": "2023-10-04T13:55:21.977Z"
   },
   {
    "duration": 5,
    "start_time": "2023-10-04T13:55:22.174Z"
   },
   {
    "duration": 431,
    "start_time": "2023-10-04T13:55:22.181Z"
   },
   {
    "duration": 11,
    "start_time": "2023-10-04T13:55:22.614Z"
   },
   {
    "duration": 406,
    "start_time": "2023-10-04T13:55:22.628Z"
   },
   {
    "duration": 31,
    "start_time": "2023-10-04T13:55:23.036Z"
   },
   {
    "duration": 195,
    "start_time": "2023-10-04T13:55:23.068Z"
   },
   {
    "duration": 19,
    "start_time": "2023-10-04T13:55:23.264Z"
   },
   {
    "duration": 16,
    "start_time": "2023-10-04T13:55:23.284Z"
   },
   {
    "duration": 103,
    "start_time": "2023-10-04T13:55:23.301Z"
   },
   {
    "duration": 1319,
    "start_time": "2023-10-04T13:58:07.891Z"
   },
   {
    "duration": 3,
    "start_time": "2023-10-04T13:58:09.212Z"
   },
   {
    "duration": 688,
    "start_time": "2023-10-04T13:58:09.216Z"
   },
   {
    "duration": 673,
    "start_time": "2023-10-04T13:58:09.907Z"
   },
   {
    "duration": 139,
    "start_time": "2023-10-04T13:58:10.582Z"
   },
   {
    "duration": 6,
    "start_time": "2023-10-04T13:58:10.723Z"
   },
   {
    "duration": 43,
    "start_time": "2023-10-04T13:58:10.731Z"
   },
   {
    "duration": 5,
    "start_time": "2023-10-04T13:58:10.776Z"
   },
   {
    "duration": 23,
    "start_time": "2023-10-04T13:58:10.782Z"
   },
   {
    "duration": 9,
    "start_time": "2023-10-04T13:58:10.809Z"
   },
   {
    "duration": 38,
    "start_time": "2023-10-04T13:58:10.819Z"
   },
   {
    "duration": 34,
    "start_time": "2023-10-04T13:58:10.859Z"
   },
   {
    "duration": 854,
    "start_time": "2023-10-04T13:58:10.895Z"
   },
   {
    "duration": 7,
    "start_time": "2023-10-04T13:58:11.761Z"
   },
   {
    "duration": 16,
    "start_time": "2023-10-04T13:58:11.769Z"
   },
   {
    "duration": 14,
    "start_time": "2023-10-04T13:58:11.786Z"
   },
   {
    "duration": 10,
    "start_time": "2023-10-04T13:58:11.802Z"
   },
   {
    "duration": 22,
    "start_time": "2023-10-04T13:58:11.814Z"
   },
   {
    "duration": 21,
    "start_time": "2023-10-04T13:58:11.838Z"
   },
   {
    "duration": 6,
    "start_time": "2023-10-04T13:58:11.861Z"
   },
   {
    "duration": 61,
    "start_time": "2023-10-04T13:58:11.868Z"
   },
   {
    "duration": 34,
    "start_time": "2023-10-04T13:58:11.931Z"
   },
   {
    "duration": 39,
    "start_time": "2023-10-04T13:58:11.966Z"
   },
   {
    "duration": 50,
    "start_time": "2023-10-04T13:58:12.007Z"
   },
   {
    "duration": 19,
    "start_time": "2023-10-04T13:58:12.059Z"
   },
   {
    "duration": 6,
    "start_time": "2023-10-04T13:58:12.079Z"
   },
   {
    "duration": 11,
    "start_time": "2023-10-04T13:58:12.086Z"
   },
   {
    "duration": 652,
    "start_time": "2023-10-04T13:58:12.101Z"
   },
   {
    "duration": 7,
    "start_time": "2023-10-04T13:58:12.762Z"
   },
   {
    "duration": 22,
    "start_time": "2023-10-04T13:58:12.771Z"
   },
   {
    "duration": 24,
    "start_time": "2023-10-04T13:58:12.794Z"
   },
   {
    "duration": 47,
    "start_time": "2023-10-04T13:58:12.820Z"
   },
   {
    "duration": 3,
    "start_time": "2023-10-04T13:58:12.869Z"
   },
   {
    "duration": 247,
    "start_time": "2023-10-04T13:58:12.874Z"
   },
   {
    "duration": 538,
    "start_time": "2023-10-04T13:58:13.123Z"
   },
   {
    "duration": 16,
    "start_time": "2023-10-04T13:58:13.664Z"
   },
   {
    "duration": 237,
    "start_time": "2023-10-04T13:58:13.682Z"
   },
   {
    "duration": 6,
    "start_time": "2023-10-04T13:58:13.921Z"
   },
   {
    "duration": 529,
    "start_time": "2023-10-04T13:58:13.929Z"
   },
   {
    "duration": 14,
    "start_time": "2023-10-04T13:58:14.460Z"
   },
   {
    "duration": 421,
    "start_time": "2023-10-04T13:58:14.475Z"
   },
   {
    "duration": 21,
    "start_time": "2023-10-04T13:58:14.898Z"
   },
   {
    "duration": 209,
    "start_time": "2023-10-04T13:58:14.921Z"
   },
   {
    "duration": 30,
    "start_time": "2023-10-04T13:58:15.132Z"
   },
   {
    "duration": 11,
    "start_time": "2023-10-04T13:58:15.166Z"
   },
   {
    "duration": 127,
    "start_time": "2023-10-04T13:58:15.179Z"
   },
   {
    "duration": 111,
    "start_time": "2023-10-04T13:58:52.434Z"
   },
   {
    "duration": 1399,
    "start_time": "2023-10-04T13:59:03.762Z"
   },
   {
    "duration": 4,
    "start_time": "2023-10-04T13:59:05.163Z"
   },
   {
    "duration": 717,
    "start_time": "2023-10-04T13:59:05.169Z"
   },
   {
    "duration": 696,
    "start_time": "2023-10-04T13:59:05.889Z"
   },
   {
    "duration": 141,
    "start_time": "2023-10-04T13:59:06.587Z"
   },
   {
    "duration": 8,
    "start_time": "2023-10-04T13:59:06.730Z"
   },
   {
    "duration": 23,
    "start_time": "2023-10-04T13:59:06.744Z"
   },
   {
    "duration": 8,
    "start_time": "2023-10-04T13:59:06.769Z"
   },
   {
    "duration": 18,
    "start_time": "2023-10-04T13:59:06.778Z"
   },
   {
    "duration": 30,
    "start_time": "2023-10-04T13:59:06.799Z"
   },
   {
    "duration": 35,
    "start_time": "2023-10-04T13:59:06.831Z"
   },
   {
    "duration": 33,
    "start_time": "2023-10-04T13:59:06.867Z"
   },
   {
    "duration": 823,
    "start_time": "2023-10-04T13:59:06.902Z"
   },
   {
    "duration": 18,
    "start_time": "2023-10-04T13:59:07.727Z"
   },
   {
    "duration": 16,
    "start_time": "2023-10-04T13:59:07.757Z"
   },
   {
    "duration": 28,
    "start_time": "2023-10-04T13:59:07.775Z"
   },
   {
    "duration": 1649,
    "start_time": "2023-10-04T13:59:07.804Z"
   },
   {
    "duration": 0,
    "start_time": "2023-10-04T13:59:09.457Z"
   },
   {
    "duration": 0,
    "start_time": "2023-10-04T13:59:09.459Z"
   },
   {
    "duration": 0,
    "start_time": "2023-10-04T13:59:09.462Z"
   },
   {
    "duration": 0,
    "start_time": "2023-10-04T13:59:09.464Z"
   },
   {
    "duration": 0,
    "start_time": "2023-10-04T13:59:09.465Z"
   },
   {
    "duration": 0,
    "start_time": "2023-10-04T13:59:09.467Z"
   },
   {
    "duration": 0,
    "start_time": "2023-10-04T13:59:09.468Z"
   },
   {
    "duration": 0,
    "start_time": "2023-10-04T13:59:09.470Z"
   },
   {
    "duration": 0,
    "start_time": "2023-10-04T13:59:09.471Z"
   },
   {
    "duration": 0,
    "start_time": "2023-10-04T13:59:09.472Z"
   },
   {
    "duration": 0,
    "start_time": "2023-10-04T13:59:09.474Z"
   },
   {
    "duration": 0,
    "start_time": "2023-10-04T13:59:09.475Z"
   },
   {
    "duration": 0,
    "start_time": "2023-10-04T13:59:09.476Z"
   },
   {
    "duration": 0,
    "start_time": "2023-10-04T13:59:09.477Z"
   },
   {
    "duration": 0,
    "start_time": "2023-10-04T13:59:09.478Z"
   },
   {
    "duration": 0,
    "start_time": "2023-10-04T13:59:09.479Z"
   },
   {
    "duration": 0,
    "start_time": "2023-10-04T13:59:09.481Z"
   },
   {
    "duration": 0,
    "start_time": "2023-10-04T13:59:09.482Z"
   },
   {
    "duration": 1,
    "start_time": "2023-10-04T13:59:09.483Z"
   },
   {
    "duration": 0,
    "start_time": "2023-10-04T13:59:09.485Z"
   },
   {
    "duration": 0,
    "start_time": "2023-10-04T13:59:09.486Z"
   },
   {
    "duration": 0,
    "start_time": "2023-10-04T13:59:09.488Z"
   },
   {
    "duration": 0,
    "start_time": "2023-10-04T13:59:09.489Z"
   },
   {
    "duration": 0,
    "start_time": "2023-10-04T13:59:09.491Z"
   },
   {
    "duration": 0,
    "start_time": "2023-10-04T13:59:09.492Z"
   },
   {
    "duration": 0,
    "start_time": "2023-10-04T13:59:09.494Z"
   },
   {
    "duration": 0,
    "start_time": "2023-10-04T13:59:09.495Z"
   },
   {
    "duration": 0,
    "start_time": "2023-10-04T13:59:09.548Z"
   },
   {
    "duration": 0,
    "start_time": "2023-10-04T13:59:09.549Z"
   },
   {
    "duration": 15,
    "start_time": "2023-10-04T13:59:24.085Z"
   },
   {
    "duration": 12,
    "start_time": "2023-10-04T13:59:36.138Z"
   },
   {
    "duration": 2057,
    "start_time": "2023-10-04T13:59:48.030Z"
   },
   {
    "duration": 11,
    "start_time": "2023-10-04T14:00:27.071Z"
   },
   {
    "duration": 11,
    "start_time": "2023-10-04T14:00:42.361Z"
   },
   {
    "duration": 7,
    "start_time": "2023-10-04T14:20:19.498Z"
   },
   {
    "duration": 9,
    "start_time": "2023-10-04T14:20:43.319Z"
   },
   {
    "duration": 19,
    "start_time": "2023-10-04T14:21:06.140Z"
   },
   {
    "duration": 1408,
    "start_time": "2023-10-04T14:21:28.932Z"
   },
   {
    "duration": 4,
    "start_time": "2023-10-04T14:21:30.343Z"
   },
   {
    "duration": 784,
    "start_time": "2023-10-04T14:21:30.349Z"
   },
   {
    "duration": 637,
    "start_time": "2023-10-04T14:21:31.135Z"
   },
   {
    "duration": 134,
    "start_time": "2023-10-04T14:21:31.775Z"
   },
   {
    "duration": 71,
    "start_time": "2023-10-04T14:21:31.911Z"
   },
   {
    "duration": 185,
    "start_time": "2023-10-04T14:21:31.984Z"
   },
   {
    "duration": 34,
    "start_time": "2023-10-04T14:21:32.170Z"
   },
   {
    "duration": 29,
    "start_time": "2023-10-04T14:21:32.206Z"
   },
   {
    "duration": 27,
    "start_time": "2023-10-04T14:21:32.237Z"
   },
   {
    "duration": 36,
    "start_time": "2023-10-04T14:21:32.266Z"
   },
   {
    "duration": 50,
    "start_time": "2023-10-04T14:21:32.303Z"
   },
   {
    "duration": 791,
    "start_time": "2023-10-04T14:21:32.355Z"
   },
   {
    "duration": 7,
    "start_time": "2023-10-04T14:21:33.150Z"
   },
   {
    "duration": 74,
    "start_time": "2023-10-04T14:21:33.159Z"
   },
   {
    "duration": 11,
    "start_time": "2023-10-04T14:21:33.234Z"
   },
   {
    "duration": 11,
    "start_time": "2023-10-04T14:21:33.247Z"
   },
   {
    "duration": 9,
    "start_time": "2023-10-04T14:21:33.259Z"
   },
   {
    "duration": 24,
    "start_time": "2023-10-04T14:21:33.269Z"
   },
   {
    "duration": 6,
    "start_time": "2023-10-04T14:21:33.295Z"
   },
   {
    "duration": 60,
    "start_time": "2023-10-04T14:21:33.302Z"
   },
   {
    "duration": 11,
    "start_time": "2023-10-04T14:21:33.364Z"
   },
   {
    "duration": 50,
    "start_time": "2023-10-04T14:21:33.376Z"
   },
   {
    "duration": 47,
    "start_time": "2023-10-04T14:21:33.427Z"
   },
   {
    "duration": 18,
    "start_time": "2023-10-04T14:21:33.476Z"
   },
   {
    "duration": 5,
    "start_time": "2023-10-04T14:21:33.496Z"
   },
   {
    "duration": 37,
    "start_time": "2023-10-04T14:21:33.502Z"
   },
   {
    "duration": 624,
    "start_time": "2023-10-04T14:21:33.541Z"
   },
   {
    "duration": 10,
    "start_time": "2023-10-04T14:21:34.168Z"
   },
   {
    "duration": 22,
    "start_time": "2023-10-04T14:21:34.180Z"
   },
   {
    "duration": 19,
    "start_time": "2023-10-04T14:21:34.204Z"
   },
   {
    "duration": 47,
    "start_time": "2023-10-04T14:21:34.225Z"
   },
   {
    "duration": 5,
    "start_time": "2023-10-04T14:21:34.274Z"
   },
   {
    "duration": 253,
    "start_time": "2023-10-04T14:21:34.281Z"
   },
   {
    "duration": 450,
    "start_time": "2023-10-04T14:21:34.536Z"
   },
   {
    "duration": 12,
    "start_time": "2023-10-04T14:21:34.988Z"
   },
   {
    "duration": 203,
    "start_time": "2023-10-04T14:21:35.002Z"
   },
   {
    "duration": 5,
    "start_time": "2023-10-04T14:21:35.206Z"
   },
   {
    "duration": 386,
    "start_time": "2023-10-04T14:21:35.213Z"
   },
   {
    "duration": 12,
    "start_time": "2023-10-04T14:21:35.601Z"
   },
   {
    "duration": 427,
    "start_time": "2023-10-04T14:21:35.617Z"
   },
   {
    "duration": 24,
    "start_time": "2023-10-04T14:21:36.046Z"
   },
   {
    "duration": 260,
    "start_time": "2023-10-04T14:21:36.072Z"
   },
   {
    "duration": 25,
    "start_time": "2023-10-04T14:21:36.334Z"
   },
   {
    "duration": 10,
    "start_time": "2023-10-04T14:21:36.361Z"
   },
   {
    "duration": 123,
    "start_time": "2023-10-04T14:21:36.374Z"
   },
   {
    "duration": 1459,
    "start_time": "2023-10-04T14:26:25.754Z"
   },
   {
    "duration": 4,
    "start_time": "2023-10-04T14:26:27.215Z"
   },
   {
    "duration": 672,
    "start_time": "2023-10-04T14:26:27.221Z"
   },
   {
    "duration": 691,
    "start_time": "2023-10-04T14:26:27.895Z"
   },
   {
    "duration": 202,
    "start_time": "2023-10-04T14:26:28.589Z"
   },
   {
    "duration": 9,
    "start_time": "2023-10-04T14:26:28.793Z"
   },
   {
    "duration": 20,
    "start_time": "2023-10-04T14:26:28.804Z"
   },
   {
    "duration": 24,
    "start_time": "2023-10-04T14:26:28.827Z"
   },
   {
    "duration": 6,
    "start_time": "2023-10-04T14:26:28.853Z"
   },
   {
    "duration": 12,
    "start_time": "2023-10-04T14:26:28.862Z"
   },
   {
    "duration": 44,
    "start_time": "2023-10-04T14:26:28.877Z"
   },
   {
    "duration": 54,
    "start_time": "2023-10-04T14:26:28.924Z"
   },
   {
    "duration": 860,
    "start_time": "2023-10-04T14:26:28.980Z"
   },
   {
    "duration": 8,
    "start_time": "2023-10-04T14:26:29.845Z"
   },
   {
    "duration": 24,
    "start_time": "2023-10-04T14:26:29.856Z"
   },
   {
    "duration": 38,
    "start_time": "2023-10-04T14:26:29.882Z"
   },
   {
    "duration": 13,
    "start_time": "2023-10-04T14:26:29.922Z"
   },
   {
    "duration": 10,
    "start_time": "2023-10-04T14:26:29.937Z"
   },
   {
    "duration": 30,
    "start_time": "2023-10-04T14:26:29.949Z"
   },
   {
    "duration": 6,
    "start_time": "2023-10-04T14:26:29.982Z"
   },
   {
    "duration": 72,
    "start_time": "2023-10-04T14:26:29.990Z"
   },
   {
    "duration": 41,
    "start_time": "2023-10-04T14:26:30.064Z"
   },
   {
    "duration": 62,
    "start_time": "2023-10-04T14:26:30.107Z"
   },
   {
    "duration": 71,
    "start_time": "2023-10-04T14:26:30.171Z"
   },
   {
    "duration": 38,
    "start_time": "2023-10-04T14:26:30.244Z"
   },
   {
    "duration": 28,
    "start_time": "2023-10-04T14:26:30.284Z"
   },
   {
    "duration": 21,
    "start_time": "2023-10-04T14:26:30.314Z"
   },
   {
    "duration": 648,
    "start_time": "2023-10-04T14:26:30.338Z"
   },
   {
    "duration": 9,
    "start_time": "2023-10-04T14:26:30.987Z"
   },
   {
    "duration": 79,
    "start_time": "2023-10-04T14:26:30.998Z"
   },
   {
    "duration": 59,
    "start_time": "2023-10-04T14:26:31.080Z"
   },
   {
    "duration": 72,
    "start_time": "2023-10-04T14:26:31.140Z"
   },
   {
    "duration": 25,
    "start_time": "2023-10-04T14:26:31.214Z"
   },
   {
    "duration": 327,
    "start_time": "2023-10-04T14:26:31.241Z"
   },
   {
    "duration": 515,
    "start_time": "2023-10-04T14:26:31.570Z"
   },
   {
    "duration": 17,
    "start_time": "2023-10-04T14:26:32.087Z"
   },
   {
    "duration": 300,
    "start_time": "2023-10-04T14:26:32.106Z"
   },
   {
    "duration": 7,
    "start_time": "2023-10-04T14:26:32.408Z"
   },
   {
    "duration": 486,
    "start_time": "2023-10-04T14:26:32.418Z"
   },
   {
    "duration": 12,
    "start_time": "2023-10-04T14:26:32.908Z"
   },
   {
    "duration": 422,
    "start_time": "2023-10-04T14:26:32.926Z"
   },
   {
    "duration": 23,
    "start_time": "2023-10-04T14:26:33.349Z"
   },
   {
    "duration": 190,
    "start_time": "2023-10-04T14:26:33.374Z"
   },
   {
    "duration": 32,
    "start_time": "2023-10-04T14:26:33.567Z"
   },
   {
    "duration": 44,
    "start_time": "2023-10-04T14:26:33.601Z"
   },
   {
    "duration": 102,
    "start_time": "2023-10-04T14:26:33.646Z"
   },
   {
    "duration": 1455,
    "start_time": "2023-10-04T14:27:16.919Z"
   },
   {
    "duration": 4,
    "start_time": "2023-10-04T14:27:18.376Z"
   },
   {
    "duration": 932,
    "start_time": "2023-10-04T14:27:18.382Z"
   },
   {
    "duration": 970,
    "start_time": "2023-10-04T14:27:19.318Z"
   },
   {
    "duration": 202,
    "start_time": "2023-10-04T14:27:20.292Z"
   },
   {
    "duration": 10,
    "start_time": "2023-10-04T14:27:20.497Z"
   },
   {
    "duration": 37,
    "start_time": "2023-10-04T14:27:20.509Z"
   },
   {
    "duration": 6,
    "start_time": "2023-10-04T14:27:20.547Z"
   },
   {
    "duration": 8,
    "start_time": "2023-10-04T14:27:20.558Z"
   },
   {
    "duration": 26,
    "start_time": "2023-10-04T14:27:20.571Z"
   },
   {
    "duration": 54,
    "start_time": "2023-10-04T14:27:20.600Z"
   },
   {
    "duration": 59,
    "start_time": "2023-10-04T14:27:20.656Z"
   },
   {
    "duration": 941,
    "start_time": "2023-10-04T14:27:20.718Z"
   },
   {
    "duration": 10,
    "start_time": "2023-10-04T14:27:21.662Z"
   },
   {
    "duration": 18,
    "start_time": "2023-10-04T14:27:21.675Z"
   },
   {
    "duration": 28,
    "start_time": "2023-10-04T14:27:21.695Z"
   },
   {
    "duration": 39,
    "start_time": "2023-10-04T14:27:21.726Z"
   },
   {
    "duration": 13,
    "start_time": "2023-10-04T14:27:21.768Z"
   },
   {
    "duration": 34,
    "start_time": "2023-10-04T14:27:21.783Z"
   },
   {
    "duration": 15,
    "start_time": "2023-10-04T14:27:21.819Z"
   },
   {
    "duration": 91,
    "start_time": "2023-10-04T14:27:21.836Z"
   },
   {
    "duration": 23,
    "start_time": "2023-10-04T14:27:21.929Z"
   },
   {
    "duration": 115,
    "start_time": "2023-10-04T14:27:21.954Z"
   },
   {
    "duration": 87,
    "start_time": "2023-10-04T14:27:22.071Z"
   },
   {
    "duration": 60,
    "start_time": "2023-10-04T14:27:22.161Z"
   },
   {
    "duration": 7,
    "start_time": "2023-10-04T14:27:22.224Z"
   },
   {
    "duration": 21,
    "start_time": "2023-10-04T14:27:22.234Z"
   },
   {
    "duration": 650,
    "start_time": "2023-10-04T14:27:22.261Z"
   },
   {
    "duration": 10,
    "start_time": "2023-10-04T14:27:22.914Z"
   },
   {
    "duration": 37,
    "start_time": "2023-10-04T14:27:22.926Z"
   },
   {
    "duration": 31,
    "start_time": "2023-10-04T14:27:22.965Z"
   },
   {
    "duration": 38,
    "start_time": "2023-10-04T14:27:22.998Z"
   },
   {
    "duration": 9,
    "start_time": "2023-10-04T14:27:23.038Z"
   },
   {
    "duration": 367,
    "start_time": "2023-10-04T14:27:23.049Z"
   },
   {
    "duration": 883,
    "start_time": "2023-10-04T14:27:23.418Z"
   },
   {
    "duration": 14,
    "start_time": "2023-10-04T14:27:24.304Z"
   },
   {
    "duration": 248,
    "start_time": "2023-10-04T14:27:24.320Z"
   },
   {
    "duration": 5,
    "start_time": "2023-10-04T14:27:24.570Z"
   },
   {
    "duration": 415,
    "start_time": "2023-10-04T14:27:24.577Z"
   },
   {
    "duration": 16,
    "start_time": "2023-10-04T14:27:24.994Z"
   },
   {
    "duration": 466,
    "start_time": "2023-10-04T14:27:25.013Z"
   },
   {
    "duration": 24,
    "start_time": "2023-10-04T14:27:25.481Z"
   },
   {
    "duration": 240,
    "start_time": "2023-10-04T14:27:25.507Z"
   },
   {
    "duration": 35,
    "start_time": "2023-10-04T14:27:25.749Z"
   },
   {
    "duration": 60,
    "start_time": "2023-10-04T14:27:25.786Z"
   },
   {
    "duration": 135,
    "start_time": "2023-10-04T14:27:25.848Z"
   },
   {
    "duration": 27,
    "start_time": "2023-10-04T14:34:45.868Z"
   },
   {
    "duration": 43,
    "start_time": "2023-10-04T14:38:43.144Z"
   },
   {
    "duration": 27,
    "start_time": "2023-10-04T14:41:16.473Z"
   },
   {
    "duration": 132,
    "start_time": "2023-10-04T14:43:48.881Z"
   },
   {
    "duration": 397,
    "start_time": "2023-10-04T14:44:07.010Z"
   },
   {
    "duration": 439,
    "start_time": "2023-10-04T14:46:03.071Z"
   },
   {
    "duration": 355,
    "start_time": "2023-10-04T14:46:28.377Z"
   },
   {
    "duration": 427,
    "start_time": "2023-10-04T14:47:14.067Z"
   },
   {
    "duration": 1392,
    "start_time": "2023-10-04T14:54:01.604Z"
   },
   {
    "duration": 4,
    "start_time": "2023-10-04T14:54:02.998Z"
   },
   {
    "duration": 725,
    "start_time": "2023-10-04T14:54:03.003Z"
   },
   {
    "duration": 774,
    "start_time": "2023-10-04T14:54:03.730Z"
   },
   {
    "duration": 153,
    "start_time": "2023-10-04T14:54:04.506Z"
   },
   {
    "duration": 13,
    "start_time": "2023-10-04T14:54:04.668Z"
   },
   {
    "duration": 21,
    "start_time": "2023-10-04T14:54:04.683Z"
   },
   {
    "duration": 15,
    "start_time": "2023-10-04T14:54:04.706Z"
   },
   {
    "duration": 19,
    "start_time": "2023-10-04T14:54:04.723Z"
   },
   {
    "duration": 26,
    "start_time": "2023-10-04T14:54:04.744Z"
   },
   {
    "duration": 38,
    "start_time": "2023-10-04T14:54:04.776Z"
   },
   {
    "duration": 56,
    "start_time": "2023-10-04T14:54:04.815Z"
   },
   {
    "duration": 891,
    "start_time": "2023-10-04T14:54:04.879Z"
   },
   {
    "duration": 8,
    "start_time": "2023-10-04T14:54:05.774Z"
   },
   {
    "duration": 22,
    "start_time": "2023-10-04T14:54:05.783Z"
   },
   {
    "duration": 34,
    "start_time": "2023-10-04T14:54:05.806Z"
   },
   {
    "duration": 28,
    "start_time": "2023-10-04T14:54:05.842Z"
   },
   {
    "duration": 14,
    "start_time": "2023-10-04T14:54:05.872Z"
   },
   {
    "duration": 36,
    "start_time": "2023-10-04T14:54:05.888Z"
   },
   {
    "duration": 8,
    "start_time": "2023-10-04T14:54:05.926Z"
   },
   {
    "duration": 12,
    "start_time": "2023-10-04T14:54:05.935Z"
   },
   {
    "duration": 90,
    "start_time": "2023-10-04T14:54:05.951Z"
   },
   {
    "duration": 20,
    "start_time": "2023-10-04T14:54:06.043Z"
   },
   {
    "duration": 60,
    "start_time": "2023-10-04T14:54:06.065Z"
   },
   {
    "duration": 46,
    "start_time": "2023-10-04T14:54:06.126Z"
   },
   {
    "duration": 21,
    "start_time": "2023-10-04T14:54:06.177Z"
   },
   {
    "duration": 7,
    "start_time": "2023-10-04T14:54:06.200Z"
   },
   {
    "duration": 18,
    "start_time": "2023-10-04T14:54:06.209Z"
   },
   {
    "duration": 758,
    "start_time": "2023-10-04T14:54:06.229Z"
   },
   {
    "duration": 9,
    "start_time": "2023-10-04T14:54:06.989Z"
   },
   {
    "duration": 17,
    "start_time": "2023-10-04T14:54:07.000Z"
   },
   {
    "duration": 46,
    "start_time": "2023-10-04T14:54:07.020Z"
   },
   {
    "duration": 33,
    "start_time": "2023-10-04T14:54:07.072Z"
   },
   {
    "duration": 3,
    "start_time": "2023-10-04T14:54:07.107Z"
   },
   {
    "duration": 248,
    "start_time": "2023-10-04T14:54:07.112Z"
   },
   {
    "duration": 482,
    "start_time": "2023-10-04T14:54:07.362Z"
   },
   {
    "duration": 15,
    "start_time": "2023-10-04T14:54:07.846Z"
   },
   {
    "duration": 209,
    "start_time": "2023-10-04T14:54:07.865Z"
   },
   {
    "duration": 6,
    "start_time": "2023-10-04T14:54:08.078Z"
   },
   {
    "duration": 423,
    "start_time": "2023-10-04T14:54:08.085Z"
   },
   {
    "duration": 366,
    "start_time": "2023-10-04T14:54:08.512Z"
   },
   {
    "duration": 16,
    "start_time": "2023-10-04T14:54:08.880Z"
   },
   {
    "duration": 426,
    "start_time": "2023-10-04T14:54:08.898Z"
   },
   {
    "duration": 40,
    "start_time": "2023-10-04T14:54:09.326Z"
   },
   {
    "duration": 190,
    "start_time": "2023-10-04T14:54:09.375Z"
   },
   {
    "duration": 26,
    "start_time": "2023-10-04T14:54:09.567Z"
   },
   {
    "duration": 9,
    "start_time": "2023-10-04T14:54:09.595Z"
   },
   {
    "duration": 165,
    "start_time": "2023-10-04T14:54:09.606Z"
   },
   {
    "duration": 607,
    "start_time": "2023-10-04T14:56:04.630Z"
   },
   {
    "duration": 1434,
    "start_time": "2023-10-04T16:00:04.476Z"
   },
   {
    "duration": 4,
    "start_time": "2023-10-04T16:00:05.912Z"
   },
   {
    "duration": 781,
    "start_time": "2023-10-04T16:00:05.918Z"
   },
   {
    "duration": 652,
    "start_time": "2023-10-04T16:00:06.701Z"
   },
   {
    "duration": 151,
    "start_time": "2023-10-04T16:00:07.355Z"
   },
   {
    "duration": 7,
    "start_time": "2023-10-04T16:00:07.509Z"
   },
   {
    "duration": 33,
    "start_time": "2023-10-04T16:00:07.517Z"
   },
   {
    "duration": 9,
    "start_time": "2023-10-04T16:00:07.552Z"
   },
   {
    "duration": 34,
    "start_time": "2023-10-04T16:00:07.563Z"
   },
   {
    "duration": 24,
    "start_time": "2023-10-04T16:00:07.600Z"
   },
   {
    "duration": 36,
    "start_time": "2023-10-04T16:00:07.626Z"
   },
   {
    "duration": 40,
    "start_time": "2023-10-04T16:00:07.664Z"
   },
   {
    "duration": 848,
    "start_time": "2023-10-04T16:00:07.706Z"
   },
   {
    "duration": 8,
    "start_time": "2023-10-04T16:00:08.556Z"
   },
   {
    "duration": 29,
    "start_time": "2023-10-04T16:00:08.566Z"
   },
   {
    "duration": 32,
    "start_time": "2023-10-04T16:00:08.597Z"
   },
   {
    "duration": 14,
    "start_time": "2023-10-04T16:00:08.631Z"
   },
   {
    "duration": 27,
    "start_time": "2023-10-04T16:00:08.647Z"
   },
   {
    "duration": 28,
    "start_time": "2023-10-04T16:00:08.676Z"
   },
   {
    "duration": 6,
    "start_time": "2023-10-04T16:00:08.706Z"
   },
   {
    "duration": 24,
    "start_time": "2023-10-04T16:00:08.714Z"
   },
   {
    "duration": 74,
    "start_time": "2023-10-04T16:00:08.740Z"
   },
   {
    "duration": 13,
    "start_time": "2023-10-04T16:00:08.816Z"
   },
   {
    "duration": 48,
    "start_time": "2023-10-04T16:00:08.832Z"
   },
   {
    "duration": 51,
    "start_time": "2023-10-04T16:00:08.882Z"
   },
   {
    "duration": 130,
    "start_time": "2023-10-04T16:00:08.935Z"
   },
   {
    "duration": 10,
    "start_time": "2023-10-04T16:00:09.067Z"
   },
   {
    "duration": 22,
    "start_time": "2023-10-04T16:00:09.082Z"
   },
   {
    "duration": 661,
    "start_time": "2023-10-04T16:00:09.106Z"
   },
   {
    "duration": 7,
    "start_time": "2023-10-04T16:00:09.768Z"
   },
   {
    "duration": 13,
    "start_time": "2023-10-04T16:00:09.777Z"
   },
   {
    "duration": 30,
    "start_time": "2023-10-04T16:00:09.792Z"
   },
   {
    "duration": 46,
    "start_time": "2023-10-04T16:00:09.824Z"
   },
   {
    "duration": 21,
    "start_time": "2023-10-04T16:00:09.871Z"
   },
   {
    "duration": 259,
    "start_time": "2023-10-04T16:00:09.894Z"
   },
   {
    "duration": 502,
    "start_time": "2023-10-04T16:00:10.154Z"
   },
   {
    "duration": 11,
    "start_time": "2023-10-04T16:00:10.658Z"
   },
   {
    "duration": 207,
    "start_time": "2023-10-04T16:00:10.671Z"
   },
   {
    "duration": 5,
    "start_time": "2023-10-04T16:00:10.880Z"
   },
   {
    "duration": 430,
    "start_time": "2023-10-04T16:00:10.887Z"
   },
   {
    "duration": 349,
    "start_time": "2023-10-04T16:00:11.319Z"
   },
   {
    "duration": 12,
    "start_time": "2023-10-04T16:00:11.669Z"
   },
   {
    "duration": 416,
    "start_time": "2023-10-04T16:00:11.683Z"
   },
   {
    "duration": 27,
    "start_time": "2023-10-04T16:00:12.100Z"
   },
   {
    "duration": 887,
    "start_time": "2023-10-04T16:00:12.129Z"
   },
   {
    "duration": 20,
    "start_time": "2023-10-04T16:00:13.017Z"
   },
   {
    "duration": 6,
    "start_time": "2023-10-04T16:00:13.039Z"
   },
   {
    "duration": 214,
    "start_time": "2023-10-04T16:00:13.047Z"
   },
   {
    "duration": 1197,
    "start_time": "2023-12-18T22:32:24.587Z"
   },
   {
    "duration": 3,
    "start_time": "2023-12-18T22:32:25.786Z"
   },
   {
    "duration": 871,
    "start_time": "2023-12-18T22:32:25.790Z"
   },
   {
    "duration": 552,
    "start_time": "2023-12-18T22:32:26.663Z"
   },
   {
    "duration": 127,
    "start_time": "2023-12-18T22:32:27.217Z"
   },
   {
    "duration": 7,
    "start_time": "2023-12-18T22:32:27.345Z"
   },
   {
    "duration": 8,
    "start_time": "2023-12-18T22:32:27.353Z"
   },
   {
    "duration": 4,
    "start_time": "2023-12-18T22:32:27.362Z"
   },
   {
    "duration": 4,
    "start_time": "2023-12-18T22:32:27.388Z"
   },
   {
    "duration": 8,
    "start_time": "2023-12-18T22:32:27.394Z"
   },
   {
    "duration": 18,
    "start_time": "2023-12-18T22:32:27.403Z"
   },
   {
    "duration": 28,
    "start_time": "2023-12-18T22:32:27.423Z"
   },
   {
    "duration": 774,
    "start_time": "2023-12-18T22:32:27.453Z"
   },
   {
    "duration": 6,
    "start_time": "2023-12-18T22:32:28.228Z"
   },
   {
    "duration": 19,
    "start_time": "2023-12-18T22:32:28.236Z"
   },
   {
    "duration": 14,
    "start_time": "2023-12-18T22:32:28.257Z"
   },
   {
    "duration": 10,
    "start_time": "2023-12-18T22:32:28.272Z"
   },
   {
    "duration": 15,
    "start_time": "2023-12-18T22:32:28.283Z"
   },
   {
    "duration": 34,
    "start_time": "2023-12-18T22:32:28.299Z"
   },
   {
    "duration": 15,
    "start_time": "2023-12-18T22:32:28.335Z"
   },
   {
    "duration": 6,
    "start_time": "2023-12-18T22:32:28.352Z"
   },
   {
    "duration": 47,
    "start_time": "2023-12-18T22:32:28.359Z"
   },
   {
    "duration": 20,
    "start_time": "2023-12-18T22:32:28.408Z"
   },
   {
    "duration": 34,
    "start_time": "2023-12-18T22:32:28.429Z"
   },
   {
    "duration": 28,
    "start_time": "2023-12-18T22:32:28.464Z"
   },
   {
    "duration": 24,
    "start_time": "2023-12-18T22:32:28.493Z"
   },
   {
    "duration": 4,
    "start_time": "2023-12-18T22:32:28.519Z"
   },
   {
    "duration": 6,
    "start_time": "2023-12-18T22:32:28.526Z"
   },
   {
    "duration": 574,
    "start_time": "2023-12-18T22:32:28.533Z"
   },
   {
    "duration": 5,
    "start_time": "2023-12-18T22:32:29.109Z"
   },
   {
    "duration": 9,
    "start_time": "2023-12-18T22:32:29.116Z"
   },
   {
    "duration": 13,
    "start_time": "2023-12-18T22:32:29.127Z"
   },
   {
    "duration": 20,
    "start_time": "2023-12-18T22:32:29.142Z"
   },
   {
    "duration": 3,
    "start_time": "2023-12-18T22:32:29.188Z"
   },
   {
    "duration": 225,
    "start_time": "2023-12-18T22:32:29.193Z"
   },
   {
    "duration": 426,
    "start_time": "2023-12-18T22:32:29.419Z"
   },
   {
    "duration": 10,
    "start_time": "2023-12-18T22:32:29.847Z"
   },
   {
    "duration": 191,
    "start_time": "2023-12-18T22:32:29.858Z"
   },
   {
    "duration": 5,
    "start_time": "2023-12-18T22:32:30.050Z"
   },
   {
    "duration": 422,
    "start_time": "2023-12-18T22:32:30.056Z"
   },
   {
    "duration": 310,
    "start_time": "2023-12-18T22:32:30.480Z"
   },
   {
    "duration": 10,
    "start_time": "2023-12-18T22:32:30.792Z"
   },
   {
    "duration": 415,
    "start_time": "2023-12-18T22:32:30.803Z"
   },
   {
    "duration": 21,
    "start_time": "2023-12-18T22:32:31.219Z"
   },
   {
    "duration": 155,
    "start_time": "2023-12-18T22:32:31.242Z"
   },
   {
    "duration": 20,
    "start_time": "2023-12-18T22:32:31.399Z"
   },
   {
    "duration": 18,
    "start_time": "2023-12-18T22:32:31.421Z"
   },
   {
    "duration": 48,
    "start_time": "2023-12-18T22:32:31.487Z"
   },
   {
    "duration": 1426,
    "start_time": "2023-12-19T12:27:26.157Z"
   },
   {
    "duration": 4,
    "start_time": "2023-12-19T12:27:27.585Z"
   },
   {
    "duration": 2083,
    "start_time": "2023-12-19T12:27:27.590Z"
   },
   {
    "duration": 658,
    "start_time": "2023-12-19T12:27:29.676Z"
   },
   {
    "duration": 136,
    "start_time": "2023-12-19T12:27:30.336Z"
   },
   {
    "duration": 8,
    "start_time": "2023-12-19T12:27:30.474Z"
   },
   {
    "duration": 131,
    "start_time": "2023-12-19T12:27:30.484Z"
   },
   {
    "duration": 70,
    "start_time": "2023-12-19T12:27:30.617Z"
   },
   {
    "duration": 118,
    "start_time": "2023-12-19T12:27:30.689Z"
   },
   {
    "duration": 85,
    "start_time": "2023-12-19T12:27:30.810Z"
   },
   {
    "duration": 83,
    "start_time": "2023-12-19T12:27:30.897Z"
   },
   {
    "duration": 88,
    "start_time": "2023-12-19T12:27:30.982Z"
   },
   {
    "duration": 968,
    "start_time": "2023-12-19T12:27:31.072Z"
   },
   {
    "duration": 7,
    "start_time": "2023-12-19T12:27:32.042Z"
   },
   {
    "duration": 40,
    "start_time": "2023-12-19T12:27:32.051Z"
   },
   {
    "duration": 42,
    "start_time": "2023-12-19T12:27:32.093Z"
   },
   {
    "duration": 29,
    "start_time": "2023-12-19T12:27:32.137Z"
   },
   {
    "duration": 26,
    "start_time": "2023-12-19T12:27:32.168Z"
   },
   {
    "duration": 56,
    "start_time": "2023-12-19T12:27:32.196Z"
   },
   {
    "duration": 36,
    "start_time": "2023-12-19T12:27:32.254Z"
   },
   {
    "duration": 67,
    "start_time": "2023-12-19T12:27:32.292Z"
   },
   {
    "duration": 94,
    "start_time": "2023-12-19T12:27:32.361Z"
   },
   {
    "duration": 42,
    "start_time": "2023-12-19T12:27:32.457Z"
   },
   {
    "duration": 87,
    "start_time": "2023-12-19T12:27:32.501Z"
   },
   {
    "duration": 65,
    "start_time": "2023-12-19T12:27:32.590Z"
   },
   {
    "duration": 55,
    "start_time": "2023-12-19T12:27:32.657Z"
   },
   {
    "duration": 13,
    "start_time": "2023-12-19T12:27:32.714Z"
   },
   {
    "duration": 27,
    "start_time": "2023-12-19T12:27:32.732Z"
   },
   {
    "duration": 644,
    "start_time": "2023-12-19T12:27:32.761Z"
   },
   {
    "duration": 11,
    "start_time": "2023-12-19T12:27:33.407Z"
   },
   {
    "duration": 33,
    "start_time": "2023-12-19T12:27:33.420Z"
   },
   {
    "duration": 37,
    "start_time": "2023-12-19T12:27:33.454Z"
   },
   {
    "duration": 25,
    "start_time": "2023-12-19T12:27:33.493Z"
   },
   {
    "duration": 29,
    "start_time": "2023-12-19T12:27:33.520Z"
   },
   {
    "duration": 233,
    "start_time": "2023-12-19T12:27:33.550Z"
   },
   {
    "duration": 500,
    "start_time": "2023-12-19T12:27:33.785Z"
   },
   {
    "duration": 12,
    "start_time": "2023-12-19T12:27:34.287Z"
   },
   {
    "duration": 202,
    "start_time": "2023-12-19T12:27:34.300Z"
   },
   {
    "duration": 11,
    "start_time": "2023-12-19T12:27:34.504Z"
   },
   {
    "duration": 453,
    "start_time": "2023-12-19T12:27:34.516Z"
   },
   {
    "duration": 358,
    "start_time": "2023-12-19T12:27:34.971Z"
   },
   {
    "duration": 11,
    "start_time": "2023-12-19T12:27:35.330Z"
   },
   {
    "duration": 424,
    "start_time": "2023-12-19T12:27:35.343Z"
   },
   {
    "duration": 25,
    "start_time": "2023-12-19T12:27:35.769Z"
   },
   {
    "duration": 205,
    "start_time": "2023-12-19T12:27:35.796Z"
   },
   {
    "duration": 0,
    "start_time": "2023-12-19T12:27:36.003Z"
   },
   {
    "duration": 0,
    "start_time": "2023-12-19T12:27:36.005Z"
   },
   {
    "duration": 0,
    "start_time": "2023-12-19T12:27:36.006Z"
   },
   {
    "duration": 6965,
    "start_time": "2023-12-19T12:28:11.076Z"
   },
   {
    "duration": 36,
    "start_time": "2023-12-19T12:28:23.119Z"
   },
   {
    "duration": 25,
    "start_time": "2023-12-19T12:28:25.823Z"
   },
   {
    "duration": 1253,
    "start_time": "2023-12-19T12:28:38.037Z"
   },
   {
    "duration": 4,
    "start_time": "2023-12-19T12:28:39.292Z"
   },
   {
    "duration": 682,
    "start_time": "2023-12-19T12:28:39.298Z"
   },
   {
    "duration": 674,
    "start_time": "2023-12-19T12:28:39.982Z"
   },
   {
    "duration": 143,
    "start_time": "2023-12-19T12:28:40.658Z"
   },
   {
    "duration": 12,
    "start_time": "2023-12-19T12:28:40.803Z"
   },
   {
    "duration": 23,
    "start_time": "2023-12-19T12:28:40.816Z"
   },
   {
    "duration": 11,
    "start_time": "2023-12-19T12:28:40.841Z"
   },
   {
    "duration": 22,
    "start_time": "2023-12-19T12:28:40.853Z"
   },
   {
    "duration": 14,
    "start_time": "2023-12-19T12:28:40.878Z"
   },
   {
    "duration": 23,
    "start_time": "2023-12-19T12:28:40.893Z"
   },
   {
    "duration": 33,
    "start_time": "2023-12-19T12:28:40.918Z"
   },
   {
    "duration": 862,
    "start_time": "2023-12-19T12:28:40.953Z"
   },
   {
    "duration": 6,
    "start_time": "2023-12-19T12:28:41.817Z"
   },
   {
    "duration": 44,
    "start_time": "2023-12-19T12:28:41.825Z"
   },
   {
    "duration": 30,
    "start_time": "2023-12-19T12:28:41.871Z"
   },
   {
    "duration": 20,
    "start_time": "2023-12-19T12:28:41.903Z"
   },
   {
    "duration": 11,
    "start_time": "2023-12-19T12:28:41.926Z"
   },
   {
    "duration": 27,
    "start_time": "2023-12-19T12:28:41.939Z"
   },
   {
    "duration": 8,
    "start_time": "2023-12-19T12:28:41.968Z"
   },
   {
    "duration": 11,
    "start_time": "2023-12-19T12:28:41.977Z"
   },
   {
    "duration": 78,
    "start_time": "2023-12-19T12:28:41.989Z"
   },
   {
    "duration": 13,
    "start_time": "2023-12-19T12:28:42.069Z"
   },
   {
    "duration": 68,
    "start_time": "2023-12-19T12:28:42.084Z"
   },
   {
    "duration": 47,
    "start_time": "2023-12-19T12:28:42.154Z"
   },
   {
    "duration": 34,
    "start_time": "2023-12-19T12:28:42.203Z"
   },
   {
    "duration": 10,
    "start_time": "2023-12-19T12:28:42.239Z"
   },
   {
    "duration": 40,
    "start_time": "2023-12-19T12:28:42.253Z"
   },
   {
    "duration": 664,
    "start_time": "2023-12-19T12:28:42.294Z"
   },
   {
    "duration": 7,
    "start_time": "2023-12-19T12:28:42.959Z"
   },
   {
    "duration": 48,
    "start_time": "2023-12-19T12:28:42.968Z"
   },
   {
    "duration": 34,
    "start_time": "2023-12-19T12:28:43.017Z"
   },
   {
    "duration": 29,
    "start_time": "2023-12-19T12:28:43.057Z"
   },
   {
    "duration": 4,
    "start_time": "2023-12-19T12:28:43.088Z"
   },
   {
    "duration": 238,
    "start_time": "2023-12-19T12:28:43.094Z"
   },
   {
    "duration": 469,
    "start_time": "2023-12-19T12:28:43.334Z"
   },
   {
    "duration": 22,
    "start_time": "2023-12-19T12:28:43.805Z"
   },
   {
    "duration": 242,
    "start_time": "2023-12-19T12:28:43.829Z"
   },
   {
    "duration": 6,
    "start_time": "2023-12-19T12:28:44.073Z"
   },
   {
    "duration": 416,
    "start_time": "2023-12-19T12:28:44.081Z"
   },
   {
    "duration": 360,
    "start_time": "2023-12-19T12:28:44.500Z"
   },
   {
    "duration": 12,
    "start_time": "2023-12-19T12:28:44.862Z"
   },
   {
    "duration": 409,
    "start_time": "2023-12-19T12:28:44.876Z"
   },
   {
    "duration": 31,
    "start_time": "2023-12-19T12:28:45.287Z"
   },
   {
    "duration": 2643,
    "start_time": "2023-12-19T12:28:45.321Z"
   },
   {
    "duration": 1049,
    "start_time": "2023-12-19T12:28:47.966Z"
   },
   {
    "duration": 32,
    "start_time": "2023-12-19T12:28:49.017Z"
   },
   {
    "duration": 2354,
    "start_time": "2023-12-19T12:28:49.051Z"
   },
   {
    "duration": 183,
    "start_time": "2023-12-19T12:28:51.407Z"
   },
   {
    "duration": 139,
    "start_time": "2023-12-19T12:30:31.849Z"
   },
   {
    "duration": 80,
    "start_time": "2023-12-19T12:30:39.285Z"
   },
   {
    "duration": 80,
    "start_time": "2023-12-19T12:31:56.105Z"
   },
   {
    "duration": 1244,
    "start_time": "2023-12-19T12:32:13.843Z"
   },
   {
    "duration": 4,
    "start_time": "2023-12-19T12:32:15.090Z"
   },
   {
    "duration": 660,
    "start_time": "2023-12-19T12:32:15.096Z"
   },
   {
    "duration": 660,
    "start_time": "2023-12-19T12:32:15.758Z"
   },
   {
    "duration": 131,
    "start_time": "2023-12-19T12:32:16.420Z"
   },
   {
    "duration": 8,
    "start_time": "2023-12-19T12:32:16.552Z"
   },
   {
    "duration": 15,
    "start_time": "2023-12-19T12:32:16.561Z"
   },
   {
    "duration": 10,
    "start_time": "2023-12-19T12:32:16.578Z"
   },
   {
    "duration": 10,
    "start_time": "2023-12-19T12:32:16.590Z"
   },
   {
    "duration": 26,
    "start_time": "2023-12-19T12:32:16.602Z"
   },
   {
    "duration": 35,
    "start_time": "2023-12-19T12:32:16.629Z"
   },
   {
    "duration": 53,
    "start_time": "2023-12-19T12:32:16.666Z"
   },
   {
    "duration": 827,
    "start_time": "2023-12-19T12:32:16.721Z"
   },
   {
    "duration": 6,
    "start_time": "2023-12-19T12:32:17.552Z"
   },
   {
    "duration": 24,
    "start_time": "2023-12-19T12:32:17.560Z"
   },
   {
    "duration": 76,
    "start_time": "2023-12-19T12:32:17.586Z"
   },
   {
    "duration": 32,
    "start_time": "2023-12-19T12:32:17.664Z"
   },
   {
    "duration": 23,
    "start_time": "2023-12-19T12:32:17.697Z"
   },
   {
    "duration": 39,
    "start_time": "2023-12-19T12:32:17.722Z"
   },
   {
    "duration": 33,
    "start_time": "2023-12-19T12:32:17.763Z"
   },
   {
    "duration": 24,
    "start_time": "2023-12-19T12:32:17.798Z"
   },
   {
    "duration": 106,
    "start_time": "2023-12-19T12:32:17.823Z"
   },
   {
    "duration": 11,
    "start_time": "2023-12-19T12:32:17.931Z"
   },
   {
    "duration": 67,
    "start_time": "2023-12-19T12:32:17.944Z"
   },
   {
    "duration": 40,
    "start_time": "2023-12-19T12:32:18.013Z"
   },
   {
    "duration": 29,
    "start_time": "2023-12-19T12:32:18.054Z"
   },
   {
    "duration": 4,
    "start_time": "2023-12-19T12:32:18.086Z"
   },
   {
    "duration": 8,
    "start_time": "2023-12-19T12:32:18.092Z"
   },
   {
    "duration": 645,
    "start_time": "2023-12-19T12:32:18.102Z"
   },
   {
    "duration": 7,
    "start_time": "2023-12-19T12:32:18.749Z"
   },
   {
    "duration": 33,
    "start_time": "2023-12-19T12:32:18.757Z"
   },
   {
    "duration": 32,
    "start_time": "2023-12-19T12:32:18.792Z"
   },
   {
    "duration": 28,
    "start_time": "2023-12-19T12:32:18.826Z"
   },
   {
    "duration": 12,
    "start_time": "2023-12-19T12:32:18.857Z"
   },
   {
    "duration": 257,
    "start_time": "2023-12-19T12:32:18.871Z"
   },
   {
    "duration": 472,
    "start_time": "2023-12-19T12:32:19.129Z"
   },
   {
    "duration": 15,
    "start_time": "2023-12-19T12:32:19.603Z"
   },
   {
    "duration": 234,
    "start_time": "2023-12-19T12:32:19.619Z"
   },
   {
    "duration": 5,
    "start_time": "2023-12-19T12:32:19.855Z"
   },
   {
    "duration": 387,
    "start_time": "2023-12-19T12:32:19.861Z"
   },
   {
    "duration": 342,
    "start_time": "2023-12-19T12:32:20.251Z"
   },
   {
    "duration": 11,
    "start_time": "2023-12-19T12:32:20.595Z"
   },
   {
    "duration": 454,
    "start_time": "2023-12-19T12:32:20.616Z"
   },
   {
    "duration": 25,
    "start_time": "2023-12-19T12:32:21.072Z"
   },
   {
    "duration": 945,
    "start_time": "2023-12-19T12:32:21.099Z"
   },
   {
    "duration": 29,
    "start_time": "2023-12-19T12:32:22.047Z"
   },
   {
    "duration": 56,
    "start_time": "2023-12-19T12:32:22.077Z"
   },
   {
    "duration": 130,
    "start_time": "2023-12-19T12:32:22.135Z"
   }
  ],
  "kernelspec": {
   "display_name": "Python 3 (ipykernel)",
   "language": "python",
   "name": "python3"
  },
  "language_info": {
   "codemirror_mode": {
    "name": "ipython",
    "version": 3
   },
   "file_extension": ".py",
   "mimetype": "text/x-python",
   "name": "python",
   "nbconvert_exporter": "python",
   "pygments_lexer": "ipython3",
   "version": "3.9.18"
  },
  "toc": {
   "base_numbering": 1,
   "nav_menu": {},
   "number_sections": true,
   "sideBar": true,
   "skip_h1_title": true,
   "title_cell": "Table of Contents",
   "title_sidebar": "Contents",
   "toc_cell": false,
   "toc_position": {
    "height": "calc(100% - 180px)",
    "left": "10px",
    "top": "150px",
    "width": "289.398px"
   },
   "toc_section_display": true,
   "toc_window_display": false
  }
 },
 "nbformat": 4,
 "nbformat_minor": 4
}
